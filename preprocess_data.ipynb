{
 "cells": [
  {
   "cell_type": "code",
   "execution_count": 1,
   "id": "efaf6567",
   "metadata": {},
   "outputs": [
    {
     "name": "stderr",
     "output_type": "stream",
     "text": [
      "[nltk_data] Downloading package stopwords to\n",
      "[nltk_data]     /home/codespace/nltk_data...\n",
      "[nltk_data]   Package stopwords is already up-to-date!\n",
      "[nltk_data] Downloading package stopwords to\n",
      "[nltk_data]     /home/codespace/nltk_data...\n",
      "[nltk_data]   Package stopwords is already up-to-date!\n"
     ]
    },
    {
     "data": {
      "text/plain": [
       "<module 'utilityFunctions' from '/workspaces/mlops-fake-news-prediction/utilityFunctions.py'>"
      ]
     },
     "execution_count": 1,
     "metadata": {},
     "output_type": "execute_result"
    }
   ],
   "source": [
    "import importlib\n",
    "import utilityFunctions\n",
    "importlib.reload(utilityFunctions)"
   ]
  },
  {
   "cell_type": "code",
   "execution_count": 2,
   "id": "7c254004-0221-41c2-a81b-842ccea27eb5",
   "metadata": {},
   "outputs": [],
   "source": [
    "import pandas as pd\n",
    "import boto3\n",
    "import io\n",
    "\n",
    "from sklearn.model_selection import train_test_split\n",
    "\n",
    "from utilityFunctions import clean_data, prepare_features, apply_text_cleaner, remove_outliers, load_file_s3, upload_to_s3"
   ]
  },
  {
   "cell_type": "markdown",
   "id": "6e04ae0a-5967-456d-96c2-318d1cdc1d0e",
   "metadata": {},
   "source": [
    "Load raw dataset"
   ]
  },
  {
   "cell_type": "code",
   "execution_count": 3,
   "id": "be6f5a78-bf3f-4488-b359-6947020005ea",
   "metadata": {},
   "outputs": [
    {
     "data": {
      "text/html": [
       "<div>\n",
       "<style scoped>\n",
       "    .dataframe tbody tr th:only-of-type {\n",
       "        vertical-align: middle;\n",
       "    }\n",
       "\n",
       "    .dataframe tbody tr th {\n",
       "        vertical-align: top;\n",
       "    }\n",
       "\n",
       "    .dataframe thead th {\n",
       "        text-align: right;\n",
       "    }\n",
       "</style>\n",
       "<table border=\"1\" class=\"dataframe\">\n",
       "  <thead>\n",
       "    <tr style=\"text-align: right;\">\n",
       "      <th></th>\n",
       "      <th>Unnamed: 0</th>\n",
       "      <th>title</th>\n",
       "      <th>text</th>\n",
       "      <th>label</th>\n",
       "    </tr>\n",
       "  </thead>\n",
       "  <tbody>\n",
       "    <tr>\n",
       "      <th>0</th>\n",
       "      <td>0</td>\n",
       "      <td>LAW ENFORCEMENT ON HIGH ALERT Following Threat...</td>\n",
       "      <td>No comment is expected from Barack Obama Membe...</td>\n",
       "      <td>1</td>\n",
       "    </tr>\n",
       "    <tr>\n",
       "      <th>1</th>\n",
       "      <td>1</td>\n",
       "      <td>NaN</td>\n",
       "      <td>Did they post their votes for Hillary already?</td>\n",
       "      <td>1</td>\n",
       "    </tr>\n",
       "    <tr>\n",
       "      <th>2</th>\n",
       "      <td>2</td>\n",
       "      <td>UNBELIEVABLE! OBAMA’S ATTORNEY GENERAL SAYS MO...</td>\n",
       "      <td>Now, most of the demonstrators gathered last ...</td>\n",
       "      <td>1</td>\n",
       "    </tr>\n",
       "    <tr>\n",
       "      <th>3</th>\n",
       "      <td>3</td>\n",
       "      <td>Bobby Jindal, raised Hindu, uses story of Chri...</td>\n",
       "      <td>A dozen politically active pastors came here f...</td>\n",
       "      <td>0</td>\n",
       "    </tr>\n",
       "    <tr>\n",
       "      <th>4</th>\n",
       "      <td>4</td>\n",
       "      <td>SATAN 2: Russia unvelis an image of its terrif...</td>\n",
       "      <td>The RS-28 Sarmat missile, dubbed Satan 2, will...</td>\n",
       "      <td>1</td>\n",
       "    </tr>\n",
       "  </tbody>\n",
       "</table>\n",
       "</div>"
      ],
      "text/plain": [
       "   Unnamed: 0                                              title  \\\n",
       "0           0  LAW ENFORCEMENT ON HIGH ALERT Following Threat...   \n",
       "1           1                                                NaN   \n",
       "2           2  UNBELIEVABLE! OBAMA’S ATTORNEY GENERAL SAYS MO...   \n",
       "3           3  Bobby Jindal, raised Hindu, uses story of Chri...   \n",
       "4           4  SATAN 2: Russia unvelis an image of its terrif...   \n",
       "\n",
       "                                                text  label  \n",
       "0  No comment is expected from Barack Obama Membe...      1  \n",
       "1     Did they post their votes for Hillary already?      1  \n",
       "2   Now, most of the demonstrators gathered last ...      1  \n",
       "3  A dozen politically active pastors came here f...      0  \n",
       "4  The RS-28 Sarmat missile, dubbed Satan 2, will...      1  "
      ]
     },
     "execution_count": 3,
     "metadata": {},
     "output_type": "execute_result"
    }
   ],
   "source": [
    "df = load_file_s3('fake-news-prediction', 'datasets/WELFake_Dataset.csv')\n",
    "df.head()"
   ]
  },
  {
   "cell_type": "markdown",
   "id": "79794e8e-b8cc-4740-a839-b6ee7b9388b4",
   "metadata": {},
   "source": [
    "Remove duplicates so that they do not end up in the validation and test data set"
   ]
  },
  {
   "cell_type": "code",
   "execution_count": 4,
   "id": "bbe0ec92-b228-441e-9fcb-4038b7b129c6",
   "metadata": {},
   "outputs": [],
   "source": [
    "df = df.drop_duplicates(subset='text').reset_index().drop(columns='index')\n",
    "df = df.drop_duplicates(subset='title').reset_index().drop(columns='index')"
   ]
  },
  {
   "cell_type": "markdown",
   "id": "67525000-eed0-4051-811e-accb64f37d92",
   "metadata": {},
   "source": [
    "Perform train-, val- and test-split"
   ]
  },
  {
   "cell_type": "code",
   "execution_count": 5,
   "id": "57519a28-38e6-48f4-873c-a258e397b488",
   "metadata": {},
   "outputs": [],
   "source": [
    "X = df.drop(columns='label')\n",
    "y = df.loc[:, 'label']\n",
    "\n",
    "X_train, X_test, y_train, y_test = train_test_split(X, \n",
    "                                                    y, \n",
    "                                                    test_size=0.2, \n",
    "                                                    random_state=42)\n",
    "\n",
    "X_train, X_val, y_train, y_val = train_test_split(X_train, \n",
    "                                                    y_train, \n",
    "                                                    test_size=0.25, \n",
    "                                                    random_state=42)"
   ]
  },
  {
   "cell_type": "markdown",
   "id": "c9afe0d1-4521-43d0-8ef2-6010af796d64",
   "metadata": {},
   "source": [
    "clean data: drop unused column 'Unnamed: 0', reverse labels into: fake=1, real=0, fill Nan-values with an empty string\n",
    "\n",
    "prepare features: Create new features\n",
    "- title_text: concatenate columns title and text\n",
    "- text_word_count: # of words in text column\n",
    "- title_word_count: # of words in title column\n",
    "- text_unique_words: # of uniqe words in text column\n",
    "- text_char_count: # of characters in text column\n",
    "- title_char_count: # of characters in title column\n",
    "- avg_word_length: average word length in text column\n",
    "- sentence_count: # of sentences in text column\n",
    "- special_char_count: # of special characters in text column\n",
    "- language: estimated language for text column"
   ]
  },
  {
   "cell_type": "code",
   "execution_count": 6,
   "id": "2053d596-b51a-4a5f-a754-dc227fb7dd0a",
   "metadata": {},
   "outputs": [],
   "source": [
    "X_train, y_train = clean_data(X_train, y_train)\n",
    "X_val, y_val = clean_data(X_val, y_val)\n",
    "X_test, y_test = clean_data(X_test, y_test)\n",
    "\n",
    "X_train = prepare_features(X_train)\n",
    "X_val = prepare_features(X_val)\n",
    "X_test = prepare_features(X_test)"
   ]
  },
  {
   "cell_type": "markdown",
   "id": "e825628d-d8b8-4989-b926-1d77074451c4",
   "metadata": {},
   "source": [
    "Apply text cleaner: Using NLP-Steps include Lemmatization, removing stop words, removing punctuations and substitute multiple spaces or dots to single space. Returns new column 'title_text_clean' to DataFrame with the cleaned text."
   ]
  },
  {
   "cell_type": "code",
   "execution_count": 7,
   "id": "5122d6c0-715e-4be6-a10b-a6d92785815f",
   "metadata": {},
   "outputs": [
    {
     "name": "stderr",
     "output_type": "stream",
     "text": [
      "Progress: 100%|██████████| 36840/36840 [46:29<00:00, 13.21it/s]  \n",
      "Progress: 100%|██████████| 12280/12280 [15:21<00:00, 13.33it/s]\n",
      "Progress: 100%|██████████| 12281/12281 [16:04<00:00, 12.73it/s]\n"
     ]
    }
   ],
   "source": [
    "X_train = apply_text_cleaner(X_train, column='title_text')\n",
    "X_val = apply_text_cleaner(X_val, column='title_text')\n",
    "X_test = apply_text_cleaner(X_test, column='title_text')"
   ]
  },
  {
   "cell_type": "code",
   "execution_count": 8,
   "id": "c98d769f",
   "metadata": {},
   "outputs": [],
   "source": [
    "# path = 'X_train.parquet'\n",
    "# with open(path, 'wb',) as file:\n",
    "    # df.to_parquet(file, index=False)\n",
    "\n",
    "# print(f\"CSV file was successfully saved under: {path}\")"
   ]
  },
  {
   "cell_type": "markdown",
   "id": "21f018bc",
   "metadata": {},
   "source": [
    "Upload to s3"
   ]
  },
  {
   "cell_type": "code",
   "execution_count": 9,
   "id": "1d255644",
   "metadata": {},
   "outputs": [
    {
     "name": "stdout",
     "output_type": "stream",
     "text": [
      "File saved as datasets/X_train.parquet in fake-news-prediction.\n",
      "File saved as datasets/X_val.parquet in fake-news-prediction.\n",
      "File saved as datasets/X_test.parquet in fake-news-prediction.\n"
     ]
    }
   ],
   "source": [
    "upload_to_s3(X_train, 'fake-news-prediction', \"datasets/X_train.parquet\")\n",
    "upload_to_s3(X_val, 'fake-news-prediction', \"datasets/X_val.parquet\")\n",
    "upload_to_s3(X_test, 'fake-news-prediction', \"datasets/X_test.parquet\")"
   ]
  },
  {
   "cell_type": "code",
   "execution_count": 10,
   "id": "df9325f4",
   "metadata": {},
   "outputs": [
    {
     "name": "stdout",
     "output_type": "stream",
     "text": [
      "File saved as datasets/y_train.csv in fake-news-prediction.\n",
      "File saved as datasets/y_val.csv in fake-news-prediction.\n",
      "File saved as datasets/y_test.csv in fake-news-prediction.\n"
     ]
    }
   ],
   "source": [
    "upload_to_s3(y_train, 'fake-news-prediction', \"datasets/y_train.csv\")\n",
    "upload_to_s3(y_val, 'fake-news-prediction', \"datasets/y_val.csv\")\n",
    "upload_to_s3(y_test, 'fake-news-prediction', \"datasets/y_test.csv\")"
   ]
  },
  {
   "cell_type": "markdown",
   "id": "4642ea0c",
   "metadata": {},
   "source": [
    "Removes outliers from a DataFrame using the Median Absolute Deviation (MAD).\n",
    "\n",
    "The threshold value for MAD (default: 3).\n",
    "\n",
    "iterations : Number of iterations to remove outliers step by step (default: 1)."
   ]
  },
  {
   "cell_type": "code",
   "execution_count": 11,
   "id": "0119bf11",
   "metadata": {},
   "outputs": [],
   "source": [
    "# X_train_without_outliers, y_train_without_outliers = remove_outliers(X_train, y_train, num_cols, threshold=3, iterations=1)"
   ]
  }
 ],
 "metadata": {
  "kernelspec": {
   "display_name": "base",
   "language": "python",
   "name": "python3"
  },
  "language_info": {
   "codemirror_mode": {
    "name": "ipython",
    "version": 3
   },
   "file_extension": ".py",
   "mimetype": "text/x-python",
   "name": "python",
   "nbconvert_exporter": "python",
   "pygments_lexer": "ipython3",
   "version": "3.12.2"
  }
 },
 "nbformat": 4,
 "nbformat_minor": 5
}
