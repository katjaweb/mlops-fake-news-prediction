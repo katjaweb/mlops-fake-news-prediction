{
 "cells": [
  {
   "cell_type": "markdown",
   "id": "151981c6-56a3-4968-abac-419f88817f84",
   "metadata": {},
   "source": [
    "# Imports, load features and target"
   ]
  },
  {
   "cell_type": "code",
   "execution_count": 83,
   "id": "99bb5695-0203-4a04-be8b-24ca5f9af13f",
   "metadata": {},
   "outputs": [
    {
     "name": "stderr",
     "output_type": "stream",
     "text": [
      "[nltk_data] Downloading package stopwords to\n",
      "[nltk_data]     /home/codespace/nltk_data...\n",
      "[nltk_data]   Package stopwords is already up-to-date!\n"
     ]
    },
    {
     "data": {
      "text/plain": [
       "<module 'utilityFunctions' from '/workspaces/mlops-fake-news-prediction/utilityFunctions.py'>"
      ]
     },
     "execution_count": 83,
     "metadata": {},
     "output_type": "execute_result"
    }
   ],
   "source": [
    "import importlib\n",
    "import utilityFunctions\n",
    "importlib.reload(utilityFunctions)"
   ]
  },
  {
   "cell_type": "code",
   "execution_count": 1,
   "id": "218eee03-257a-4cef-8771-f32b009d2841",
   "metadata": {},
   "outputs": [
    {
     "name": "stderr",
     "output_type": "stream",
     "text": [
      "[nltk_data] Downloading package stopwords to\n",
      "[nltk_data]     /home/codespace/nltk_data...\n",
      "[nltk_data]   Package stopwords is already up-to-date!\n"
     ]
    }
   ],
   "source": [
    "from sklearn.feature_extraction.text import CountVectorizer\n",
    "from sklearn.feature_extraction.text import TfidfVectorizer\n",
    "from sklearn.compose import ColumnTransformer\n",
    "from sklearn.ensemble import RandomForestClassifier\n",
    "from sklearn.svm import LinearSVC\n",
    "from sklearn.svm import SVC\n",
    "import lightgbm as lgb\n",
    "import xgboost as xgb\n",
    "from xgboost import XGBClassifier\n",
    "from sklearn.model_selection import GridSearchCV, KFold, cross_val_score\n",
    "\n",
    "from utilityFunctions import get_sentiment, test_feature_sets, remove_outliers, evaluate, load_file_s3, upload_to_s3\n",
    "\n",
    "import pandas as pd\n",
    "import mlflow\n",
    "import numpy as np\n",
    "import itertools\n",
    "import time\n",
    "import joblib\n",
    "import matplotlib.pyplot as plt\n",
    "\n",
    "from hyperopt import STATUS_OK, Trials, fmin, hp, tpe\n",
    "from hyperopt.pyll.base import scope\n",
    "from sklearn.metrics import accuracy_score, precision_score, recall_score, classification_report"
   ]
  },
  {
   "cell_type": "code",
   "execution_count": 2,
   "id": "7788ee69",
   "metadata": {},
   "outputs": [],
   "source": [
    "X_train = load_file_s3('fake-news-prediction', 'datasets/X_train.parquet', 'parquet')\n",
    "X_val = load_file_s3('fake-news-prediction', 'datasets/X_val.parquet', 'parquet')\n",
    "\n",
    "y_train = load_file_s3('fake-news-prediction', 'datasets/y_train.csv', 'csv')\n",
    "y_val = load_file_s3('fake-news-prediction', 'datasets/y_val.csv', 'csv')"
   ]
  },
  {
   "cell_type": "code",
   "execution_count": 3,
   "id": "57ee044c-6843-42b2-bb17-b2ea898af8fd",
   "metadata": {},
   "outputs": [],
   "source": [
    "# Add new feature sentiment scores\n",
    "X_train['sentiment'] = X_train['text'].apply(get_sentiment)\n",
    "X_val['sentiment'] = X_val['text'].apply(get_sentiment)"
   ]
  },
  {
   "cell_type": "code",
   "execution_count": 4,
   "id": "3fdf8933",
   "metadata": {},
   "outputs": [],
   "source": [
    "y_train = y_train.loc[:, 'label']\n",
    "y_val = y_val.loc[:, 'label']"
   ]
  },
  {
   "cell_type": "code",
   "execution_count": 5,
   "id": "314e8e28-199b-4f07-9ac4-5ea1b72e80de",
   "metadata": {},
   "outputs": [],
   "source": [
    "num_cols = X_train.select_dtypes(include=['number']).columns\n",
    "cat_cols = X_train.select_dtypes(include=['object']).columns"
   ]
  },
  {
   "cell_type": "markdown",
   "id": "8482b6ee-373a-4693-8c3d-72a38391c4e7",
   "metadata": {},
   "source": [
    "# Feature Transformation"
   ]
  },
  {
   "cell_type": "markdown",
   "id": "46eaf149-3a52-4c3a-b5cf-90849c42c944",
   "metadata": {},
   "source": [
    "**Description of the Feature Transformation Code**\n",
    "\n",
    "When training a model, the choice of features plays a crucial role. In this code, different feature sets are created and tested to find out which combination yields the best results.\n",
    "\n",
    "The features consist of:\n",
    "- **Bag-of-Words (BoW)**: A classic method of converting text into a numerical form. It counts how often a word appears in a document.\n",
    "- **TF-IDF (Term Frequency - Inverse Document Frequency)**: An alternative method that not only considers the frequency of a word but also its relevance across the entire corpus.\n",
    "- **Numerical Features**: In addition to the text data, the dataset contains numerical columns that describe various properties of the text, such as word count or average word length.\n",
    "\n",
    "**Four Different Feature Sets**\n",
    "\n",
    "The code tests four different combinations of features:\n",
    "\n",
    "BoW Only (bow_only):\n",
    "- The text column (title_text_clean) is converted into a numerical representation using CountVectorizer().\n",
    "- All other columns are ignored.\n",
    "\n",
    "TF-IDF Only (tfidf_only):\n",
    "- Similar to bow_only, but uses TfidfVectorizer() to weight the importance of words.\n",
    "\n",
    "BoW + Numerical Features (bow_num):\n",
    "- The text column is vectorized using CountVectorizer().\n",
    "- The numerical columns are left unchanged.\n",
    "\n",
    "TF-IDF + Numerical Features (tfidf_num):\n",
    "- The text column is vectorized using TfidfVectorizer().\n",
    "- The numerical columns are also included."
   ]
  },
  {
   "cell_type": "code",
   "execution_count": 6,
   "id": "d1cfe5e0-856b-4c4d-8037-fd4584df46da",
   "metadata": {},
   "outputs": [],
   "source": [
    "# BoW only\n",
    "count_vectorizer = CountVectorizer()\n",
    "X_train_bow = count_vectorizer.fit_transform(X_train['title_text_clean'])\n",
    "X_val_bow = count_vectorizer.transform(X_val['title_text_clean'])"
   ]
  },
  {
   "cell_type": "code",
   "execution_count": 6,
   "id": "33fbfc34-1800-4c6c-b9ea-6458ccf51f15",
   "metadata": {},
   "outputs": [
    {
     "name": "stdout",
     "output_type": "stream",
     "text": [
      "X_train_bow Shape: (36840, 173341)\n",
      "y_train Shape: (36840,)\n"
     ]
    }
   ],
   "source": [
    "print(f\"X_train_bow Shape: {X_train_bow.shape}\")  \n",
    "print(f\"y_train Shape: {y_train.shape}\")"
   ]
  },
  {
   "cell_type": "code",
   "execution_count": 5,
   "id": "4912b2b7-5fb2-4dea-9334-4f8c48dadeaf",
   "metadata": {},
   "outputs": [],
   "source": [
    "# TF-IDF only\n",
    "tfidf_vectorizer = TfidfVectorizer()\n",
    "X_train_tfidf = tfidf_vectorizer.fit_transform(X_train['title_text_clean'])\n",
    "X_val_tfidf = tfidf_vectorizer.transform(X_val['title_text_clean'])"
   ]
  },
  {
   "cell_type": "code",
   "execution_count": 8,
   "id": "be39272a-0e5e-4207-addc-094312592226",
   "metadata": {},
   "outputs": [
    {
     "name": "stdout",
     "output_type": "stream",
     "text": [
      "X_train_tfidf Shape: (36840, 173341)\n",
      "y_train Shape: (36840,)\n"
     ]
    }
   ],
   "source": [
    "print(f\"X_train_tfidf Shape: {X_train_tfidf.shape}\")  \n",
    "print(f\"y_train Shape: {y_train.shape}\")"
   ]
  },
  {
   "cell_type": "code",
   "execution_count": 8,
   "id": "929314ad-cd52-4cdf-aaf1-110e2c3bdde6",
   "metadata": {},
   "outputs": [],
   "source": [
    "# from sklearn.compose import ColumnTransformer\n",
    "# from sklearn.preprocessing import StandardScaler, OneHotEncoder\n",
    "# from sklearn.feature_extraction.text import CountVectorizer\n",
    "# from sklearn.pipeline import Pipeline\n",
    "\n",
    "# num_cols = X_train.select_dtypes(include=['number'])\n",
    "# text_col = 'title_text_clean'\n",
    "\n",
    "# preprocessor = ColumnTransformer([\n",
    "#     ('num', StandardScaler(), num_cols),\n",
    "#     ('text', CountVectorizer(), text_col)\n",
    "# ])\n",
    "\n",
    "# X_train_pre = preprocessor.fit_transform(X_train)\n",
    "# X_val_pre = preprocessor.transform(X_val)\n",
    "\n",
    "# print(X_train.toarray())"
   ]
  },
  {
   "cell_type": "code",
   "execution_count": 7,
   "id": "16afe6c7-a411-459b-8702-95ae06257e1c",
   "metadata": {},
   "outputs": [],
   "source": [
    "# BoW + Numerical Features\n",
    "# Drop unused columns\n",
    "X_train_pre = X_train.drop(columns=['text', 'title', 'title_text', 'language'], errors='ignore')\n",
    "X_val_pre = X_val.drop(columns=['text', 'title', 'title_text', 'language'], errors='ignore')\n",
    "\n",
    "# define columns to preprocess\n",
    "num_cols = X_train_pre.select_dtypes(include=['number']).columns.tolist()\n",
    "text_col = 'title_text_clean'\n",
    "\n",
    "# Define preprocessor for Bag of words vectorization (Numerical columns remain unchanged)\n",
    "preprocessor_bow = ColumnTransformer([\n",
    "    ('text', CountVectorizer(), text_col)\n",
    "], remainder='passthrough')\n",
    "\n",
    "# Perform transformation\n",
    "X_train_bow_num = preprocessor_bow.fit_transform(X_train_pre)\n",
    "X_val_bow_num = preprocessor_bow.transform(X_val_pre)"
   ]
  },
  {
   "cell_type": "code",
   "execution_count": 50,
   "id": "67f45f89-7c10-4de4-a783-e71abd96fc98",
   "metadata": {},
   "outputs": [
    {
     "name": "stdout",
     "output_type": "stream",
     "text": [
      "['text__00' 'text__000' 'text__0000' ... 'remainder__sentence_count'\n",
      " 'remainder__special_char_count' 'remainder__sentiment']\n"
     ]
    }
   ],
   "source": [
    "print(preprocessor_bow.get_feature_names_out())"
   ]
  },
  {
   "cell_type": "code",
   "execution_count": 51,
   "id": "97ab84cb-366e-4549-a8bf-e945a5bf9c50",
   "metadata": {},
   "outputs": [
    {
     "name": "stdout",
     "output_type": "stream",
     "text": [
      "Train Shape: (36840, 173341)\n",
      "Validation Shape: (12280, 173341)\n"
     ]
    }
   ],
   "source": [
    "print(\"Train Shape:\", X_train_bow.shape)\n",
    "print(\"Validation Shape:\", X_val_bow.shape)"
   ]
  },
  {
   "cell_type": "code",
   "execution_count": 52,
   "id": "b07c7d77-add5-483b-99b2-a02ab1341629",
   "metadata": {},
   "outputs": [
    {
     "name": "stdout",
     "output_type": "stream",
     "text": [
      "Train Shape: (36840, 173350)\n",
      "Validation Shape: (12280, 173350)\n"
     ]
    }
   ],
   "source": [
    "print(\"Train Shape:\", X_train_bow_num.shape)\n",
    "print(\"Validation Shape:\", X_val_bow_num.shape)"
   ]
  },
  {
   "cell_type": "code",
   "execution_count": 8,
   "id": "be714ab2-f347-40fb-985f-c5da53a4cfc8",
   "metadata": {},
   "outputs": [],
   "source": [
    "# TF-IDF + Numerical Features\n",
    "# Define preprocessor for tfidf vectorization (Numerical columns remain unchanged)\n",
    "preprocessor_tfidf = ColumnTransformer([\n",
    "    ('text', TfidfVectorizer(), text_col)\n",
    "], remainder='passthrough')\n",
    "\n",
    "# Perform transformation\n",
    "X_train_tfidf_num = preprocessor_tfidf.fit_transform(X_train_pre)\n",
    "X_val_tfidf_num = preprocessor_tfidf.transform(X_val_pre)"
   ]
  },
  {
   "cell_type": "code",
   "execution_count": 11,
   "id": "38f80195-f009-49bd-9f92-2f6d6de77ce3",
   "metadata": {},
   "outputs": [
    {
     "data": {
      "text/plain": [
       "scipy.sparse._csr.csr_matrix"
      ]
     },
     "execution_count": 11,
     "metadata": {},
     "output_type": "execute_result"
    }
   ],
   "source": [
    "type(X_train_tfidf_num)"
   ]
  },
  {
   "cell_type": "code",
   "execution_count": 54,
   "id": "24d841b8-c2ea-426f-b866-3807c5512d40",
   "metadata": {},
   "outputs": [
    {
     "name": "stdout",
     "output_type": "stream",
     "text": [
      "Train Shape: (36840, 173341)\n",
      "Validation Shape: (12280, 173341)\n"
     ]
    }
   ],
   "source": [
    "print(\"Train Shape:\", X_train_tfidf.shape)\n",
    "print(\"Validation Shape:\", X_val_tfidf.shape)"
   ]
  },
  {
   "cell_type": "code",
   "execution_count": 55,
   "id": "4f74717f-ef98-4547-9dd5-80a624d29463",
   "metadata": {},
   "outputs": [
    {
     "name": "stdout",
     "output_type": "stream",
     "text": [
      "Train Shape: (36840, 173350)\n",
      "Validation Shape: (12280, 173350)\n"
     ]
    }
   ],
   "source": [
    "print(\"Train Shape:\", X_train_tfidf_num.shape)\n",
    "print(\"Validation Shape:\", X_val_tfidf_num.shape)"
   ]
  },
  {
   "cell_type": "code",
   "execution_count": 9,
   "id": "c92bf97b-1e76-487a-b88a-8854f984338e",
   "metadata": {},
   "outputs": [],
   "source": [
    "feature_sets = {\n",
    "    \"bow_only\": X_train_bow,\n",
    "    \"tfidf_only\": X_train_tfidf,\n",
    "    \"bow_num\": X_train_bow_num,\n",
    "    \"tfidf_num\": X_train_tfidf_num\n",
    "}\n",
    "\n",
    "validation_sets = {\n",
    "    \"bow_only\": X_val_bow,\n",
    "    \"tfidf_only\": X_val_tfidf,\n",
    "    \"bow_num\": X_val_bow_num,\n",
    "    \"tfidf_num\": X_val_tfidf_num\n",
    "}"
   ]
  },
  {
   "cell_type": "markdown",
   "id": "7000803b-86a8-4981-bd09-154e79743953",
   "metadata": {},
   "source": [
    "# Test different feature sets"
   ]
  },
  {
   "cell_type": "markdown",
   "id": "a26de23c-f87d-4fe5-a53b-5e69e17c0dd6",
   "metadata": {},
   "source": [
    "## Train  Random Forest"
   ]
  },
  {
   "cell_type": "code",
   "execution_count": 87,
   "id": "dfada89b-78d2-477e-ba41-61d35727bcd5",
   "metadata": {},
   "outputs": [
    {
     "name": "stdout",
     "output_type": "stream",
     "text": [
      "classification report for feature set: bow_only\n",
      "              precision    recall  f1-score   support\n",
      "\n",
      "        Real      0.936     0.880     0.907      5414\n",
      "        Fake      0.910     0.953     0.931      6866\n",
      "\n",
      "    accuracy                          0.921     12280\n",
      "   macro avg      0.923     0.916     0.919     12280\n",
      "weighted avg      0.921     0.921     0.920     12280\n",
      "\n",
      "classification report for feature set: tfidf_only\n",
      "              precision    recall  f1-score   support\n",
      "\n",
      "        Real      0.925     0.890     0.907      5414\n",
      "        Fake      0.916     0.943     0.929      6866\n",
      "\n",
      "    accuracy                          0.920     12280\n",
      "   macro avg      0.920     0.917     0.918     12280\n",
      "weighted avg      0.920     0.920     0.919     12280\n",
      "\n",
      "classification report for feature set: bow_num\n",
      "              precision    recall  f1-score   support\n",
      "\n",
      "        Real      0.934     0.892     0.913      5414\n",
      "        Fake      0.918     0.951     0.934      6866\n",
      "\n",
      "    accuracy                          0.925     12280\n",
      "   macro avg      0.926     0.921     0.923     12280\n",
      "weighted avg      0.925     0.925     0.924     12280\n",
      "\n",
      "classification report for feature set: tfidf_num\n",
      "              precision    recall  f1-score   support\n",
      "\n",
      "        Real      0.921     0.896     0.908      5414\n",
      "        Fake      0.920     0.940     0.929      6866\n",
      "\n",
      "    accuracy                          0.920     12280\n",
      "   macro avg      0.920     0.918     0.919     12280\n",
      "weighted avg      0.920     0.920     0.920     12280\n",
      "\n"
     ]
    }
   ],
   "source": [
    "test_feature_sets(RandomForestClassifier(random_state=0, n_jobs=-1), feature_sets, y_train, validation_sets, y_val)"
   ]
  },
  {
   "cell_type": "markdown",
   "id": "b1110807-ccd9-4e9a-aa97-013a71c33c01",
   "metadata": {},
   "source": [
    "## Train XGBoost"
   ]
  },
  {
   "cell_type": "code",
   "execution_count": 13,
   "id": "5d9dfe46-98c9-49fd-891c-767898b874e7",
   "metadata": {},
   "outputs": [
    {
     "data": {
      "text/plain": [
       "dict_keys(['bow_only', 'tfidf_only', 'bow_num', 'tfidf_num'])"
      ]
     },
     "execution_count": 13,
     "metadata": {},
     "output_type": "execute_result"
    }
   ],
   "source": [
    "feature_sets.keys()"
   ]
  },
  {
   "cell_type": "code",
   "execution_count": 14,
   "id": "61dc87a7-3ab5-4db4-9d70-94d7160f96f9",
   "metadata": {},
   "outputs": [],
   "source": [
    "feature_sets = {\n",
    "    \"bow_only\": X_train_bow\n",
    "}\n",
    "\n",
    "validation_sets = {\n",
    "    \"bow_only\": X_val_bow\n",
    "}"
   ]
  },
  {
   "cell_type": "code",
   "execution_count": 15,
   "id": "44e16d6a-8033-4abd-900a-9261a7ef37a6",
   "metadata": {},
   "outputs": [
    {
     "name": "stdout",
     "output_type": "stream",
     "text": [
      "classification report for feature set: bow_only\n",
      "              precision    recall  f1-score   support\n",
      "\n",
      "        Real      0.959     0.972     0.965      5414\n",
      "        Fake      0.978     0.967     0.972      6866\n",
      "\n",
      "    accuracy                          0.969     12280\n",
      "   macro avg      0.968     0.970     0.969     12280\n",
      "weighted avg      0.969     0.969     0.969     12280\n",
      "\n"
     ]
    }
   ],
   "source": [
    "test_feature_sets(XGBClassifier(random_state=0, n_jobs=-1), feature_sets, y_train, validation_sets, y_val)"
   ]
  },
  {
   "cell_type": "code",
   "execution_count": 10,
   "id": "f8526459-0e27-4d32-abbc-c41e2fddec9d",
   "metadata": {},
   "outputs": [
    {
     "name": "stdout",
     "output_type": "stream",
     "text": [
      "              precision    recall  f1-score   support\n",
      "\n",
      "        Real      0.959     0.972     0.965      5414\n",
      "        Fake      0.978     0.967     0.972      6866\n",
      "\n",
      "    accuracy                          0.969     12280\n",
      "   macro avg      0.968     0.970     0.969     12280\n",
      "weighted avg      0.969     0.969     0.969     12280\n",
      "\n"
     ]
    },
    {
     "data": {
      "image/png": "[encoded data removed]",
      "text/plain": [
       "<Figure size 640x480 with 2 Axes>"
      ]
     },
     "metadata": {},
     "output_type": "display_data"
    }
   ],
   "source": [
    "xgb_bow = XGBClassifier(random_state=0, n_jobs=-1)\n",
    "xgb_bow.fit(X_train_bow, y_train)\n",
    "y_pred_bow_xgb = xgb_bow.predict(X_val_bow)\n",
    "evaluate(y_val, y_pred_bow_xgb)"
   ]
  },
  {
   "cell_type": "code",
   "execution_count": 11,
   "id": "0152d6ca-78fc-4dc1-a993-42eeb96caef2",
   "metadata": {},
   "outputs": [
    {
     "name": "stdout",
     "output_type": "stream",
     "text": [
      "              precision    recall  f1-score   support\n",
      "\n",
      "        Real      0.964     0.975     0.970      5414\n",
      "        Fake      0.980     0.971     0.976      6866\n",
      "\n",
      "    accuracy                          0.973     12280\n",
      "   macro avg      0.972     0.973     0.973     12280\n",
      "weighted avg      0.973     0.973     0.973     12280\n",
      "\n"
     ]
    },
    {
     "data": {
      "image/png": "[encoded data removed]",
      "text/plain": [
       "<Figure size 640x480 with 2 Axes>"
      ]
     },
     "metadata": {},
     "output_type": "display_data"
    }
   ],
   "source": [
    "xgb_bow_num = XGBClassifier(random_state=0, n_jobs=-1)\n",
    "xgb_bow_num.fit(X_train_bow_num, y_train)\n",
    "y_pred_bow_xgb = xgb_bow_num.predict(X_val_bow_num)\n",
    "evaluate(y_val, y_pred_bow_xgb)"
   ]
  },
  {
   "cell_type": "code",
   "execution_count": 9,
   "id": "d015da98-97f8-4cb2-a203-aaa5331776ff",
   "metadata": {},
   "outputs": [
    {
     "name": "stdout",
     "output_type": "stream",
     "text": [
      "              precision    recall  f1-score   support\n",
      "\n",
      "        Real      0.954     0.970     0.962      5414\n",
      "        Fake      0.976     0.963     0.970      6866\n",
      "\n",
      "    accuracy                          0.966     12280\n",
      "   macro avg      0.965     0.967     0.966     12280\n",
      "weighted avg      0.966     0.966     0.966     12280\n",
      "\n"
     ]
    },
    {
     "data": {
      "image/png": "[encoded data removed]",
      "text/plain": [
       "<Figure size 640x480 with 2 Axes>"
      ]
     },
     "metadata": {},
     "output_type": "display_data"
    }
   ],
   "source": [
    "xgb_tfidf = XGBClassifier(random_state=0, n_jobs=-1)\n",
    "xgb_tfidf.fit(X_train_tfidf, y_train)\n",
    "y_pred_tfidf_xgb = xgb_tfidf.predict(X_val_tfidf)\n",
    "evaluate(y_val, y_pred_tfidf_xgb)"
   ]
  },
  {
   "cell_type": "code",
   "execution_count": null,
   "id": "3a0c0484-6da5-46c1-bf70-3c8c71f4b4b5",
   "metadata": {},
   "outputs": [],
   "source": [
    "xgb_tfidf_num = XGBClassifier(random_state=0, n_jobs=-1)\n",
    "xgb_tfidf_num.fit(X_train_tfidf_num, y_train)\n",
    "y_pred_tfidf_xgb = xgb_tfidf_num.predict(X_val_tfidf_num)\n",
    "evaluate(y_val, y_pred_tfidf_xgb)"
   ]
  },
  {
   "cell_type": "markdown",
   "id": "c59f6972-da0d-4c98-a0d5-a0f50cf34a8e",
   "metadata": {},
   "source": [
    "## Train LightGBM"
   ]
  },
  {
   "cell_type": "code",
   "execution_count": 13,
   "id": "9f9dacb8-fca4-4e80-85f1-682413a5cfb2",
   "metadata": {},
   "outputs": [
    {
     "name": "stdout",
     "output_type": "stream",
     "text": [
      "[LightGBM] [Info] Number of positive: 20490, number of negative: 16350\n",
      "[LightGBM] [Info] Auto-choosing row-wise multi-threading, the overhead of testing was 6.386917 seconds.\n",
      "You can set `force_row_wise=true` to remove the overhead.\n",
      "And if memory is not enough, you can set `force_col_wise=true`.\n",
      "[LightGBM] [Info] Total Bins 100778\n",
      "[LightGBM] [Info] Number of data points in the train set: 36840, number of used features: 18452\n",
      "[LightGBM] [Info] [binary:BoostFromScore]: pavg=0.556189 -> initscore=0.225709\n",
      "[LightGBM] [Info] Start training from score 0.225709\n"
     ]
    },
    {
     "name": "stderr",
     "output_type": "stream",
     "text": [
      "/home/codespace/.local/lib/python3.12/site-packages/sklearn/utils/validation.py:2739: UserWarning: X does not have valid feature names, but LGBMClassifier was fitted with feature names\n",
      "  warnings.warn(\n"
     ]
    },
    {
     "name": "stdout",
     "output_type": "stream",
     "text": [
      "              precision    recall  f1-score   support\n",
      "\n",
      "        Real      0.956     0.972     0.964      5414\n",
      "        Fake      0.978     0.965     0.971      6866\n",
      "\n",
      "    accuracy                          0.968     12280\n",
      "   macro avg      0.967     0.969     0.968     12280\n",
      "weighted avg      0.968     0.968     0.968     12280\n",
      "\n"
     ]
    },
    {
     "data": {
      "image/png": "[encoded data removed]",
      "text/plain": [
       "<Figure size 640x480 with 2 Axes>"
      ]
     },
     "metadata": {},
     "output_type": "display_data"
    }
   ],
   "source": [
    "lgb_bow = lgb.LGBMClassifier(random_state=0, n_jobs=-1)\n",
    "lgb_bow.fit(X_train_bow.astype(np.float32), y_train, feature_name='auto')\n",
    "y_pred_bow_lgb = lgb_bow.predict(X_val_bow.astype(np.float32))\n",
    "evaluate(y_val, y_pred_bow_lgb)"
   ]
  },
  {
   "cell_type": "code",
   "execution_count": 16,
   "id": "b43909a4-e3ce-4f7f-affb-710f018d1216",
   "metadata": {},
   "outputs": [
    {
     "name": "stdout",
     "output_type": "stream",
     "text": [
      "[LightGBM] [Info] Number of positive: 20490, number of negative: 16350\n",
      "[LightGBM] [Info] Auto-choosing col-wise multi-threading, the overhead of testing was 6.438493 seconds.\n",
      "You can set `force_col_wise=true` to remove the overhead.\n",
      "[LightGBM] [Info] Total Bins 1171654\n",
      "[LightGBM] [Info] Number of data points in the train set: 36840, number of used features: 18452\n",
      "[LightGBM] [Info] [binary:BoostFromScore]: pavg=0.556189 -> initscore=0.225709\n",
      "[LightGBM] [Info] Start training from score 0.225709\n"
     ]
    },
    {
     "name": "stderr",
     "output_type": "stream",
     "text": [
      "/home/codespace/.local/lib/python3.12/site-packages/sklearn/utils/validation.py:2739: UserWarning: X does not have valid feature names, but LGBMClassifier was fitted with feature names\n",
      "  warnings.warn(\n"
     ]
    },
    {
     "name": "stdout",
     "output_type": "stream",
     "text": [
      "              precision    recall  f1-score   support\n",
      "\n",
      "        Real      0.954     0.968     0.961      5414\n",
      "        Fake      0.975     0.964     0.969      6866\n",
      "\n",
      "    accuracy                          0.966     12280\n",
      "   macro avg      0.964     0.966     0.965     12280\n",
      "weighted avg      0.966     0.966     0.966     12280\n",
      "\n"
     ]
    },
    {
     "data": {
      "image/png": "[encoded data removed]",
      "text/plain": [
       "<Figure size 640x480 with 2 Axes>"
      ]
     },
     "metadata": {},
     "output_type": "display_data"
    }
   ],
   "source": [
    "lgb_tfidf = lgb.LGBMClassifier(random_state=0, n_jobs=-1)\n",
    "lgb_tfidf.fit(X_train_tfidf.astype(np.float32), y_train)\n",
    "y_pred_tfidf_lgb = lgb_tfidf.predict(X_val_tfidf.astype(np.float32))\n",
    "evaluate(y_val, y_pred_tfidf_lgb)"
   ]
  },
  {
   "cell_type": "markdown",
   "id": "902746cd-8525-46c2-83af-654c9f068309",
   "metadata": {},
   "source": [
    "## Train LinearSVC"
   ]
  },
  {
   "cell_type": "code",
   "execution_count": 8,
   "id": "ce4926b0-94ca-4ab1-9781-906a130da62b",
   "metadata": {},
   "outputs": [
    {
     "data": {
      "text/plain": [
       "(36840, 173341)"
      ]
     },
     "execution_count": 8,
     "metadata": {},
     "output_type": "execute_result"
    }
   ],
   "source": [
    "X_train_bow.shape"
   ]
  },
  {
   "cell_type": "code",
   "execution_count": 14,
   "id": "dad69569-926f-4b0b-8f27-95cfed7214ee",
   "metadata": {},
   "outputs": [
    {
     "name": "stdout",
     "output_type": "stream",
     "text": [
      "              precision    recall  f1-score   support\n",
      "\n",
      "        Real      0.936     0.930     0.933      5414\n",
      "        Fake      0.945     0.950     0.947      6866\n",
      "\n",
      "    accuracy                          0.941     12280\n",
      "   macro avg      0.941     0.940     0.940     12280\n",
      "weighted avg      0.941     0.941     0.941     12280\n",
      "\n"
     ]
    },
    {
     "data": {
      "image/png": "[encoded data removed]",
      "text/plain": [
       "<Figure size 640x480 with 2 Axes>"
      ]
     },
     "metadata": {},
     "output_type": "display_data"
    }
   ],
   "source": [
    "svc_bow = LinearSVC(random_state=0, max_iter=5000)\n",
    "svc_bow.fit(X_train_bow, y_train)\n",
    "y_pred_bow_svc = svc_bow.predict(X_val_bow)\n",
    "evaluate(y_val, y_pred_bow_svc)"
   ]
  },
  {
   "cell_type": "code",
   "execution_count": 10,
   "id": "9c34fd1b-518b-4985-86ec-b8383ffb0acf",
   "metadata": {},
   "outputs": [
    {
     "name": "stdout",
     "output_type": "stream",
     "text": [
      "              precision    recall  f1-score   support\n",
      "\n",
      "        Real      0.952     0.950     0.951      5414\n",
      "        Fake      0.960     0.962     0.961      6866\n",
      "\n",
      "    accuracy                          0.957     12280\n",
      "   macro avg      0.956     0.956     0.956     12280\n",
      "weighted avg      0.957     0.957     0.957     12280\n",
      "\n"
     ]
    },
    {
     "data": {
      "image/png": "[encoded data removed]",
      "text/plain": [
       "<Figure size 640x480 with 2 Axes>"
      ]
     },
     "metadata": {},
     "output_type": "display_data"
    }
   ],
   "source": [
    "svc_tfidf = LinearSVC(dual=True, random_state=0)\n",
    "svc_tfidf.fit(X_train_tfidf, y_train)\n",
    "y_pred_tfidf_svc = svc_tfidf.predict(X_val_tfidf)\n",
    "evaluate(y_val, y_pred_tfidf_svc)"
   ]
  },
  {
   "cell_type": "markdown",
   "id": "0a24e3a0-4685-4c6e-b192-2acb0e23cab7",
   "metadata": {
    "jp-MarkdownHeadingCollapsed": true
   },
   "source": [
    "# Check with and without Outliers"
   ]
  },
  {
   "cell_type": "code",
   "execution_count": 14,
   "id": "dac2f84b",
   "metadata": {},
   "outputs": [
    {
     "name": "stdout",
     "output_type": "stream",
     "text": [
      "36840\n",
      "0\n",
      "24701\n"
     ]
    }
   ],
   "source": [
    "print(len(X_train))\n",
    "X_train_no, y_train_no = remove_outliers(X_train, y_train, num_cols, threshold=3, iterations=1)\n",
    "print(len(X_train_no))"
   ]
  },
  {
   "cell_type": "code",
   "execution_count": 15,
   "id": "99e082e0",
   "metadata": {},
   "outputs": [],
   "source": [
    "tfidf_vectorizer = TfidfVectorizer()\n",
    "X_train_no = tfidf_vectorizer.fit_transform(X_train_no['title_text_clean'])\n",
    "X_val_no = tfidf_vectorizer.transform(X_val['title_text_clean'])"
   ]
  },
  {
   "cell_type": "markdown",
   "id": "535bcb25-5d65-401c-92d5-a72e5b1b7f8f",
   "metadata": {},
   "source": [
    "## RandomForest"
   ]
  },
  {
   "cell_type": "code",
   "execution_count": 17,
   "id": "b9163ff1",
   "metadata": {},
   "outputs": [
    {
     "name": "stdout",
     "output_type": "stream",
     "text": [
      "              precision    recall  f1-score   support\n",
      "\n",
      "        Real      0.894     0.878     0.886      5414\n",
      "        Fake      0.905     0.918     0.911      6866\n",
      "\n",
      "    accuracy                          0.900     12280\n",
      "   macro avg      0.900     0.898     0.899     12280\n",
      "weighted avg      0.900     0.900     0.900     12280\n",
      "\n"
     ]
    },
    {
     "data": {
      "image/png": "[encoded data removed]",
      "text/plain": [
       "<Figure size 640x480 with 2 Axes>"
      ]
     },
     "metadata": {},
     "output_type": "display_data"
    }
   ],
   "source": [
    "rf_tfidf_no = RandomForestClassifier(random_state=0, n_jobs=-1)\n",
    "rf_tfidf_no.fit(X_train_no, y_train_no)\n",
    "y_pred_no = rf_tfidf_no.predict(X_val_no)\n",
    "evaluate(y_val, y_pred_no)"
   ]
  },
  {
   "cell_type": "markdown",
   "id": "07ccb054-6384-469f-b3a1-c0b9cf5dde4b",
   "metadata": {},
   "source": [
    "## XGBoost"
   ]
  },
  {
   "cell_type": "code",
   "execution_count": 19,
   "id": "ad9382dd-4d3e-4c6f-afa6-02313ab27577",
   "metadata": {},
   "outputs": [
    {
     "name": "stdout",
     "output_type": "stream",
     "text": [
      "              precision    recall  f1-score   support\n",
      "\n",
      "        Real      0.954     0.960     0.957      5414\n",
      "        Fake      0.968     0.963     0.966      6866\n",
      "\n",
      "    accuracy                          0.962     12280\n",
      "   macro avg      0.961     0.961     0.961     12280\n",
      "weighted avg      0.962     0.962     0.962     12280\n",
      "\n"
     ]
    },
    {
     "data": {
      "image/png": "[encoded data removed]",
      "text/plain": [
       "<Figure size 640x480 with 2 Axes>"
      ]
     },
     "metadata": {},
     "output_type": "display_data"
    }
   ],
   "source": [
    "xgb_tfidf_no = XGBClassifier(random_state=0, n_jobs=-1)\n",
    "xgb_tfidf_no.fit(X_train_no, y_train_no)\n",
    "y_pred_no = xgb_tfidf_no.predict(X_val_no)\n",
    "evaluate(y_val, y_pred_no)"
   ]
  },
  {
   "cell_type": "markdown",
   "id": "f0dcf81a-c13e-416b-9a5d-aca3dbbf63e4",
   "metadata": {},
   "source": [
    "## LightGBM"
   ]
  },
  {
   "cell_type": "code",
   "execution_count": 20,
   "id": "fd3b67f8-694b-4b9a-a4be-d0079e7679a0",
   "metadata": {},
   "outputs": [
    {
     "name": "stdout",
     "output_type": "stream",
     "text": [
      "[LightGBM] [Info] Number of positive: 14792, number of negative: 9909\n",
      "[LightGBM] [Info] Auto-choosing col-wise multi-threading, the overhead of testing was 2.879242 seconds.\n",
      "You can set `force_col_wise=true` to remove the overhead.\n",
      "[LightGBM] [Info] Total Bins 714659\n",
      "[LightGBM] [Info] Number of data points in the train set: 24701, number of used features: 11754\n",
      "[LightGBM] [Info] [binary:BoostFromScore]: pavg=0.598842 -> initscore=0.400643\n",
      "[LightGBM] [Info] Start training from score 0.400643\n",
      "              precision    recall  f1-score   support\n",
      "\n",
      "        Real      0.953     0.961     0.957      5414\n",
      "        Fake      0.969     0.963     0.966      6866\n",
      "\n",
      "    accuracy                          0.962     12280\n",
      "   macro avg      0.961     0.962     0.962     12280\n",
      "weighted avg      0.962     0.962     0.962     12280\n",
      "\n"
     ]
    },
    {
     "name": "stderr",
     "output_type": "stream",
     "text": [
      "/home/codespace/.local/lib/python3.12/site-packages/sklearn/utils/validation.py:2739: UserWarning: X does not have valid feature names, but LGBMClassifier was fitted with feature names\n",
      "  warnings.warn(\n"
     ]
    },
    {
     "data": {
      "image/png": "[encoded data removed]",
      "text/plain": [
       "<Figure size 640x480 with 2 Axes>"
      ]
     },
     "metadata": {},
     "output_type": "display_data"
    }
   ],
   "source": [
    "lgb_tfidf_no = lgb.LGBMClassifier(random_state=0, n_jobs=-1)\n",
    "lgb_tfidf_no.fit(X_train_no.astype(np.float32), y_train_no)\n",
    "y_pred_no = lgb_tfidf_no.predict(X_val_no.astype(np.float32))\n",
    "evaluate(y_val, y_pred_no)"
   ]
  },
  {
   "cell_type": "markdown",
   "id": "b066bae2-ac72-4dcc-98bc-1db4c17a4378",
   "metadata": {},
   "source": [
    "## LinearSVC"
   ]
  },
  {
   "cell_type": "code",
   "execution_count": 21,
   "id": "edd6abd2-1c7c-4fbe-aa47-67c023279b3c",
   "metadata": {},
   "outputs": [
    {
     "name": "stdout",
     "output_type": "stream",
     "text": [
      "              precision    recall  f1-score   support\n",
      "\n",
      "        Real      0.943     0.934     0.939      5414\n",
      "        Fake      0.948     0.956     0.952      6866\n",
      "\n",
      "    accuracy                          0.946     12280\n",
      "   macro avg      0.946     0.945     0.945     12280\n",
      "weighted avg      0.946     0.946     0.946     12280\n",
      "\n"
     ]
    },
    {
     "data": {
      "image/png": "[encoded data removed]",
      "text/plain": [
       "<Figure size 640x480 with 2 Axes>"
      ]
     },
     "metadata": {},
     "output_type": "display_data"
    }
   ],
   "source": [
    "svc_tfidf_no = LinearSVC(dual=True, random_state=0)\n",
    "svc_tfidf_no.fit(X_train_no, y_train_no)\n",
    "y_pred_no = svc_tfidf_no.predict(X_val_no)\n",
    "evaluate(y_val, y_pred_no)"
   ]
  },
  {
   "cell_type": "markdown",
   "id": "c69876a0-87b4-4c54-99a7-0adc89a7a1d5",
   "metadata": {},
   "source": [
    "# Baseline model"
   ]
  },
  {
   "cell_type": "code",
   "execution_count": 21,
   "id": "cb316263-9295-4dd6-83c4-109b4361c6dd",
   "metadata": {},
   "outputs": [
    {
     "name": "stdout",
     "output_type": "stream",
     "text": [
      "              precision    recall  f1-score   support\n",
      "\n",
      "        Real       0.94      0.88      0.91      5414\n",
      "        Fake       0.91      0.95      0.93      6866\n",
      "\n",
      "    accuracy                           0.92     12280\n",
      "   macro avg       0.92      0.92      0.92     12280\n",
      "weighted avg       0.92      0.92      0.92     12280\n",
      "\n"
     ]
    },
    {
     "data": {
      "image/png": "[encoded data removed]",
      "text/plain": [
       "<Figure size 640x480 with 2 Axes>"
      ]
     },
     "metadata": {},
     "output_type": "display_data"
    }
   ],
   "source": [
    "rf_baseline = RandomForestClassifier(random_state=0)\n",
    "rf_baseline.fit(X_train_bow, y_train)\n",
    "y_pred_baseline = rf_baseline.predict(X_val_bow)\n",
    "evaluate(y_val, y_pred_baseline)"
   ]
  },
  {
   "cell_type": "code",
   "execution_count": 22,
   "id": "83b7239b-1639-474c-bd25-f6ce4bfa10bb",
   "metadata": {},
   "outputs": [
    {
     "data": {
      "text/plain": [
       "{'bootstrap': True,\n",
       " 'ccp_alpha': 0.0,\n",
       " 'class_weight': None,\n",
       " 'criterion': 'gini',\n",
       " 'max_depth': None,\n",
       " 'max_features': 'sqrt',\n",
       " 'max_leaf_nodes': None,\n",
       " 'max_samples': None,\n",
       " 'min_impurity_decrease': 0.0,\n",
       " 'min_samples_leaf': 1,\n",
       " 'min_samples_split': 2,\n",
       " 'min_weight_fraction_leaf': 0.0,\n",
       " 'monotonic_cst': None,\n",
       " 'n_estimators': 100,\n",
       " 'n_jobs': None,\n",
       " 'oob_score': False,\n",
       " 'random_state': 0,\n",
       " 'verbose': 0,\n",
       " 'warm_start': False}"
      ]
     },
     "execution_count": 22,
     "metadata": {},
     "output_type": "execute_result"
    }
   ],
   "source": [
    "rf_baseline.get_params()"
   ]
  },
  {
   "cell_type": "code",
   "execution_count": 34,
   "id": "82cfe389",
   "metadata": {},
   "outputs": [],
   "source": [
    "features = ['text_word_count', 'title_word_count', 'text_unique_words', \n",
    "            'text_char_count', 'title_char_count', 'avg_word_length', \n",
    "            'sentence_count', 'special_char_count']\n",
    "\n",
    "# test feature combinations\n",
    "cv = KFold(n_splits=4, shuffle=True, random_state=0)\n",
    "results_xgb = []\n",
    "for i in range(1, len(features) + 1):  # Variierende Anzahl an Features\n",
    "    for subset in itertools.combinations(features, i):\n",
    "\n",
    "        X = X_train[list(subset)]\n",
    "        y = y_train\n",
    "    \n",
    "        grid_search = GridSearchCV(\n",
    "            estimator=XGBClassifier(learning_rate=0.1, \n",
    "                                    max_depth=5,\n",
    "                                    subsample=0.7,\n",
    "                                    colsample_bytree=0.8,\n",
    "                                    random_state=0),\n",
    "                param_grid={'n_estimators': [150]},\n",
    "                scoring='accuracy',\n",
    "                n_jobs=-1,\n",
    "                return_train_score=True,\n",
    "                cv=cv\n",
    "        ).fit(X, y)\n",
    "\n",
    "        result = grid_search.cv_results_\n",
    "        result['f_combination'] = list(subset)\n",
    "        results_xgb.append(result)"
   ]
  },
  {
   "cell_type": "code",
   "execution_count": 35,
   "id": "f9a1eb71-39bb-4c0d-9c26-47818c59e2dd",
   "metadata": {},
   "outputs": [],
   "source": [
    "results_f_selection_xgb = pd.DataFrame(results_xgb)"
   ]
  },
  {
   "cell_type": "code",
   "execution_count": 36,
   "id": "89788349-5887-4307-a3f5-c192f22d3a10",
   "metadata": {},
   "outputs": [
    {
     "name": "stdout",
     "output_type": "stream",
     "text": [
      "File saved as datasets/results_f_selection_xgb.parquet in fake-news-prediction.\n"
     ]
    }
   ],
   "source": [
    "upload_to_s3(results_f_selection_rf, 'fake-news-prediction', \"datasets/results_f_selection_xgb.parquet\")"
   ]
  },
  {
   "cell_type": "code",
   "execution_count": 24,
   "id": "36e336e7-9a20-4eeb-a927-c0170ef235f6",
   "metadata": {},
   "outputs": [],
   "source": [
    "df_f_selection_xgb = load_file_s3('fake-news-prediction', \"datasets/results_f_selection_xgb.parquet\", 'parquet')"
   ]
  },
  {
   "cell_type": "code",
   "execution_count": 25,
   "id": "91c90065-7ebd-450a-9c9c-44587b17c298",
   "metadata": {},
   "outputs": [
    {
     "data": {
      "text/html": [
       "<div>\n",
       "<style scoped>\n",
       "    .dataframe tbody tr th:only-of-type {\n",
       "        vertical-align: middle;\n",
       "    }\n",
       "\n",
       "    .dataframe tbody tr th {\n",
       "        vertical-align: top;\n",
       "    }\n",
       "\n",
       "    .dataframe thead th {\n",
       "        text-align: right;\n",
       "    }\n",
       "</style>\n",
       "<table border=\"1\" class=\"dataframe\">\n",
       "  <thead>\n",
       "    <tr style=\"text-align: right;\">\n",
       "      <th></th>\n",
       "      <th>mean_fit_time</th>\n",
       "      <th>mean_score_time</th>\n",
       "      <th>mean_test_score</th>\n",
       "      <th>mean_train_score</th>\n",
       "      <th>f_combination</th>\n",
       "    </tr>\n",
       "  </thead>\n",
       "  <tbody>\n",
       "    <tr>\n",
       "      <th>253</th>\n",
       "      <td>[3.566823184490204]</td>\n",
       "      <td>[0.09749019145965576]</td>\n",
       "      <td>[0.7855320304017372]</td>\n",
       "      <td>[0.8070304017372422]</td>\n",
       "      <td>[title_word_count, text_unique_words, text_cha...</td>\n",
       "    </tr>\n",
       "    <tr>\n",
       "      <th>251</th>\n",
       "      <td>[3.692900240421295]</td>\n",
       "      <td>[0.09576010704040527]</td>\n",
       "      <td>[0.7850705754614549]</td>\n",
       "      <td>[0.8070846905537459]</td>\n",
       "      <td>[text_word_count, title_word_count, text_char_...</td>\n",
       "    </tr>\n",
       "    <tr>\n",
       "      <th>232</th>\n",
       "      <td>[3.370055675506592]</td>\n",
       "      <td>[0.09483373165130615]</td>\n",
       "      <td>[0.7838762214983713]</td>\n",
       "      <td>[0.8073832790445168]</td>\n",
       "      <td>[text_word_count, title_word_count, title_char...</td>\n",
       "    </tr>\n",
       "    <tr>\n",
       "      <th>244</th>\n",
       "      <td>[3.6123124957084656]</td>\n",
       "      <td>[0.09962856769561768]</td>\n",
       "      <td>[0.7837947882736156]</td>\n",
       "      <td>[0.8064603691639523]</td>\n",
       "      <td>[title_word_count, text_char_count, title_char...</td>\n",
       "    </tr>\n",
       "    <tr>\n",
       "      <th>254</th>\n",
       "      <td>[4.391331970691681]</td>\n",
       "      <td>[0.12537449598312378]</td>\n",
       "      <td>[0.783441910966341]</td>\n",
       "      <td>[0.8068675352877308]</td>\n",
       "      <td>[text_word_count, title_word_count, text_uniqu...</td>\n",
       "    </tr>\n",
       "    <tr>\n",
       "      <th>245</th>\n",
       "      <td>[3.921709716320038]</td>\n",
       "      <td>[0.09947854280471802]</td>\n",
       "      <td>[0.7831976112920739]</td>\n",
       "      <td>[0.8055736518277236]</td>\n",
       "      <td>[text_unique_words, text_char_count, title_cha...</td>\n",
       "    </tr>\n",
       "    <tr>\n",
       "      <th>252</th>\n",
       "      <td>[3.910745680332184]</td>\n",
       "      <td>[0.08860158920288086]</td>\n",
       "      <td>[0.7829804560260587]</td>\n",
       "      <td>[0.8051393412956931]</td>\n",
       "      <td>[text_word_count, text_unique_words, text_char...</td>\n",
       "    </tr>\n",
       "    <tr>\n",
       "      <th>250</th>\n",
       "      <td>[3.380977511405945]</td>\n",
       "      <td>[0.10192924737930298]</td>\n",
       "      <td>[0.782899022801303]</td>\n",
       "      <td>[0.8061074918566775]</td>\n",
       "      <td>[text_word_count, title_word_count, text_uniqu...</td>\n",
       "    </tr>\n",
       "    <tr>\n",
       "      <th>240</th>\n",
       "      <td>[3.8965378403663635]</td>\n",
       "      <td>[0.09487831592559814]</td>\n",
       "      <td>[0.7828718783930511]</td>\n",
       "      <td>[0.8062794064422729]</td>\n",
       "      <td>[title_word_count, text_unique_words, text_cha...</td>\n",
       "    </tr>\n",
       "    <tr>\n",
       "      <th>237</th>\n",
       "      <td>[3.6244653463363647]</td>\n",
       "      <td>[0.09370863437652588]</td>\n",
       "      <td>[0.7827361563517916]</td>\n",
       "      <td>[0.8054650741947158]</td>\n",
       "      <td>[text_word_count, text_unique_words, title_cha...</td>\n",
       "    </tr>\n",
       "  </tbody>\n",
       "</table>\n",
       "</div>"
      ],
      "text/plain": [
       "            mean_fit_time        mean_score_time       mean_test_score  \\\n",
       "253   [3.566823184490204]  [0.09749019145965576]  [0.7855320304017372]   \n",
       "251   [3.692900240421295]  [0.09576010704040527]  [0.7850705754614549]   \n",
       "232   [3.370055675506592]  [0.09483373165130615]  [0.7838762214983713]   \n",
       "244  [3.6123124957084656]  [0.09962856769561768]  [0.7837947882736156]   \n",
       "254   [4.391331970691681]  [0.12537449598312378]   [0.783441910966341]   \n",
       "245   [3.921709716320038]  [0.09947854280471802]  [0.7831976112920739]   \n",
       "252   [3.910745680332184]  [0.08860158920288086]  [0.7829804560260587]   \n",
       "250   [3.380977511405945]  [0.10192924737930298]   [0.782899022801303]   \n",
       "240  [3.8965378403663635]  [0.09487831592559814]  [0.7828718783930511]   \n",
       "237  [3.6244653463363647]  [0.09370863437652588]  [0.7827361563517916]   \n",
       "\n",
       "         mean_train_score                                      f_combination  \n",
       "253  [0.8070304017372422]  [title_word_count, text_unique_words, text_cha...  \n",
       "251  [0.8070846905537459]  [text_word_count, title_word_count, text_char_...  \n",
       "232  [0.8073832790445168]  [text_word_count, title_word_count, title_char...  \n",
       "244  [0.8064603691639523]  [title_word_count, text_char_count, title_char...  \n",
       "254  [0.8068675352877308]  [text_word_count, title_word_count, text_uniqu...  \n",
       "245  [0.8055736518277236]  [text_unique_words, text_char_count, title_cha...  \n",
       "252  [0.8051393412956931]  [text_word_count, text_unique_words, text_char...  \n",
       "250  [0.8061074918566775]  [text_word_count, title_word_count, text_uniqu...  \n",
       "240  [0.8062794064422729]  [title_word_count, text_unique_words, text_cha...  \n",
       "237  [0.8054650741947158]  [text_word_count, text_unique_words, title_cha...  "
      ]
     },
     "execution_count": 25,
     "metadata": {},
     "output_type": "execute_result"
    }
   ],
   "source": [
    "df_f_selection_xgb[['mean_fit_time', 'mean_score_time', 'mean_test_score', 'mean_train_score', 'f_combination']].sort_values(by='mean_test_score', ascending=False).head(10)"
   ]
  },
  {
   "cell_type": "code",
   "execution_count": 26,
   "id": "f13a50a6-7d4e-4b3e-a72c-9517de3cdb94",
   "metadata": {},
   "outputs": [
    {
     "data": {
      "text/plain": [
       "array(['title_word_count', 'text_unique_words', 'text_char_count',\n",
       "       'title_char_count', 'avg_word_length', 'sentence_count',\n",
       "       'special_char_count'], dtype=object)"
      ]
     },
     "execution_count": 26,
     "metadata": {},
     "output_type": "execute_result"
    }
   ],
   "source": [
    "df_f_selection_xgb.loc[253, 'f_combination']"
   ]
  },
  {
   "cell_type": "code",
   "execution_count": 27,
   "id": "7db08fc1-d3d8-4015-86be-d6f472931370",
   "metadata": {},
   "outputs": [
    {
     "name": "stdout",
     "output_type": "stream",
     "text": [
      "              precision    recall  f1-score   support\n",
      "\n",
      "        Real      0.802     0.711     0.754      5414\n",
      "        Fake      0.791     0.862     0.825      6866\n",
      "\n",
      "    accuracy                          0.795     12280\n",
      "   macro avg      0.797     0.786     0.789     12280\n",
      "weighted avg      0.796     0.795     0.793     12280\n",
      "\n"
     ]
    },
    {
     "data": {
      "image/png": "[encoded data removed]",
      "text/plain": [
       "<Figure size 640x480 with 2 Axes>"
      ]
     },
     "metadata": {},
     "output_type": "display_data"
    }
   ],
   "source": [
    "xgb = XGBClassifier(learning_rate=0.1,\n",
    "                    n_estimators=150,\n",
    "                    max_depth=5,\n",
    "                    subsample=0.7,\n",
    "                    colsample_bytree=0.8,\n",
    "                    random_state=0)\n",
    "\n",
    "xgb.fit(X_train[['title_word_count', 'text_unique_words', 'text_char_count',\n",
    "       'title_char_count', 'avg_word_length', 'sentence_count',\n",
    "       'special_char_count']], y_train)\n",
    "y_pred_xgb = xgb.predict(X_val[['title_word_count', 'text_unique_words', 'text_char_count',\n",
    "       'title_char_count', 'avg_word_length', 'sentence_count',\n",
    "       'special_char_count']])\n",
    "evaluate(y_val, y_pred_xgb)"
   ]
  },
  {
   "cell_type": "code",
   "execution_count": null,
   "id": "98a46f96",
   "metadata": {},
   "outputs": [],
   "source": [
    "# Trainingszeit messen\n",
    "# start_train = time.time()\n",
    "# model.fit(X_train, y_train)\n",
    "# end_train = time.time()\n",
    "# training_time = end_train - start_train\n",
    "\n",
    "# Inference-Zeit messen (Vorhersage auf Test-Set)\n",
    "# start_infer = time.time()\n",
    "# model.predict(X_test)\n",
    "# end_infer = time.time()\n",
    "# inference_time = end_infer - start_infer"
   ]
  },
  {
   "cell_type": "code",
   "execution_count": 56,
   "id": "b77afff8",
   "metadata": {},
   "outputs": [
    {
     "data": {
      "image/png": "[encoded data removed]",
      "text/plain": [
       "<Figure size 640x480 with 1 Axes>"
      ]
     },
     "metadata": {},
     "output_type": "display_data"
    }
   ],
   "source": [
    "pd.DataFrame(data=xgb.feature_importances_, index=xgb.feature_names_in_).sort_values(by=0, ascending=True).plot(kind='barh', legend=False);"
   ]
  },
  {
   "cell_type": "markdown",
   "id": "437a5800-ea04-43b1-849d-210613f4a702",
   "metadata": {},
   "source": [
    "Train XGBoost with different feature set"
   ]
  },
  {
   "cell_type": "code",
   "execution_count": 23,
   "id": "d66b4b66",
   "metadata": {},
   "outputs": [
    {
     "name": "stdout",
     "output_type": "stream",
     "text": [
      "              precision    recall  f1-score   support\n",
      "\n",
      "        Real      0.799     0.712     0.753      5414\n",
      "        Fake      0.791     0.859     0.823      6866\n",
      "\n",
      "    accuracy                          0.794     12280\n",
      "   macro avg      0.795     0.785     0.788     12280\n",
      "weighted avg      0.794     0.794     0.792     12280\n",
      "\n"
     ]
    },
    {
     "data": {
      "image/png": "[encoded data removed]",
      "text/plain": [
       "<Figure size 640x480 with 2 Axes>"
      ]
     },
     "metadata": {},
     "output_type": "display_data"
    }
   ],
   "source": [
    "xgb = XGBClassifier(learning_rate=0.1,\n",
    "                    n_estimators=150,\n",
    "                    max_depth=5,\n",
    "                    subsample=0.7,\n",
    "                    colsample_bytree=0.8,\n",
    "                    random_state=0)\n",
    "\n",
    "xgb.fit(X_train[num_cols], y_train)\n",
    "y_pred_xgb = xgb.predict(X_val[num_cols])\n",
    "evaluate(y_val, y_pred_xgb)"
   ]
  },
  {
   "cell_type": "markdown",
   "id": "ad8c7cb7-46f7-49a9-a2da-a0b3b776a385",
   "metadata": {},
   "source": [
    "# Feature Selection"
   ]
  },
  {
   "cell_type": "markdown",
   "id": "398ef7c3-903d-40c3-af20-f5a18ebd5ba8",
   "metadata": {},
   "source": [
    "## Train Random Forest with different feature set"
   ]
  },
  {
   "cell_type": "code",
   "execution_count": 25,
   "id": "ef984e49",
   "metadata": {},
   "outputs": [
    {
     "name": "stdout",
     "output_type": "stream",
     "text": [
      "              precision    recall  f1-score   support\n",
      "\n",
      "        Real       0.79      0.69      0.74      5414\n",
      "        Fake       0.78      0.86      0.82      6866\n",
      "\n",
      "    accuracy                           0.78     12280\n",
      "   macro avg       0.78      0.77      0.78     12280\n",
      "weighted avg       0.78      0.78      0.78     12280\n",
      "\n"
     ]
    },
    {
     "data": {
      "image/png": "[encoded data removed]",
      "text/plain": [
       "<Figure size 640x480 with 2 Axes>"
      ]
     },
     "metadata": {},
     "output_type": "display_data"
    }
   ],
   "source": [
    "rf = RandomForestClassifier(min_samples_leaf=10, max_depth=10, n_estimators=100, random_state=0, n_jobs=-1)\n",
    "rf.fit(X_train[num_cols], y_train)\n",
    "y_pred_rf = rf.predict(X_val[num_cols])\n",
    "evaluate(y_val, y_pred_rf)"
   ]
  },
  {
   "cell_type": "markdown",
   "id": "bf91b340-4bf8-49fe-99a8-42a52379e4a4",
   "metadata": {},
   "source": [
    "Plot Feature Importances for Random Forest"
   ]
  },
  {
   "cell_type": "code",
   "execution_count": 29,
   "id": "e9d306a7",
   "metadata": {},
   "outputs": [
    {
     "data": {
      "image/png": "[encoded data removed]",
      "text/plain": [
       "<Figure size 640x480 with 1 Axes>"
      ]
     },
     "metadata": {},
     "output_type": "display_data"
    }
   ],
   "source": [
    "pd.DataFrame(data=rf.feature_importances_, index=rf.feature_names_in_).sort_values(by=0, ascending=True).plot(kind='barh', legend=False);"
   ]
  },
  {
   "cell_type": "markdown",
   "id": "c6b2ccdd-7359-4c38-81a1-7d0ddec688b5",
   "metadata": {},
   "source": [
    "Train Random Forest with different feature set"
   ]
  },
  {
   "cell_type": "code",
   "execution_count": 18,
   "id": "6c812e9e",
   "metadata": {},
   "outputs": [],
   "source": [
    "features = ['text_word_count', 'title_word_count', 'text_unique_words', \n",
    "            'text_char_count', 'title_char_count', 'avg_word_length', \n",
    "            'sentence_count', 'special_char_count']\n",
    "\n",
    "# test feature combinations\n",
    "cv = KFold(n_splits=4, shuffle=True, random_state=0)\n",
    "results = []\n",
    "for i in range(1, len(features) + 1):  # Variierende Anzahl an Features\n",
    "    for subset in itertools.combinations(features, i):\n",
    "\n",
    "        X = X_train[list(subset)]\n",
    "        y = y_train\n",
    "    \n",
    "        grid_search = GridSearchCV(\n",
    "            estimator=RandomForestClassifier(min_samples_leaf=10, max_depth=10, random_state=0, n_jobs=-1),\n",
    "                param_grid={'n_estimators': [100]},\n",
    "                scoring='accuracy',\n",
    "                n_jobs=2,\n",
    "                return_train_score=True,\n",
    "                cv=cv\n",
    "        ).fit(X, y)\n",
    "\n",
    "        result = grid_search.cv_results_\n",
    "        result['f_combination'] = subset\n",
    "        results.append(result)"
   ]
  },
  {
   "cell_type": "code",
   "execution_count": 19,
   "id": "18cf6156",
   "metadata": {},
   "outputs": [],
   "source": [
    "results_f_selection_rf = pd.DataFrame(results)"
   ]
  },
  {
   "cell_type": "code",
   "execution_count": 21,
   "id": "c895b374",
   "metadata": {},
   "outputs": [
    {
     "name": "stdout",
     "output_type": "stream",
     "text": [
      "File saved as datasets/results_f_selection_rf.parquet in fake-news-prediction.\n"
     ]
    }
   ],
   "source": [
    "upload_to_s3(results_f_selection_rf, 'fake-news-prediction', \"datasets/results_f_selection_rf.parquet\")"
   ]
  },
  {
   "cell_type": "code",
   "execution_count": 22,
   "id": "8e1a0eec-2a80-4824-bee6-a5d623e9aa7e",
   "metadata": {},
   "outputs": [],
   "source": [
    "df_f_selection_rf = load_file_s3('fake-news-prediction', \"datasets/results_f_selection_rf.parquet\", 'parquet')"
   ]
  },
  {
   "cell_type": "code",
   "execution_count": 23,
   "id": "c2bcd65a-666a-40b2-8646-8b748c250654",
   "metadata": {},
   "outputs": [
    {
     "data": {
      "text/html": [
       "<div>\n",
       "<style scoped>\n",
       "    .dataframe tbody tr th:only-of-type {\n",
       "        vertical-align: middle;\n",
       "    }\n",
       "\n",
       "    .dataframe tbody tr th {\n",
       "        vertical-align: top;\n",
       "    }\n",
       "\n",
       "    .dataframe thead th {\n",
       "        text-align: right;\n",
       "    }\n",
       "</style>\n",
       "<table border=\"1\" class=\"dataframe\">\n",
       "  <thead>\n",
       "    <tr style=\"text-align: right;\">\n",
       "      <th></th>\n",
       "      <th>mean_fit_time</th>\n",
       "      <th>mean_score_time</th>\n",
       "      <th>mean_test_score</th>\n",
       "      <th>mean_train_score</th>\n",
       "      <th>f_combination</th>\n",
       "    </tr>\n",
       "  </thead>\n",
       "  <tbody>\n",
       "    <tr>\n",
       "      <th>253</th>\n",
       "      <td>[3.566823184490204]</td>\n",
       "      <td>[0.09749019145965576]</td>\n",
       "      <td>[0.7855320304017372]</td>\n",
       "      <td>[0.8070304017372422]</td>\n",
       "      <td>[title_word_count, text_unique_words, text_cha...</td>\n",
       "    </tr>\n",
       "    <tr>\n",
       "      <th>251</th>\n",
       "      <td>[3.692900240421295]</td>\n",
       "      <td>[0.09576010704040527]</td>\n",
       "      <td>[0.7850705754614549]</td>\n",
       "      <td>[0.8070846905537459]</td>\n",
       "      <td>[text_word_count, title_word_count, text_char_...</td>\n",
       "    </tr>\n",
       "    <tr>\n",
       "      <th>232</th>\n",
       "      <td>[3.370055675506592]</td>\n",
       "      <td>[0.09483373165130615]</td>\n",
       "      <td>[0.7838762214983713]</td>\n",
       "      <td>[0.8073832790445168]</td>\n",
       "      <td>[text_word_count, title_word_count, title_char...</td>\n",
       "    </tr>\n",
       "    <tr>\n",
       "      <th>244</th>\n",
       "      <td>[3.6123124957084656]</td>\n",
       "      <td>[0.09962856769561768]</td>\n",
       "      <td>[0.7837947882736156]</td>\n",
       "      <td>[0.8064603691639523]</td>\n",
       "      <td>[title_word_count, text_char_count, title_char...</td>\n",
       "    </tr>\n",
       "    <tr>\n",
       "      <th>254</th>\n",
       "      <td>[4.391331970691681]</td>\n",
       "      <td>[0.12537449598312378]</td>\n",
       "      <td>[0.783441910966341]</td>\n",
       "      <td>[0.8068675352877308]</td>\n",
       "      <td>[text_word_count, title_word_count, text_uniqu...</td>\n",
       "    </tr>\n",
       "    <tr>\n",
       "      <th>245</th>\n",
       "      <td>[3.921709716320038]</td>\n",
       "      <td>[0.09947854280471802]</td>\n",
       "      <td>[0.7831976112920739]</td>\n",
       "      <td>[0.8055736518277236]</td>\n",
       "      <td>[text_unique_words, text_char_count, title_cha...</td>\n",
       "    </tr>\n",
       "    <tr>\n",
       "      <th>252</th>\n",
       "      <td>[3.910745680332184]</td>\n",
       "      <td>[0.08860158920288086]</td>\n",
       "      <td>[0.7829804560260587]</td>\n",
       "      <td>[0.8051393412956931]</td>\n",
       "      <td>[text_word_count, text_unique_words, text_char...</td>\n",
       "    </tr>\n",
       "    <tr>\n",
       "      <th>250</th>\n",
       "      <td>[3.380977511405945]</td>\n",
       "      <td>[0.10192924737930298]</td>\n",
       "      <td>[0.782899022801303]</td>\n",
       "      <td>[0.8061074918566775]</td>\n",
       "      <td>[text_word_count, title_word_count, text_uniqu...</td>\n",
       "    </tr>\n",
       "    <tr>\n",
       "      <th>240</th>\n",
       "      <td>[3.8965378403663635]</td>\n",
       "      <td>[0.09487831592559814]</td>\n",
       "      <td>[0.7828718783930511]</td>\n",
       "      <td>[0.8062794064422729]</td>\n",
       "      <td>[title_word_count, text_unique_words, text_cha...</td>\n",
       "    </tr>\n",
       "    <tr>\n",
       "      <th>237</th>\n",
       "      <td>[3.6244653463363647]</td>\n",
       "      <td>[0.09370863437652588]</td>\n",
       "      <td>[0.7827361563517916]</td>\n",
       "      <td>[0.8054650741947158]</td>\n",
       "      <td>[text_word_count, text_unique_words, title_cha...</td>\n",
       "    </tr>\n",
       "  </tbody>\n",
       "</table>\n",
       "</div>"
      ],
      "text/plain": [
       "            mean_fit_time        mean_score_time       mean_test_score  \\\n",
       "253   [3.566823184490204]  [0.09749019145965576]  [0.7855320304017372]   \n",
       "251   [3.692900240421295]  [0.09576010704040527]  [0.7850705754614549]   \n",
       "232   [3.370055675506592]  [0.09483373165130615]  [0.7838762214983713]   \n",
       "244  [3.6123124957084656]  [0.09962856769561768]  [0.7837947882736156]   \n",
       "254   [4.391331970691681]  [0.12537449598312378]   [0.783441910966341]   \n",
       "245   [3.921709716320038]  [0.09947854280471802]  [0.7831976112920739]   \n",
       "252   [3.910745680332184]  [0.08860158920288086]  [0.7829804560260587]   \n",
       "250   [3.380977511405945]  [0.10192924737930298]   [0.782899022801303]   \n",
       "240  [3.8965378403663635]  [0.09487831592559814]  [0.7828718783930511]   \n",
       "237  [3.6244653463363647]  [0.09370863437652588]  [0.7827361563517916]   \n",
       "\n",
       "         mean_train_score                                      f_combination  \n",
       "253  [0.8070304017372422]  [title_word_count, text_unique_words, text_cha...  \n",
       "251  [0.8070846905537459]  [text_word_count, title_word_count, text_char_...  \n",
       "232  [0.8073832790445168]  [text_word_count, title_word_count, title_char...  \n",
       "244  [0.8064603691639523]  [title_word_count, text_char_count, title_char...  \n",
       "254  [0.8068675352877308]  [text_word_count, title_word_count, text_uniqu...  \n",
       "245  [0.8055736518277236]  [text_unique_words, text_char_count, title_cha...  \n",
       "252  [0.8051393412956931]  [text_word_count, text_unique_words, text_char...  \n",
       "250  [0.8061074918566775]  [text_word_count, title_word_count, text_uniqu...  \n",
       "240  [0.8062794064422729]  [title_word_count, text_unique_words, text_cha...  \n",
       "237  [0.8054650741947158]  [text_word_count, text_unique_words, title_cha...  "
      ]
     },
     "execution_count": 23,
     "metadata": {},
     "output_type": "execute_result"
    }
   ],
   "source": [
    "df_f_selection_rf[['mean_fit_time', 'mean_score_time', 'mean_test_score', 'mean_train_score', 'f_combination']].sort_values(by='mean_test_score', ascending=False).head(10)"
   ]
  },
  {
   "cell_type": "code",
   "execution_count": 49,
   "id": "74fcb41b-a7d7-46fb-a965-23f6f2056ba2",
   "metadata": {},
   "outputs": [
    {
     "data": {
      "text/plain": [
       "array(['title_word_count', 'text_unique_words', 'text_char_count',\n",
       "       'title_char_count', 'avg_word_length', 'sentence_count',\n",
       "       'special_char_count'], dtype=object)"
      ]
     },
     "execution_count": 49,
     "metadata": {},
     "output_type": "execute_result"
    }
   ],
   "source": [
    "df_f_selection_rf.loc[253, 'f_combination']"
   ]
  },
  {
   "cell_type": "code",
   "execution_count": 51,
   "id": "ce0017da-12cc-4dbb-b507-2cc64973cfbe",
   "metadata": {},
   "outputs": [
    {
     "name": "stdout",
     "output_type": "stream",
     "text": [
      "              precision    recall  f1-score   support\n",
      "\n",
      "        Real       0.79      0.70      0.74      5414\n",
      "        Fake       0.78      0.85      0.82      6866\n",
      "\n",
      "    accuracy                           0.78     12280\n",
      "   macro avg       0.78      0.77      0.78     12280\n",
      "weighted avg       0.78      0.78      0.78     12280\n",
      "\n"
     ]
    },
    {
     "data": {
      "image/png": "[encoded data removed]",
      "text/plain": [
       "<Figure size 640x480 with 2 Axes>"
      ]
     },
     "metadata": {},
     "output_type": "display_data"
    }
   ],
   "source": [
    "rf = RandomForestClassifier(min_samples_leaf=10, max_depth=10, n_estimators=100, random_state=0, n_jobs=-1)\n",
    "rf.fit(X_train[['title_word_count', 'text_unique_words', 'text_char_count',\n",
    "       'title_char_count', 'avg_word_length', 'sentence_count',\n",
    "       'special_char_count']], y_train)\n",
    "y_pred_rf = rf.predict(X_val[['title_word_count', 'text_unique_words', 'text_char_count',\n",
    "       'title_char_count', 'avg_word_length', 'sentence_count',\n",
    "       'special_char_count']])\n",
    "evaluate(y_val, y_pred_rf)"
   ]
  },
  {
   "cell_type": "markdown",
   "id": "bfe86bca",
   "metadata": {
    "jp-MarkdownHeadingCollapsed": true
   },
   "source": [
    "## Train XGBoost with different feature set"
   ]
  },
  {
   "cell_type": "markdown",
   "id": "309a3440-9a0e-49c3-9f0f-1b58a4182936",
   "metadata": {},
   "source": [
    "# Experiment Tracking with MLflow"
   ]
  },
  {
   "cell_type": "code",
   "execution_count": 7,
   "id": "652cf81b",
   "metadata": {},
   "outputs": [
    {
     "data": {
      "text/plain": [
       "<Experiment: artifact_location='s3://fake-news-prediction/1', creation_time=1742206809372, experiment_id='1', last_update_time=1742206809372, lifecycle_stage='active', name='mlflow-fake-news', tags={}>"
      ]
     },
     "execution_count": 7,
     "metadata": {},
     "output_type": "execute_result"
    }
   ],
   "source": [
    "mlflow.set_tracking_uri(\"http://127.0.0.1:5000\")\n",
    "mlflow.set_experiment(\"mlflow-fake-news\")"
   ]
  },
  {
   "cell_type": "code",
   "execution_count": 22,
   "id": "6c9043fb",
   "metadata": {},
   "outputs": [],
   "source": [
    "def run_optimization(X_train, y_train, X_val, y_val, model_name, search_space, num_trials, name_train_data, name_val_data):\n",
    "\n",
    "    def objective(params):\n",
    "\n",
    "        with mlflow.start_run():\n",
    "            mlflow.set_tag(\"model\", model_name)\n",
    "            mlflow.log_params(params)\n",
    "            mlflow.log_param(\"train-data\", name_train_data)\n",
    "            mlflow.log_param(\"valid-data\", name_val_data)\n",
    "            mlflow.log_param(\"model_name\", model_name)\n",
    "\n",
    "            # Modell auswählen\n",
    "            if model_name == \"RandomForest\":\n",
    "                model = RandomForestClassifier(**params)\n",
    "            elif model_name == \"XGBoost\":\n",
    "                model = XGBClassifier(**params)\n",
    "            elif model_name == \"LinearSVC\":\n",
    "                model = LinearSVC(**params)\n",
    "            elif model_name == \"LightGBM\":\n",
    "                model = lgb.LGBMClassifier(**params, objective='binary')\n",
    "            # elif model_name == \"ExtraTrees\":\n",
    "                # model = ExtraTreesRegressor(**params)\n",
    "            else:\n",
    "                raise ValueError(f\"Unknown model: {model_name}\")\n",
    "\n",
    "            # measure training time\n",
    "            start_time = time.time()\n",
    "        \n",
    "            model.fit(X_train, y_train)\n",
    "\n",
    "            end_time = time.time()\n",
    "            training_time = end_time - start_time\n",
    "            mlflow.log_metric(\"training_time\", training_time)\n",
    "\n",
    "            # Prediction for training and validation-set\n",
    "            y_train_pred = model.predict(X_train)\n",
    "\n",
    "            # measure inference time\n",
    "            start_inference_time = time.time()\n",
    "            \n",
    "            y_val_pred = model.predict(X_val)\n",
    "\n",
    "            end_inference_time = time.time()\n",
    "            inference_time = end_inference_time - start_inference_time\n",
    "            mlflow.log_metric(\"inference_time\", inference_time)\n",
    "            \n",
    "            # Metrics for training set\n",
    "            train_accuracy = accuracy_score(y_train, y_train_pred)\n",
    "            train_precision = precision_score(y_train, y_train_pred)\n",
    "            train_recall = recall_score(y_train, y_train_pred)\n",
    "            \n",
    "            # Metrics for test set\n",
    "            val_accuracy = accuracy_score(y_val, y_val_pred)\n",
    "            val_precision = precision_score(y_val, y_val_pred)\n",
    "            val_recall = recall_score(y_val, y_val_pred)\n",
    "\n",
    "            mlflow.log_metric(\"train_accuracy\", train_accuracy)\n",
    "            mlflow.log_metric(\"train_precision\", train_precision)\n",
    "            mlflow.log_metric(\"train_recall\", train_recall)\n",
    "\n",
    "            mlflow.log_metric(\"accuracy\", val_accuracy)\n",
    "            mlflow.log_metric(\"precision\", val_precision)\n",
    "            mlflow.log_metric(\"recall\", val_recall)\n",
    "\n",
    "        return {'loss': val_accuracy, 'status': STATUS_OK}\n",
    "\n",
    "    rstate = np.random.default_rng(42)  # for reproducible results\n",
    "    fmin(\n",
    "        fn=objective,\n",
    "        space=search_space,\n",
    "        algo=tpe.suggest,\n",
    "        max_evals=num_trials,\n",
    "        trials=Trials(),\n",
    "        rstate=rstate\n",
    "    )"
   ]
  },
  {
   "cell_type": "markdown",
   "id": "aafff759",
   "metadata": {},
   "source": [
    "## Experiment Tracking Random Forest"
   ]
  },
  {
   "cell_type": "code",
   "execution_count": 12,
   "id": "055d3f9f",
   "metadata": {},
   "outputs": [
    {
     "name": "stdout",
     "output_type": "stream",
     "text": [
      "🏃 View run rogue-flea-147 at: http://127.0.0.1:5000/#/experiments/1/runs/c7f70d80b3914fba92e6404901714a7d\n",
      "\n",
      "🧪 View experiment at: http://127.0.0.1:5000/#/experiments/1\n",
      "\n",
      "🏃 View run legendary-robin-28 at: http://127.0.0.1:5000/#/experiments/1/runs/c9752458362c4366996378e80bdeb03e\n",
      "\n",
      "🧪 View experiment at: http://127.0.0.1:5000/#/experiments/1                      \n",
      "\n",
      "🏃 View run chill-bug-755 at: http://127.0.0.1:5000/#/experiments/1/runs/63cdfeb64cc94061b817921c3ce823ea\n",
      "\n",
      "🧪 View experiment at: http://127.0.0.1:5000/#/experiments/1                    \n",
      "\n",
      "🏃 View run traveling-wasp-790 at: http://127.0.0.1:5000/#/experiments/1/runs/a76a680468ed413eb3c18cf1694e3ced\n",
      "\n",
      "🧪 View experiment at: http://127.0.0.1:5000/#/experiments/1                    \n",
      "\n",
      "🏃 View run crawling-foal-357 at: http://127.0.0.1:5000/#/experiments/1/runs/f8e0e931853c4f99b21e950b70fcbfa0\n",
      "\n",
      "🧪 View experiment at: http://127.0.0.1:5000/#/experiments/1                      \n",
      "\n",
      "🏃 View run unruly-ox-896 at: http://127.0.0.1:5000/#/experiments/1/runs/eafd750492f449ebb91e138461e51a14\n",
      "\n",
      "🧪 View experiment at: http://127.0.0.1:5000/#/experiments/1                      \n",
      "\n",
      "🏃 View run shivering-hog-118 at: http://127.0.0.1:5000/#/experiments/1/runs/6a946cb8d9834965ac2c3b906b4de8f3\n",
      "\n",
      "🧪 View experiment at: http://127.0.0.1:5000/#/experiments/1                       \n",
      "\n",
      "🏃 View run honorable-pug-321 at: http://127.0.0.1:5000/#/experiments/1/runs/b6d3bdc20a0c47abbbcf343c828ed8d7\n",
      "\n",
      "🧪 View experiment at: http://127.0.0.1:5000/#/experiments/1                       \n",
      "\n",
      "🏃 View run kindly-vole-844 at: http://127.0.0.1:5000/#/experiments/1/runs/cf0ccedbedee4aa1bc52809f0bc80386\n",
      "\n",
      "🧪 View experiment at: http://127.0.0.1:5000/#/experiments/1                       \n",
      "\n",
      "🏃 View run silent-shoat-739 at: http://127.0.0.1:5000/#/experiments/1/runs/125452a7c91a4c6db8687ff24aca6aec\n",
      "\n",
      "🧪 View experiment at: http://127.0.0.1:5000/#/experiments/1                       \n",
      "\n",
      "🏃 View run bemused-gnu-323 at: http://127.0.0.1:5000/#/experiments/1/runs/efd45edd9d34498cb28140c4d413b0b7\n",
      "\n",
      "🧪 View experiment at: http://127.0.0.1:5000/#/experiments/1                        \n",
      "\n",
      "🏃 View run merciful-turtle-596 at: http://127.0.0.1:5000/#/experiments/1/runs/b2a3a534c0ce4fff81a1082c47234906\n",
      "\n",
      "🧪 View experiment at: http://127.0.0.1:5000/#/experiments/1                        \n",
      "\n",
      "🏃 View run serious-perch-739 at: http://127.0.0.1:5000/#/experiments/1/runs/70b42d0ced3f4160aad88328cfe4127c\n",
      "\n",
      "🧪 View experiment at: http://127.0.0.1:5000/#/experiments/1                        \n",
      "\n",
      "🏃 View run defiant-skunk-488 at: http://127.0.0.1:5000/#/experiments/1/runs/9575645617da4ec9ad4e59deb156428f\n",
      "\n",
      "🧪 View experiment at: http://127.0.0.1:5000/#/experiments/1                        \n",
      "\n",
      "🏃 View run hilarious-goose-215 at: http://127.0.0.1:5000/#/experiments/1/runs/6104293f4f11496b8f207dd275670d07\n",
      "\n",
      "🧪 View experiment at: http://127.0.0.1:5000/#/experiments/1                        \n",
      "\n",
      "🏃 View run marvelous-flea-714 at: http://127.0.0.1:5000/#/experiments/1/runs/06d77f769014453cbdbc78db908b3226\n",
      "\n",
      "🧪 View experiment at: http://127.0.0.1:5000/#/experiments/1                        \n",
      "\n",
      "🏃 View run welcoming-worm-403 at: http://127.0.0.1:5000/#/experiments/1/runs/92a1a391524346af93cd09e2a4c9b82b\n",
      "\n",
      "🧪 View experiment at: http://127.0.0.1:5000/#/experiments/1                        \n",
      "\n",
      "🏃 View run powerful-ox-168 at: http://127.0.0.1:5000/#/experiments/1/runs/ac7cfd24539f4ef1ae8956a7a999cd0e\n",
      "\n",
      "🧪 View experiment at: http://127.0.0.1:5000/#/experiments/1                      \n",
      "\n",
      "🏃 View run funny-shrike-752 at: http://127.0.0.1:5000/#/experiments/1/runs/5582714cdca44324ba3deb71a5e88331\n",
      "\n",
      "🧪 View experiment at: http://127.0.0.1:5000/#/experiments/1                      \n",
      "\n",
      "🏃 View run respected-skink-630 at: http://127.0.0.1:5000/#/experiments/1/runs/ad824c325e6b453383a3ec683e9aeb34\n",
      "\n",
      "🧪 View experiment at: http://127.0.0.1:5000/#/experiments/1                      \n",
      "\n",
      "🏃 View run nebulous-wasp-659 at: http://127.0.0.1:5000/#/experiments/1/runs/76dff85f477e4bb8b21980121441a684\n",
      "\n",
      "🧪 View experiment at: http://127.0.0.1:5000/#/experiments/1                     \n",
      "\n",
      "🏃 View run unique-gnat-473 at: http://127.0.0.1:5000/#/experiments/1/runs/a05b37dab16342e4a6cb5362ad8322e5\n",
      "\n",
      "🧪 View experiment at: http://127.0.0.1:5000/#/experiments/1                     \n",
      "\n",
      "🏃 View run treasured-donkey-206 at: http://127.0.0.1:5000/#/experiments/1/runs/e47386bb8f6f429785e2d3f5c4661c62\n",
      "\n",
      "🧪 View experiment at: http://127.0.0.1:5000/#/experiments/1                     \n",
      "\n",
      "🏃 View run trusting-loon-372 at: http://127.0.0.1:5000/#/experiments/1/runs/c249affae3254cf284b3e2df2a13bffe\n",
      "\n",
      "🧪 View experiment at: http://127.0.0.1:5000/#/experiments/1                     \n",
      "\n",
      "🏃 View run resilient-mouse-811 at: http://127.0.0.1:5000/#/experiments/1/runs/c62427d69d4b4e008a69b957e5e022e2\n",
      "\n",
      "🧪 View experiment at: http://127.0.0.1:5000/#/experiments/1                     \n",
      "\n",
      "🏃 View run rebellious-slug-635 at: http://127.0.0.1:5000/#/experiments/1/runs/67a3d61b3c6f49469dc51f8ac80ef229\n",
      "\n",
      "🧪 View experiment at: http://127.0.0.1:5000/#/experiments/1                     \n",
      "\n",
      "🏃 View run inquisitive-duck-666 at: http://127.0.0.1:5000/#/experiments/1/runs/5b5b39c35b384845bd9355676a8a84db\n",
      "\n",
      "🧪 View experiment at: http://127.0.0.1:5000/#/experiments/1                     \n",
      "\n",
      "🏃 View run puzzled-goat-537 at: http://127.0.0.1:5000/#/experiments/1/runs/fedef846eb924601a071c98ebf4f5fef\n",
      "\n",
      "🧪 View experiment at: http://127.0.0.1:5000/#/experiments/1                     \n",
      "\n",
      "🏃 View run bald-zebra-484 at: http://127.0.0.1:5000/#/experiments/1/runs/73da50e12f3c456a9632895136ef9891\n",
      "\n",
      "🧪 View experiment at: http://127.0.0.1:5000/#/experiments/1                     \n",
      "\n",
      "🏃 View run youthful-cat-734 at: http://127.0.0.1:5000/#/experiments/1/runs/79deae568f014d4daf783c84cd67a256\n",
      "\n",
      "🧪 View experiment at: http://127.0.0.1:5000/#/experiments/1                     \n",
      "\n",
      "🏃 View run adaptable-croc-810 at: http://127.0.0.1:5000/#/experiments/1/runs/e4c6d2aa10154073ada94d5a07b98faf\n",
      "\n",
      "🧪 View experiment at: http://127.0.0.1:5000/#/experiments/1                     \n",
      "\n",
      "🏃 View run masked-koi-664 at: http://127.0.0.1:5000/#/experiments/1/runs/59810ba0e0624b32aae312dd3733dd8a\n",
      "\n",
      "🧪 View experiment at: http://127.0.0.1:5000/#/experiments/1                     \n",
      "\n",
      "🏃 View run glamorous-trout-700 at: http://127.0.0.1:5000/#/experiments/1/runs/8113545940d344399bd34fb608fedf0a\n",
      "\n",
      "🧪 View experiment at: http://127.0.0.1:5000/#/experiments/1                     \n",
      "\n",
      "🏃 View run languid-pig-303 at: http://127.0.0.1:5000/#/experiments/1/runs/709bf99d5101443395407df2428a2bac\n",
      "\n",
      "🧪 View experiment at: http://127.0.0.1:5000/#/experiments/1                     \n",
      "\n",
      "🏃 View run victorious-fly-772 at: http://127.0.0.1:5000/#/experiments/1/runs/8250c1763ec54e8192fc5665db3634e4\n",
      "\n",
      "🧪 View experiment at: http://127.0.0.1:5000/#/experiments/1                     \n",
      "\n",
      "🏃 View run redolent-fish-318 at: http://127.0.0.1:5000/#/experiments/1/runs/bcea03260f3f42babf0bd88c28815fe6\n",
      "\n",
      "🧪 View experiment at: http://127.0.0.1:5000/#/experiments/1                     \n",
      "\n",
      "🏃 View run welcoming-snake-27 at: http://127.0.0.1:5000/#/experiments/1/runs/e391c5c8568944b29c4aa6343dc9d05d\n",
      "\n",
      "🧪 View experiment at: http://127.0.0.1:5000/#/experiments/1                     \n",
      "\n",
      "🏃 View run bustling-dove-151 at: http://127.0.0.1:5000/#/experiments/1/runs/7ae01380447140d2bed4b1c7e67a0dd3\n",
      "\n",
      "🧪 View experiment at: http://127.0.0.1:5000/#/experiments/1                     \n",
      "\n",
      "🏃 View run redolent-dove-540 at: http://127.0.0.1:5000/#/experiments/1/runs/8da562b828a447bcb80eac85a21a4c39\n",
      "\n",
      "🧪 View experiment at: http://127.0.0.1:5000/#/experiments/1                     \n",
      "\n",
      "🏃 View run selective-lark-911 at: http://127.0.0.1:5000/#/experiments/1/runs/9b51aa6a0dd2407c869cbd682fef334f\n",
      "\n",
      "🧪 View experiment at: http://127.0.0.1:5000/#/experiments/1                       \n",
      "\n",
      "🏃 View run mysterious-hare-474 at: http://127.0.0.1:5000/#/experiments/1/runs/cec4858ed6fd410cb25c704bb501c12e\n",
      "\n",
      "🧪 View experiment at: http://127.0.0.1:5000/#/experiments/1                       \n",
      "\n",
      "🏃 View run upset-mole-197 at: http://127.0.0.1:5000/#/experiments/1/runs/afca47fe00134e759f80de12aa91c254\n",
      "\n",
      "🧪 View experiment at: http://127.0.0.1:5000/#/experiments/1                       \n",
      "\n",
      "🏃 View run funny-lamb-879 at: http://127.0.0.1:5000/#/experiments/1/runs/0d80e20acd8d49a98a5339ea7f9641ad\n",
      "\n",
      "🧪 View experiment at: http://127.0.0.1:5000/#/experiments/1                       \n",
      "\n",
      "🏃 View run trusting-bear-523 at: http://127.0.0.1:5000/#/experiments/1/runs/53541ab6b3174244b7927a03954f744c\n",
      "\n",
      "🧪 View experiment at: http://127.0.0.1:5000/#/experiments/1                       \n",
      "\n",
      "🏃 View run polite-horse-311 at: http://127.0.0.1:5000/#/experiments/1/runs/d7b859ea16444eab97c0595de7fd3d0c\n",
      "\n",
      "🧪 View experiment at: http://127.0.0.1:5000/#/experiments/1                       \n",
      "\n",
      "🏃 View run spiffy-kit-776 at: http://127.0.0.1:5000/#/experiments/1/runs/696e8e550d884689b3066b8b759dd345\n",
      "\n",
      "🧪 View experiment at: http://127.0.0.1:5000/#/experiments/1                       \n",
      "\n",
      "🏃 View run nervous-whale-107 at: http://127.0.0.1:5000/#/experiments/1/runs/6096b838db354ed3ba5bd8525d69d387\n",
      "\n",
      "🧪 View experiment at: http://127.0.0.1:5000/#/experiments/1                       \n",
      "\n",
      "🏃 View run stately-donkey-533 at: http://127.0.0.1:5000/#/experiments/1/runs/42e73c580e0c4aceb0063dc494feb2fc\n",
      "\n",
      "🧪 View experiment at: http://127.0.0.1:5000/#/experiments/1                       \n",
      "\n",
      "🏃 View run unique-sponge-177 at: http://127.0.0.1:5000/#/experiments/1/runs/919232d926464e0cb4a108e2eda5c83b\n",
      "\n",
      "🧪 View experiment at: http://127.0.0.1:5000/#/experiments/1                       \n",
      "\n",
      "🏃 View run bedecked-frog-568 at: http://127.0.0.1:5000/#/experiments/1/runs/11817b77aa96403f8d4db4e33c4a8469\n",
      "\n",
      "🧪 View experiment at: http://127.0.0.1:5000/#/experiments/1                       \n",
      "\n",
      "100%|██████████| 50/50 [1:16:43<00:00, 92.08s/trial, best loss: 0.9097719869706841]\n"
     ]
    }
   ],
   "source": [
    "search_space_rf = {\n",
    "        'max_depth': scope.int(hp.quniform('max_depth', 50, 100, 1)),\n",
    "        'n_estimators': scope.int(hp.quniform('n_estimators', 150, 250, 1)),\n",
    "        'min_samples_split': scope.int(hp.quniform('min_samples_split', 2, 20, 1)),\n",
    "        'min_samples_leaf': scope.int(hp.quniform('min_samples_leaf', 1, 4, 1)),\n",
    "        'random_state': 42\n",
    "    }\n",
    "\n",
    "run_optimization(X_train_tfidf, y_train,X_val_tfidf, y_val, classifier=\"RandomForest\", search_space=search_space_rf, num_trials=50)"
   ]
  },
  {
   "cell_type": "markdown",
   "id": "c822584d-4d52-471c-9929-f17e0df02638",
   "metadata": {},
   "source": [
    "## Experiment Tracking XGBoost"
   ]
  },
  {
   "cell_type": "code",
   "execution_count": 9,
   "id": "9583597d-ac23-4061-8940-8aadf6d89e57",
   "metadata": {},
   "outputs": [],
   "source": [
    "space={'max_depth': hp.quniform(\"max_depth\", 3, 18, 1),\n",
    "        'gamma': hp.uniform ('gamma', 1,9),\n",
    "        'reg_alpha' : hp.quniform('reg_alpha', 40,180,1),\n",
    "        'reg_lambda' : hp.uniform('reg_lambda', 0,1),\n",
    "        'colsample_bytree' : hp.uniform('colsample_bytree', 0.5,1),\n",
    "        'min_child_weight' : hp.quniform('min_child_weight', 0, 10, 1),\n",
    "        'n_estimators': 180,\n",
    "        'seed': 0\n",
    "}\n",
    "\n",
    "search_space_xgb = {\n",
    "    \"max_depth\": scope.int(hp.quniform(\"max_depth\", 4, 6, 1)),  # Maximaler Wert für max_depth reduziert\n",
    "    \"learning_rate\": hp.loguniform(\"learning_rate\", -3, -1),  # Kleinerer Bereich für learning_rate\n",
    "    \"reg_alpha\": hp.loguniform(\"reg_alpha\", -5, 0),  # Reduzierter Bereich für reg_alpha\n",
    "    \"reg_lambda\": hp.loguniform(\"reg_lambda\", -6, -2),  # Reduzierter Bereich für reg_lambda\n",
    "    \"objective\": \"binary:logistic\",  # Klassifikationsziel\n",
    "    \"random_state\": 42\n",
    "}\n",
    "\n",
    "search_space_xgb = {\n",
    "    'max_depth': scope.int(hp.quniform(\"max_depth\", 3, 6, 1)),  # Begrenze max_depth\n",
    "    'n_estimators': scope.int(hp.quniform(\"n_estimators\", 50, 200, 50)),  # Variabel statt fix\n",
    "    'learning_rate': hp.loguniform(\"learning_rate\", np.log(0.01), np.log(0.3)),  # Falls du es optimieren willst\n",
    "    'tree_method': 'hist',  # Nutzt effizientere Berechnung\n",
    "    'seed': 0\n",
    "}"
   ]
  },
  {
   "cell_type": "code",
   "execution_count": 24,
   "id": "bbe05d96-ba03-44bd-91c4-20d666dd177d",
   "metadata": {},
   "outputs": [
    {
     "name": "stdout",
     "output_type": "stream",
     "text": [
      "🏃 View run powerful-finch-343 at: http://127.0.0.1:5000/#/experiments/1/runs/b83542d9e550435284127baa4826ea67                                                 \n",
      "\n",
      "🧪 View experiment at: http://127.0.0.1:5000/#/experiments/1                                                                                                   \n",
      "\n",
      "🏃 View run loud-shark-273 at: http://127.0.0.1:5000/#/experiments/1/runs/e741fe9062a04fb0a3e610bab1d48f45                                                     \n",
      "\n",
      "🧪 View experiment at: http://127.0.0.1:5000/#/experiments/1                                                                                                   \n",
      "\n",
      "🏃 View run rogue-colt-453 at: http://127.0.0.1:5000/#/experiments/1/runs/a99e13e7b25a47a8946c6be33176804c                                                     \n",
      "\n",
      "🧪 View experiment at: http://127.0.0.1:5000/#/experiments/1                                                                                                   \n",
      "\n",
      "🏃 View run gentle-yak-837 at: http://127.0.0.1:5000/#/experiments/1/runs/faf32724a9bb4db5a0811dd300be37af                                                     \n",
      "\n",
      "🧪 View experiment at: http://127.0.0.1:5000/#/experiments/1                                                                                                   \n",
      "\n",
      "🏃 View run wistful-rat-105 at: http://127.0.0.1:5000/#/experiments/1/runs/e47ff46132294579bfe9cfdf73861ea4                                                    \n",
      "\n",
      "🧪 View experiment at: http://127.0.0.1:5000/#/experiments/1                                                                                                   \n",
      "\n",
      "🏃 View run legendary-shark-445 at: http://127.0.0.1:5000/#/experiments/1/runs/919d4ffd5bc54cf78e56165cf74b6425                                                \n",
      "\n",
      "🧪 View experiment at: http://127.0.0.1:5000/#/experiments/1                                                                                                   \n",
      "\n",
      "🏃 View run wistful-gnat-348 at: http://127.0.0.1:5000/#/experiments/1/runs/32f851cf7d7a4f55a16a80744ccfc004                                                   \n",
      "\n",
      "🧪 View experiment at: http://127.0.0.1:5000/#/experiments/1                                                                                                   \n",
      "\n",
      "🏃 View run calm-chimp-450 at: http://127.0.0.1:5000/#/experiments/1/runs/ffbac6cde03a4450a7e0dc1c3003d88b                                                     \n",
      "\n",
      "🧪 View experiment at: http://127.0.0.1:5000/#/experiments/1                                                                                                   \n",
      "\n",
      "🏃 View run treasured-horse-778 at: http://127.0.0.1:5000/#/experiments/1/runs/9bebf49842f04019a4e1fc00a36096b9                                                \n",
      "\n",
      "🧪 View experiment at: http://127.0.0.1:5000/#/experiments/1                                                                                                   \n",
      "\n",
      "🏃 View run sincere-shrew-682 at: http://127.0.0.1:5000/#/experiments/1/runs/e9975fadc9d4480e9f4cd22732a6f315                                                  \n",
      "\n",
      "🧪 View experiment at: http://127.0.0.1:5000/#/experiments/1                                                                                                   \n",
      "\n",
      "100%|█████████████████████████████████████████████████████████████████████████████████████████████████████| 10/10 [05:48<00:00, 34.82s/trial, best loss: 0.925]\n"
     ]
    }
   ],
   "source": [
    "search_space_xgb = {\n",
    "    'max_depth': scope.int(hp.quniform(\"max_depth\", 3, 12, 1)),  # Begrenze max_depth\n",
    "    'n_estimators': scope.int(hp.quniform('n_estimators', 50, 150, 1)),  # Variabel statt fix\n",
    "    'learning_rate': hp.loguniform(\"learning_rate\", np.log(0.01), np.log(0.3)),  # Falls du es optimieren willst\n",
    "    'reg_alpha' : hp.quniform('reg_alpha', 40,180,1),\n",
    "    'reg_lambda' : hp.uniform('reg_lambda', 0,1),\n",
    "    # 'tree_method': 'hist',  # Nutzt effizientere Berechnung\n",
    "    'seed': 0\n",
    "}\n",
    "\n",
    "run_optimization(X_train_bow, y_train, X_val_bow, y_val, model_name='XGBoost', search_space=search_space_xgb, num_trials=10, name_train_data='X_train_bow', name_val_data='X_val_bow')"
   ]
  },
  {
   "cell_type": "code",
   "execution_count": 8,
   "id": "d7d09847",
   "metadata": {},
   "outputs": [
    {
     "name": "stdout",
     "output_type": "stream",
     "text": [
      "[0]\tvalidation-logloss:0.55834                        \n",
      "[1]\tvalidation-logloss:0.47412                        \n",
      "[2]\tvalidation-logloss:0.41195                        \n",
      "[3]\tvalidation-logloss:0.36646                        \n",
      "[4]\tvalidation-logloss:0.33238                        \n",
      "[5]\tvalidation-logloss:0.30420                        \n",
      "[6]\tvalidation-logloss:0.28353                        \n",
      "[7]\tvalidation-logloss:0.26669                        \n",
      "[8]\tvalidation-logloss:0.25274                        \n",
      "[9]\tvalidation-logloss:0.24076                        \n",
      "[10]\tvalidation-logloss:0.23030                       \n",
      "[11]\tvalidation-logloss:0.22098                       \n",
      "[12]\tvalidation-logloss:0.21327                       \n",
      "[13]\tvalidation-logloss:0.20632                       \n",
      "[14]\tvalidation-logloss:0.19935                       \n",
      "[15]\tvalidation-logloss:0.19430                       \n",
      "[16]\tvalidation-logloss:0.18997                       \n",
      "[17]\tvalidation-logloss:0.18418                       \n",
      "[18]\tvalidation-logloss:0.17981                       \n",
      "[19]\tvalidation-logloss:0.17574                       \n",
      "[20]\tvalidation-logloss:0.17274                       \n",
      "[21]\tvalidation-logloss:0.17025                       \n",
      "[22]\tvalidation-logloss:0.16779                       \n",
      "[23]\tvalidation-logloss:0.16526                       \n",
      "[24]\tvalidation-logloss:0.16275                       \n",
      "Accuracy: 0.9424267100977198, Precision: 0.9645497058379846, Recall: 0.9312554616953103\n",
      "[0]\tvalidation-logloss:0.58748                                                  \n",
      "[1]\tvalidation-logloss:0.51388                                                  \n",
      "[2]\tvalidation-logloss:0.45713                                                  \n",
      "[3]\tvalidation-logloss:0.41155                                                  \n",
      "[4]\tvalidation-logloss:0.37453                                                  \n",
      "[5]\tvalidation-logloss:0.34445                                                  \n",
      "[6]\tvalidation-logloss:0.31953                                                  \n",
      "[7]\tvalidation-logloss:0.29862                                                  \n",
      "[8]\tvalidation-logloss:0.28120                                                  \n",
      "[9]\tvalidation-logloss:0.26584                                                  \n",
      "[10]\tvalidation-logloss:0.25274                                                 \n",
      "[11]\tvalidation-logloss:0.24124                                                 \n",
      "[12]\tvalidation-logloss:0.23126                                                 \n",
      "[13]\tvalidation-logloss:0.22294                                                 \n",
      "[14]\tvalidation-logloss:0.21543                                                 \n",
      "[15]\tvalidation-logloss:0.20834                                                 \n",
      "[16]\tvalidation-logloss:0.20210                                                 \n",
      "[17]\tvalidation-logloss:0.19625                                                 \n",
      "[18]\tvalidation-logloss:0.19164                                                 \n",
      "[19]\tvalidation-logloss:0.18662                                                 \n",
      "[20]\tvalidation-logloss:0.18277                                                 \n",
      "[21]\tvalidation-logloss:0.17900                                                 \n",
      "[22]\tvalidation-logloss:0.17473                                                 \n",
      "[23]\tvalidation-logloss:0.17156                                                 \n",
      "[24]\tvalidation-logloss:0.16877                                                 \n",
      "Accuracy: 0.9422638436482085, Precision: 0.965381708238851, Recall: 0.9300903000291291\n",
      "[0]\tvalidation-logloss:0.47051                                                  \n",
      "[1]\tvalidation-logloss:0.36558                                                  \n",
      "[2]\tvalidation-logloss:0.30157                                                  \n",
      "[3]\tvalidation-logloss:0.26153                                                  \n",
      "[4]\tvalidation-logloss:0.23295                                                  \n",
      "[5]\tvalidation-logloss:0.21302                                                  \n",
      "[6]\tvalidation-logloss:0.19891                                                  \n",
      "[7]\tvalidation-logloss:0.18809                                                  \n",
      "[8]\tvalidation-logloss:0.17885                                                  \n",
      "[9]\tvalidation-logloss:0.17034                                                  \n",
      "[10]\tvalidation-logloss:0.16354                                                 \n",
      "[11]\tvalidation-logloss:0.15769                                                 \n",
      "[12]\tvalidation-logloss:0.15201                                                 \n",
      "[13]\tvalidation-logloss:0.14887                                                 \n",
      "[14]\tvalidation-logloss:0.14628                                                 \n",
      "[15]\tvalidation-logloss:0.14394                                                 \n",
      "[16]\tvalidation-logloss:0.14173                                                 \n",
      "[17]\tvalidation-logloss:0.13910                                                 \n",
      "[18]\tvalidation-logloss:0.13684                                                 \n",
      "[19]\tvalidation-logloss:0.13422                                                 \n",
      "[20]\tvalidation-logloss:0.13222                                                 \n",
      "[21]\tvalidation-logloss:0.12942                                                 \n",
      "[22]\tvalidation-logloss:0.12774                                                 \n",
      "[23]\tvalidation-logloss:0.12550                                                 \n",
      "[24]\tvalidation-logloss:0.12402                                                 \n",
      "Accuracy: 0.9539087947882736, Precision: 0.9686105325795894, Recall: 0.9482959510632101\n",
      "[0]\tvalidation-logloss:0.62719                                                  \n",
      "[1]\tvalidation-logloss:0.57772                                                  \n",
      "[2]\tvalidation-logloss:0.53483                                                  \n",
      "[3]\tvalidation-logloss:0.49838                                                  \n",
      "[4]\tvalidation-logloss:0.46611                                                  \n",
      "[5]\tvalidation-logloss:0.43797                                                  \n",
      "[6]\tvalidation-logloss:0.41310                                                  \n",
      "[7]\tvalidation-logloss:0.39068                                                  \n",
      "[8]\tvalidation-logloss:0.37086                                                  \n",
      "[9]\tvalidation-logloss:0.35340                                                  \n",
      "[10]\tvalidation-logloss:0.33744                                                 \n",
      "[11]\tvalidation-logloss:0.32294                                                 \n",
      "[12]\tvalidation-logloss:0.31001                                                 \n",
      "[13]\tvalidation-logloss:0.29859                                                 \n",
      "[14]\tvalidation-logloss:0.28780                                                 \n",
      "[15]\tvalidation-logloss:0.27828                                                 \n",
      "[16]\tvalidation-logloss:0.26919                                                 \n",
      "[17]\tvalidation-logloss:0.26094                                                 \n",
      "[18]\tvalidation-logloss:0.25324                                                 \n",
      "[19]\tvalidation-logloss:0.24662                                                 \n",
      "[20]\tvalidation-logloss:0.24026                                                 \n",
      "[21]\tvalidation-logloss:0.23468                                                 \n",
      "[22]\tvalidation-logloss:0.22906                                                 \n",
      "[23]\tvalidation-logloss:0.22411                                                 \n",
      "[24]\tvalidation-logloss:0.21931                                                 \n",
      "Accuracy: 0.9344462540716613, Precision: 0.9654430962985716, Recall: 0.9155257792018643\n",
      "[0]\tvalidation-logloss:0.57662                                                  \n",
      "[1]\tvalidation-logloss:0.49768                                                  \n",
      "[2]\tvalidation-logloss:0.43819                                                  \n",
      "[3]\tvalidation-logloss:0.39163                                                  \n",
      "[4]\tvalidation-logloss:0.35450                                                  \n",
      "[5]\tvalidation-logloss:0.32438                                                  \n",
      "[6]\tvalidation-logloss:0.29940                                                  \n",
      "[7]\tvalidation-logloss:0.27896                                                  \n",
      "[8]\tvalidation-logloss:0.26242                                                  \n",
      "[9]\tvalidation-logloss:0.24826                                                  \n",
      "[10]\tvalidation-logloss:0.23591                                                 \n",
      "[11]\tvalidation-logloss:0.22528                                                 \n",
      "[12]\tvalidation-logloss:0.21595                                                 \n",
      "[13]\tvalidation-logloss:0.20830                                                 \n",
      "[14]\tvalidation-logloss:0.20132                                                 \n",
      "[15]\tvalidation-logloss:0.19529                                                 \n",
      "[16]\tvalidation-logloss:0.18959                                                 \n",
      "[17]\tvalidation-logloss:0.18450                                                 \n",
      "[18]\tvalidation-logloss:0.17965                                                 \n",
      "[19]\tvalidation-logloss:0.17566                                                 \n",
      "[20]\tvalidation-logloss:0.17171                                                 \n",
      "[21]\tvalidation-logloss:0.16805                                                 \n",
      "[22]\tvalidation-logloss:0.16493                                                 \n",
      "[23]\tvalidation-logloss:0.16255                                                 \n",
      "[24]\tvalidation-logloss:0.15982                                                 \n",
      "Accuracy: 0.9448697068403908, Precision: 0.9661093538183462, Recall: 0.9341683658607631\n",
      "[0]\tvalidation-logloss:0.64739                                                  \n",
      "[1]\tvalidation-logloss:0.61293                                                  \n",
      "[2]\tvalidation-logloss:0.58155                                                  \n",
      "[3]\tvalidation-logloss:0.55326                                                  \n",
      "[4]\tvalidation-logloss:0.52747                                                  \n",
      "[5]\tvalidation-logloss:0.50409                                                  \n",
      "[6]\tvalidation-logloss:0.48254                                                  \n",
      "[7]\tvalidation-logloss:0.46288                                                  \n",
      "[8]\tvalidation-logloss:0.44463                                                  \n",
      "[9]\tvalidation-logloss:0.42770                                                  \n",
      "[10]\tvalidation-logloss:0.41219                                                 \n",
      "[11]\tvalidation-logloss:0.39755                                                 \n",
      "[12]\tvalidation-logloss:0.38417                                                 \n",
      "[13]\tvalidation-logloss:0.37185                                                 \n",
      "[14]\tvalidation-logloss:0.36029                                                 \n",
      "[15]\tvalidation-logloss:0.34963                                                 \n",
      "[16]\tvalidation-logloss:0.33931                                                 \n",
      "[17]\tvalidation-logloss:0.32996                                                 \n",
      "[18]\tvalidation-logloss:0.32115                                                 \n",
      "[19]\tvalidation-logloss:0.31292                                                 \n",
      "[20]\tvalidation-logloss:0.30530                                                 \n",
      "[21]\tvalidation-logloss:0.29799                                                 \n",
      "[22]\tvalidation-logloss:0.29110                                                 \n",
      "[23]\tvalidation-logloss:0.28442                                                 \n",
      "[24]\tvalidation-logloss:0.27827                                                 \n",
      "Accuracy: 0.9252442996742671, Precision: 0.9625194401244168, Recall: 0.9013981939994175\n",
      " 24%|██▍       | 6/25 [04:09<13:45, 43.42s/trial, best loss: 0.9252442996742671]"
     ]
    },
    {
     "ename": "",
     "evalue": "",
     "output_type": "error",
     "traceback": [
      "\u001b[1;31mThe Kernel crashed while executing code in the current cell or a previous cell. \n",
      "\u001b[1;31mPlease review the code in the cell(s) to identify a possible cause of the failure. \n",
      "\u001b[1;31mClick <a href='https://aka.ms/vscodeJupyterKernelCrash'>here</a> for more info. \n",
      "\u001b[1;31mView Jupyter <a href='command:jupyter.viewOutput'>log</a> for further details."
     ]
    }
   ],
   "source": [
    "def objective(params, X_train_tfidf, y_train, X_val_tfidf, y_val):\n",
    "    try:\n",
    "        # Create DMatrix\n",
    "        train = xgb.DMatrix(X_train_tfidf, label=y_train)\n",
    "        valid = xgb.DMatrix(X_val_tfidf, label=y_val)\n",
    "\n",
    "        #with mlflow.start_run():\n",
    "            #mlflow.set_tag(\"model\", \"xgboost\")\n",
    "            #mlflow.log_param(\"model_name\", \"xgboost\")\n",
    "            #mlflow.log_params(params)\n",
    "\n",
    "            # Train\n",
    "        booster = xgb.train(\n",
    "            params=params,\n",
    "            dtrain=train,\n",
    "            num_boost_round=25,  # Weniger Boost-Runden\n",
    "            evals=[(valid, 'validation')],\n",
    "            early_stopping_rounds=20\n",
    "        )\n",
    "\n",
    "        # Prediction\n",
    "        y_pred_prob = booster.predict(valid)\n",
    "\n",
    "        y_pred = (y_pred_prob > 0.5).astype(int)\n",
    "\n",
    "        # Calculate metrics\n",
    "        accuracy = accuracy_score(y_val, y_pred)\n",
    "        precision = precision_score(y_val, y_pred)\n",
    "        recall = recall_score(y_val, y_pred)\n",
    "\n",
    "        print(f\"Accuracy: {accuracy}, Precision: {precision}, Recall: {recall}\")\n",
    "\n",
    "            #mlflow.log_metric(\"accuracy\", accuracy)\n",
    "            #mlflow.log_metric(\"precision\", precision)\n",
    "            #mlflow.log_metric(\"recall\", recall)\n",
    "\n",
    "        return {'loss': accuracy, 'status': STATUS_OK}\n",
    "\n",
    "    except Exception as e:\n",
    "        print(f\"Error occurred during training or evaluation: {e}\")\n",
    "        return {'loss': float('inf'), 'status': STATUS_OK}\n",
    "\n",
    "# Define search space for`hyperopt`\n",
    "search_space_xgb = {\n",
    "    \"max_depth\": scope.int(hp.quniform(\"max_depth\", 4, 6, 1)),  # Maximaler Wert für max_depth reduziert\n",
    "    \"learning_rate\": hp.loguniform(\"learning_rate\", -3, -1),  # Kleinerer Bereich für learning_rate\n",
    "    \"reg_alpha\": hp.loguniform(\"reg_alpha\", -5, 0),  # Reduzierter Bereich für reg_alpha\n",
    "    \"reg_lambda\": hp.loguniform(\"reg_lambda\", -6, -2),  # Reduzierter Bereich für reg_lambda\n",
    "    \"objective\": \"binary:logistic\",  # Klassifikationsziel\n",
    "    \"random_state\": 42\n",
    "}\n",
    "\n",
    "# Übergebe deine Trainingsdaten an die `objective`-Funktion\n",
    "# rstate = np.random.default_rng(42)\n",
    "best_result = fmin(\n",
    "    fn=lambda params: objective(params, X_train_tfidf, y_train, X_val_tfidf, y_val),\n",
    "    space=search_space_xgb,\n",
    "    algo=tpe.suggest,\n",
    "    max_evals=25,\n",
    "    trials=Trials()\n",
    ")\n"
   ]
  },
  {
   "cell_type": "markdown",
   "id": "b9e073de-dc8c-43eb-9eb9-8fc6e7bff8b2",
   "metadata": {},
   "source": [
    "## Experiment Tracking LightGMB"
   ]
  },
  {
   "cell_type": "code",
   "execution_count": 18,
   "id": "96c705a9-4969-4a34-8377-89393754cd34",
   "metadata": {},
   "outputs": [
    {
     "name": "stdout",
     "output_type": "stream",
     "text": [
      "[LightGBM] [Info] Number of positive: 20490, number of negative: 16350                                                                                         \n",
      "[LightGBM] [Info] Auto-choosing row-wise multi-threading, the overhead of testing was 6.136402 seconds.                                                        \n",
      "You can set `force_row_wise=true` to remove the overhead.\n",
      "And if memory is not enough, you can set `force_col_wise=true`.\n",
      "[LightGBM] [Info] Total Bins 100778                                                                                                                            \n",
      "[LightGBM] [Info] Number of data points in the train set: 36840, number of used features: 18452                                                                \n",
      "[LightGBM] [Info] [binary:BoostFromScore]: pavg=0.556189 -> initscore=0.225709                                                                                 \n",
      "[LightGBM] [Info] Start training from score 0.225709                                                                                                           \n",
      "  0%|                                                                                                                   | 0/15 [00:14<?, ?trial/s, best loss=?]"
     ]
    },
    {
     "name": "stderr",
     "output_type": "stream",
     "text": [
      "/home/codespace/.local/lib/python3.12/site-packages/sklearn/utils/validation.py:2739: UserWarning: X does not have valid feature names, but LGBMClassifier was fitted with feature names\n",
      "  warnings.warn(\n",
      "\n",
      "/home/codespace/.local/lib/python3.12/site-packages/sklearn/utils/validation.py:2739: UserWarning: X does not have valid feature names, but LGBMClassifier was fitted with feature names\n",
      "  warnings.warn(\n",
      "\n"
     ]
    },
    {
     "name": "stdout",
     "output_type": "stream",
     "text": [
      "🏃 View run funny-shark-368 at: http://127.0.0.1:5000/#/experiments/1/runs/9daa27825e9d41188f55886bc534b527                                                    \n",
      "\n",
      "🧪 View experiment at: http://127.0.0.1:5000/#/experiments/1                                                                                                   \n",
      "\n",
      "[LightGBM] [Info] Number of positive: 20490, number of negative: 16350                                                                                         \n",
      "[LightGBM] [Info] Auto-choosing row-wise multi-threading, the overhead of testing was 5.840729 seconds.                                                        \n",
      "You can set `force_row_wise=true` to remove the overhead.\n",
      "And if memory is not enough, you can set `force_col_wise=true`.\n",
      "[LightGBM] [Info] Total Bins 100778                                                                                                                            \n",
      "[LightGBM] [Info] Number of data points in the train set: 36840, number of used features: 18452                                                                \n",
      "[LightGBM] [Info] [binary:BoostFromScore]: pavg=0.556189 -> initscore=0.225709                                                                                 \n",
      "[LightGBM] [Info] Start training from score 0.225709                                                                                                           \n",
      "  7%|█████▉                                                                                   | 1/15 [00:39<05:50, 25.07s/trial, best loss: 0.9708469055374593]"
     ]
    },
    {
     "name": "stderr",
     "output_type": "stream",
     "text": [
      "/home/codespace/.local/lib/python3.12/site-packages/sklearn/utils/validation.py:2739: UserWarning: X does not have valid feature names, but LGBMClassifier was fitted with feature names\n",
      "  warnings.warn(\n",
      "\n",
      "/home/codespace/.local/lib/python3.12/site-packages/sklearn/utils/validation.py:2739: UserWarning: X does not have valid feature names, but LGBMClassifier was fitted with feature names\n",
      "  warnings.warn(\n",
      "\n"
     ]
    },
    {
     "name": "stdout",
     "output_type": "stream",
     "text": [
      "🏃 View run burly-skunk-874 at: http://127.0.0.1:5000/#/experiments/1/runs/1d01ef7c00194d5695a616010d58727f                                                    \n",
      "\n",
      "🧪 View experiment at: http://127.0.0.1:5000/#/experiments/1                                                                                                   \n",
      "\n",
      "[LightGBM] [Info] Number of positive: 20490, number of negative: 16350                                                                                         \n",
      "[LightGBM] [Info] Auto-choosing row-wise multi-threading, the overhead of testing was 5.528587 seconds.                                                        \n",
      "You can set `force_row_wise=true` to remove the overhead.\n",
      "And if memory is not enough, you can set `force_col_wise=true`.\n",
      "[LightGBM] [Info] Total Bins 100778                                                                                                                            \n",
      "[LightGBM] [Info] Number of data points in the train set: 36840, number of used features: 18452                                                                \n",
      "[LightGBM] [Info] [binary:BoostFromScore]: pavg=0.556189 -> initscore=0.225709                                                                                 \n",
      "[LightGBM] [Info] Start training from score 0.225709                                                                                                           \n",
      " 13%|███████████▊                                                                             | 2/15 [01:03<05:22, 24.80s/trial, best loss: 0.9410423452768729]"
     ]
    },
    {
     "name": "stderr",
     "output_type": "stream",
     "text": [
      "/home/codespace/.local/lib/python3.12/site-packages/sklearn/utils/validation.py:2739: UserWarning: X does not have valid feature names, but LGBMClassifier was fitted with feature names\n",
      "  warnings.warn(\n",
      "\n",
      "/home/codespace/.local/lib/python3.12/site-packages/sklearn/utils/validation.py:2739: UserWarning: X does not have valid feature names, but LGBMClassifier was fitted with feature names\n",
      "  warnings.warn(\n",
      "\n"
     ]
    },
    {
     "name": "stdout",
     "output_type": "stream",
     "text": [
      "🏃 View run redolent-snipe-941 at: http://127.0.0.1:5000/#/experiments/1/runs/66915378e2574463b31c8d5eaed53982                                                 \n",
      "\n",
      "🧪 View experiment at: http://127.0.0.1:5000/#/experiments/1                                                                                                   \n",
      "\n",
      "[LightGBM] [Info] Number of positive: 20490, number of negative: 16350                                                                                         \n",
      "[LightGBM] [Info] Auto-choosing row-wise multi-threading, the overhead of testing was 5.716250 seconds.                                                        \n",
      "You can set `force_row_wise=true` to remove the overhead.\n",
      "And if memory is not enough, you can set `force_col_wise=true`.\n",
      "[LightGBM] [Info] Total Bins 100778                                                                                                                            \n",
      "[LightGBM] [Info] Number of data points in the train set: 36840, number of used features: 18452                                                                \n",
      "[LightGBM] [Info] [binary:BoostFromScore]: pavg=0.556189 -> initscore=0.225709                                                                                 \n",
      "[LightGBM] [Info] Start training from score 0.225709                                                                                                           \n",
      " 20%|█████████████████▊                                                                       | 3/15 [01:23<04:28, 22.36s/trial, best loss: 0.9400651465798046]"
     ]
    },
    {
     "name": "stderr",
     "output_type": "stream",
     "text": [
      "/home/codespace/.local/lib/python3.12/site-packages/sklearn/utils/validation.py:2739: UserWarning: X does not have valid feature names, but LGBMClassifier was fitted with feature names\n",
      "  warnings.warn(\n",
      "\n",
      "/home/codespace/.local/lib/python3.12/site-packages/sklearn/utils/validation.py:2739: UserWarning: X does not have valid feature names, but LGBMClassifier was fitted with feature names\n",
      "  warnings.warn(\n",
      "\n"
     ]
    },
    {
     "name": "stdout",
     "output_type": "stream",
     "text": [
      "🏃 View run mysterious-cub-666 at: http://127.0.0.1:5000/#/experiments/1/runs/3658d3a9e82045f88bd86fa52ac6cdf6                                                 \n",
      "\n",
      "🧪 View experiment at: http://127.0.0.1:5000/#/experiments/1                                                                                                   \n",
      "\n",
      "[LightGBM] [Info] Number of positive: 20490, number of negative: 16350                                                                                         \n",
      "[LightGBM] [Info] Auto-choosing row-wise multi-threading, the overhead of testing was 5.795150 seconds.                                                        \n",
      "You can set `force_row_wise=true` to remove the overhead.\n",
      "And if memory is not enough, you can set `force_col_wise=true`.\n",
      "[LightGBM] [Info] Total Bins 100778                                                                                                                            \n",
      "[LightGBM] [Info] Number of data points in the train set: 36840, number of used features: 18452                                                                \n",
      "[LightGBM] [Info] [binary:BoostFromScore]: pavg=0.556189 -> initscore=0.225709                                                                                 \n",
      "[LightGBM] [Info] Start training from score 0.225709                                                                                                           \n",
      " 27%|███████████████████████▋                                                                 | 4/15 [01:44<04:00, 21.85s/trial, best loss: 0.9400651465798046]"
     ]
    },
    {
     "name": "stderr",
     "output_type": "stream",
     "text": [
      "/home/codespace/.local/lib/python3.12/site-packages/sklearn/utils/validation.py:2739: UserWarning: X does not have valid feature names, but LGBMClassifier was fitted with feature names\n",
      "  warnings.warn(\n",
      "\n",
      "/home/codespace/.local/lib/python3.12/site-packages/sklearn/utils/validation.py:2739: UserWarning: X does not have valid feature names, but LGBMClassifier was fitted with feature names\n",
      "  warnings.warn(\n",
      "\n"
     ]
    },
    {
     "name": "stdout",
     "output_type": "stream",
     "text": [
      "🏃 View run enchanting-roo-115 at: http://127.0.0.1:5000/#/experiments/1/runs/72893830ca2844e8af6afa5f90d87c00                                                 \n",
      "\n",
      "🧪 View experiment at: http://127.0.0.1:5000/#/experiments/1                                                                                                   \n",
      "\n",
      "[LightGBM] [Info] Number of positive: 20490, number of negative: 16350                                                                                         \n",
      "[LightGBM] [Info] Auto-choosing row-wise multi-threading, the overhead of testing was 6.211218 seconds.                                                        \n",
      "You can set `force_row_wise=true` to remove the overhead.\n",
      "And if memory is not enough, you can set `force_col_wise=true`.\n",
      "[LightGBM] [Info] Total Bins 100778                                                                                                                            \n",
      "[LightGBM] [Info] Number of data points in the train set: 36840, number of used features: 18452                                                                \n",
      "[LightGBM] [Info] [binary:BoostFromScore]: pavg=0.556189 -> initscore=0.225709                                                                                 \n",
      "[LightGBM] [Info] Start training from score 0.225709                                                                                                           \n",
      " 33%|█████████████████████████████▋                                                           | 5/15 [02:05<03:33, 21.37s/trial, best loss: 0.9400651465798046]"
     ]
    },
    {
     "name": "stderr",
     "output_type": "stream",
     "text": [
      "/home/codespace/.local/lib/python3.12/site-packages/sklearn/utils/validation.py:2739: UserWarning: X does not have valid feature names, but LGBMClassifier was fitted with feature names\n",
      "  warnings.warn(\n",
      "\n",
      "/home/codespace/.local/lib/python3.12/site-packages/sklearn/utils/validation.py:2739: UserWarning: X does not have valid feature names, but LGBMClassifier was fitted with feature names\n",
      "  warnings.warn(\n",
      "\n"
     ]
    },
    {
     "name": "stdout",
     "output_type": "stream",
     "text": [
      "🏃 View run bouncy-tern-573 at: http://127.0.0.1:5000/#/experiments/1/runs/6fe6764259324797aa1ece8990f6cd15                                                    \n",
      "\n",
      "🧪 View experiment at: http://127.0.0.1:5000/#/experiments/1                                                                                                   \n",
      "\n",
      "[LightGBM] [Info] Number of positive: 20490, number of negative: 16350                                                                                         \n",
      "[LightGBM] [Info] Auto-choosing row-wise multi-threading, the overhead of testing was 6.097458 seconds.                                                        \n",
      "You can set `force_row_wise=true` to remove the overhead.\n",
      "And if memory is not enough, you can set `force_col_wise=true`.\n",
      "[LightGBM] [Info] Total Bins 100778                                                                                                                            \n",
      "[LightGBM] [Info] Number of data points in the train set: 36840, number of used features: 18452                                                                \n",
      "[LightGBM] [Info] [binary:BoostFromScore]: pavg=0.556189 -> initscore=0.225709                                                                                 \n",
      "[LightGBM] [Info] Start training from score 0.225709                                                                                                           \n",
      "[LightGBM] [Warning] No further splits with positive gain, best gain: -inf                                                                                     \n",
      "[LightGBM] [Warning] No further splits with positive gain, best gain: -inf                                                                                     \n",
      "[LightGBM] [Warning] No further splits with positive gain, best gain: -inf                                                                                     \n",
      "[LightGBM] [Warning] No further splits with positive gain, best gain: -inf                                                                                     \n",
      "[LightGBM] [Warning] No further splits with positive gain, best gain: -inf                                                                                     \n",
      "[LightGBM] [Warning] No further splits with positive gain, best gain: -inf                                                                                     \n",
      "[LightGBM] [Warning] No further splits with positive gain, best gain: -inf                                                                                     \n",
      "[LightGBM] [Warning] No further splits with positive gain, best gain: -inf                                                                                     \n",
      "[LightGBM] [Warning] No further splits with positive gain, best gain: -inf                                                                                     \n",
      "[LightGBM] [Warning] No further splits with positive gain, best gain: -inf                                                                                     \n",
      "[LightGBM] [Warning] No further splits with positive gain, best gain: -inf                                                                                     \n",
      "[LightGBM] [Warning] No further splits with positive gain, best gain: -inf                                                                                     \n",
      "[LightGBM] [Warning] No further splits with positive gain, best gain: -inf                                                                                     \n",
      "[LightGBM] [Warning] No further splits with positive gain, best gain: -inf                                                                                     \n",
      "[LightGBM] [Warning] No further splits with positive gain, best gain: -inf                                                                                     \n",
      "[LightGBM] [Warning] No further splits with positive gain, best gain: -inf                                                                                     \n",
      "[LightGBM] [Warning] No further splits with positive gain, best gain: -inf                                                                                     \n",
      "[LightGBM] [Warning] No further splits with positive gain, best gain: -inf                                                                                     \n",
      "[LightGBM] [Warning] No further splits with positive gain, best gain: -inf                                                                                     \n",
      "[LightGBM] [Warning] No further splits with positive gain, best gain: -inf                                                                                     \n",
      "[LightGBM] [Warning] No further splits with positive gain, best gain: -inf                                                                                     \n",
      "[LightGBM] [Warning] No further splits with positive gain, best gain: -inf                                                                                     \n",
      "[LightGBM] [Warning] No further splits with positive gain, best gain: -inf                                                                                     \n",
      "[LightGBM] [Warning] No further splits with positive gain, best gain: -inf                                                                                     \n",
      "[LightGBM] [Warning] No further splits with positive gain, best gain: -inf                                                                                     \n",
      "[LightGBM] [Warning] No further splits with positive gain, best gain: -inf                                                                                     \n",
      "[LightGBM] [Warning] No further splits with positive gain, best gain: -inf                                                                                     \n",
      "[LightGBM] [Warning] No further splits with positive gain, best gain: -inf                                                                                     \n",
      "[LightGBM] [Warning] No further splits with positive gain, best gain: -inf                                                                                     \n",
      "[LightGBM] [Warning] No further splits with positive gain, best gain: -inf                                                                                     \n",
      "[LightGBM] [Warning] No further splits with positive gain, best gain: -inf                                                                                     \n",
      "[LightGBM] [Warning] No further splits with positive gain, best gain: -inf                                                                                     \n",
      "[LightGBM] [Warning] No further splits with positive gain, best gain: -inf                                                                                     \n",
      "[LightGBM] [Warning] No further splits with positive gain, best gain: -inf                                                                                     \n",
      "[LightGBM] [Warning] No further splits with positive gain, best gain: -inf                                                                                     \n",
      "[LightGBM] [Warning] No further splits with positive gain, best gain: -inf                                                                                     \n",
      "[LightGBM] [Warning] No further splits with positive gain, best gain: -inf                                                                                     \n",
      "[LightGBM] [Warning] No further splits with positive gain, best gain: -inf                                                                                     \n",
      "[LightGBM] [Warning] No further splits with positive gain, best gain: -inf                                                                                     \n",
      "[LightGBM] [Warning] No further splits with positive gain, best gain: -inf                                                                                     \n",
      "[LightGBM] [Warning] No further splits with positive gain, best gain: -inf                                                                                     \n",
      "[LightGBM] [Warning] No further splits with positive gain, best gain: -inf                                                                                     \n",
      "[LightGBM] [Warning] No further splits with positive gain, best gain: -inf                                                                                     \n",
      "[LightGBM] [Warning] No further splits with positive gain, best gain: -inf                                                                                     \n",
      "[LightGBM] [Warning] No further splits with positive gain, best gain: -inf                                                                                     \n",
      "[LightGBM] [Warning] No further splits with positive gain, best gain: -inf                                                                                     \n",
      "[LightGBM] [Warning] No further splits with positive gain, best gain: -inf                                                                                     \n",
      "[LightGBM] [Warning] No further splits with positive gain, best gain: -inf                                                                                     \n",
      "[LightGBM] [Warning] No further splits with positive gain, best gain: -inf                                                                                     \n",
      "[LightGBM] [Warning] No further splits with positive gain, best gain: -inf                                                                                     \n",
      "[LightGBM] [Warning] No further splits with positive gain, best gain: -inf                                                                                     \n",
      "[LightGBM] [Warning] No further splits with positive gain, best gain: -inf                                                                                     \n",
      "[LightGBM] [Warning] No further splits with positive gain, best gain: -inf                                                                                     \n",
      "[LightGBM] [Warning] No further splits with positive gain, best gain: -inf                                                                                     \n",
      "[LightGBM] [Warning] No further splits with positive gain, best gain: -inf                                                                                     \n",
      "[LightGBM] [Warning] No further splits with positive gain, best gain: -inf                                                                                     \n",
      "[LightGBM] [Warning] No further splits with positive gain, best gain: -inf                                                                                     \n",
      "[LightGBM] [Warning] No further splits with positive gain, best gain: -inf                                                                                     \n",
      "[LightGBM] [Warning] No further splits with positive gain, best gain: -inf                                                                                     \n",
      "[LightGBM] [Warning] No further splits with positive gain, best gain: -inf                                                                                     \n",
      "[LightGBM] [Warning] No further splits with positive gain, best gain: -inf                                                                                     \n",
      "[LightGBM] [Warning] No further splits with positive gain, best gain: -inf                                                                                     \n",
      "[LightGBM] [Warning] No further splits with positive gain, best gain: -inf                                                                                     \n",
      "[LightGBM] [Warning] No further splits with positive gain, best gain: -inf                                                                                     \n",
      "[LightGBM] [Warning] No further splits with positive gain, best gain: -inf                                                                                     \n",
      "[LightGBM] [Warning] No further splits with positive gain, best gain: -inf                                                                                     \n",
      "[LightGBM] [Warning] No further splits with positive gain, best gain: -inf                                                                                     \n",
      "[LightGBM] [Warning] No further splits with positive gain, best gain: -inf                                                                                     \n",
      "[LightGBM] [Warning] No further splits with positive gain, best gain: -inf                                                                                     \n",
      "[LightGBM] [Warning] No further splits with positive gain, best gain: -inf                                                                                     \n",
      "[LightGBM] [Warning] No further splits with positive gain, best gain: -inf                                                                                     \n",
      "[LightGBM] [Warning] No further splits with positive gain, best gain: -inf                                                                                     \n",
      "[LightGBM] [Warning] No further splits with positive gain, best gain: -inf                                                                                     \n",
      "[LightGBM] [Warning] No further splits with positive gain, best gain: -inf                                                                                     \n",
      "[LightGBM] [Warning] No further splits with positive gain, best gain: -inf                                                                                     \n",
      "[LightGBM] [Warning] No further splits with positive gain, best gain: -inf                                                                                     \n",
      "[LightGBM] [Warning] No further splits with positive gain, best gain: -inf                                                                                     \n",
      "[LightGBM] [Warning] No further splits with positive gain, best gain: -inf                                                                                     \n",
      "[LightGBM] [Warning] No further splits with positive gain, best gain: -inf                                                                                     \n",
      "[LightGBM] [Warning] No further splits with positive gain, best gain: -inf                                                                                     \n",
      "[LightGBM] [Warning] No further splits with positive gain, best gain: -inf                                                                                     \n",
      "[LightGBM] [Warning] No further splits with positive gain, best gain: -inf                                                                                     \n",
      "[LightGBM] [Warning] No further splits with positive gain, best gain: -inf                                                                                     \n",
      "[LightGBM] [Warning] No further splits with positive gain, best gain: -inf                                                                                     \n",
      "[LightGBM] [Warning] No further splits with positive gain, best gain: -inf                                                                                     \n",
      "[LightGBM] [Warning] No further splits with positive gain, best gain: -inf                                                                                     \n",
      "[LightGBM] [Warning] No further splits with positive gain, best gain: -inf                                                                                     \n",
      "[LightGBM] [Warning] No further splits with positive gain, best gain: -inf                                                                                     \n",
      "[LightGBM] [Warning] No further splits with positive gain, best gain: -inf                                                                                     \n",
      "[LightGBM] [Warning] No further splits with positive gain, best gain: -inf                                                                                     \n",
      "[LightGBM] [Warning] No further splits with positive gain, best gain: -inf                                                                                     \n",
      "[LightGBM] [Warning] No further splits with positive gain, best gain: -inf                                                                                     \n",
      "[LightGBM] [Warning] No further splits with positive gain, best gain: -inf                                                                                     \n",
      "[LightGBM] [Warning] No further splits with positive gain, best gain: -inf                                                                                     \n",
      "[LightGBM] [Warning] No further splits with positive gain, best gain: -inf                                                                                     \n",
      "[LightGBM] [Warning] No further splits with positive gain, best gain: -inf                                                                                     \n",
      "[LightGBM] [Warning] No further splits with positive gain, best gain: -inf                                                                                     \n",
      "[LightGBM] [Warning] No further splits with positive gain, best gain: -inf                                                                                     \n",
      "[LightGBM] [Warning] No further splits with positive gain, best gain: -inf                                                                                     \n",
      "[LightGBM] [Warning] No further splits with positive gain, best gain: -inf                                                                                     \n",
      "[LightGBM] [Warning] No further splits with positive gain, best gain: -inf                                                                                     \n",
      "[LightGBM] [Warning] No further splits with positive gain, best gain: -inf                                                                                     \n",
      "[LightGBM] [Warning] No further splits with positive gain, best gain: -inf                                                                                     \n",
      "[LightGBM] [Warning] No further splits with positive gain, best gain: -inf                                                                                     \n",
      "[LightGBM] [Warning] No further splits with positive gain, best gain: -inf                                                                                     \n",
      "[LightGBM] [Warning] No further splits with positive gain, best gain: -inf                                                                                     \n",
      "[LightGBM] [Warning] No further splits with positive gain, best gain: -inf                                                                                     \n",
      "[LightGBM] [Warning] No further splits with positive gain, best gain: -inf                                                                                     \n",
      "[LightGBM] [Warning] No further splits with positive gain, best gain: -inf                                                                                     \n",
      "[LightGBM] [Warning] No further splits with positive gain, best gain: -inf                                                                                     \n",
      "[LightGBM] [Warning] No further splits with positive gain, best gain: -inf                                                                                     \n",
      "[LightGBM] [Warning] No further splits with positive gain, best gain: -inf                                                                                     \n",
      "[LightGBM] [Warning] No further splits with positive gain, best gain: -inf                                                                                     \n",
      "[LightGBM] [Warning] No further splits with positive gain, best gain: -inf                                                                                     \n",
      "[LightGBM] [Warning] No further splits with positive gain, best gain: -inf                                                                                     \n",
      "[LightGBM] [Warning] No further splits with positive gain, best gain: -inf                                                                                     \n",
      "[LightGBM] [Warning] No further splits with positive gain, best gain: -inf                                                                                     \n",
      "[LightGBM] [Warning] No further splits with positive gain, best gain: -inf                                                                                     \n",
      "[LightGBM] [Warning] No further splits with positive gain, best gain: -inf                                                                                     \n",
      "[LightGBM] [Warning] No further splits with positive gain, best gain: -inf                                                                                     \n",
      "[LightGBM] [Warning] No further splits with positive gain, best gain: -inf                                                                                     \n",
      "[LightGBM] [Warning] No further splits with positive gain, best gain: -inf                                                                                     \n",
      "[LightGBM] [Warning] No further splits with positive gain, best gain: -inf                                                                                     \n",
      "[LightGBM] [Warning] No further splits with positive gain, best gain: -inf                                                                                     \n",
      "[LightGBM] [Warning] No further splits with positive gain, best gain: -inf                                                                                     \n",
      "[LightGBM] [Warning] No further splits with positive gain, best gain: -inf                                                                                     \n",
      "[LightGBM] [Warning] No further splits with positive gain, best gain: -inf                                                                                     \n",
      "[LightGBM] [Warning] No further splits with positive gain, best gain: -inf                                                                                     \n",
      "[LightGBM] [Warning] No further splits with positive gain, best gain: -inf                                                                                     \n",
      "[LightGBM] [Warning] No further splits with positive gain, best gain: -inf                                                                                     \n",
      "[LightGBM] [Warning] No further splits with positive gain, best gain: -inf                                                                                     \n",
      "[LightGBM] [Warning] No further splits with positive gain, best gain: -inf                                                                                     \n",
      "[LightGBM] [Warning] No further splits with positive gain, best gain: -inf                                                                                     \n",
      "[LightGBM] [Warning] No further splits with positive gain, best gain: -inf                                                                                     \n",
      "[LightGBM] [Warning] No further splits with positive gain, best gain: -inf                                                                                     \n",
      "[LightGBM] [Warning] No further splits with positive gain, best gain: -inf                                                                                     \n",
      "[LightGBM] [Warning] No further splits with positive gain, best gain: -inf                                                                                     \n",
      "[LightGBM] [Warning] No further splits with positive gain, best gain: -inf                                                                                     \n",
      "[LightGBM] [Warning] No further splits with positive gain, best gain: -inf                                                                                     \n",
      "[LightGBM] [Warning] No further splits with positive gain, best gain: -inf                                                                                     \n",
      "[LightGBM] [Warning] No further splits with positive gain, best gain: -inf                                                                                     \n",
      "[LightGBM] [Warning] No further splits with positive gain, best gain: -inf                                                                                     \n",
      "[LightGBM] [Warning] No further splits with positive gain, best gain: -inf                                                                                     \n",
      "[LightGBM] [Warning] No further splits with positive gain, best gain: -inf                                                                                     \n",
      "[LightGBM] [Warning] No further splits with positive gain, best gain: -inf                                                                                     \n",
      "[LightGBM] [Warning] No further splits with positive gain, best gain: -inf                                                                                     \n",
      "[LightGBM] [Warning] No further splits with positive gain, best gain: -inf                                                                                     \n",
      "[LightGBM] [Warning] No further splits with positive gain, best gain: -inf                                                                                     \n",
      "[LightGBM] [Warning] No further splits with positive gain, best gain: -inf                                                                                     \n",
      " 40%|███████████████████████████████████▌                                                     | 6/15 [02:31<03:10, 21.12s/trial, best loss: 0.9400651465798046]"
     ]
    },
    {
     "name": "stderr",
     "output_type": "stream",
     "text": [
      "/home/codespace/.local/lib/python3.12/site-packages/sklearn/utils/validation.py:2739: UserWarning: X does not have valid feature names, but LGBMClassifier was fitted with feature names\n",
      "  warnings.warn(\n",
      "\n",
      "/home/codespace/.local/lib/python3.12/site-packages/sklearn/utils/validation.py:2739: UserWarning: X does not have valid feature names, but LGBMClassifier was fitted with feature names\n",
      "  warnings.warn(\n",
      "\n"
     ]
    },
    {
     "name": "stdout",
     "output_type": "stream",
     "text": [
      "🏃 View run delicate-sow-787 at: http://127.0.0.1:5000/#/experiments/1/runs/c68ae51901074ed7a21cbf131a127380                                                   \n",
      "\n",
      "🧪 View experiment at: http://127.0.0.1:5000/#/experiments/1                                                                                                   \n",
      "\n",
      "[LightGBM] [Info] Number of positive: 20490, number of negative: 16350                                                                                         \n",
      "[LightGBM] [Info] Auto-choosing row-wise multi-threading, the overhead of testing was 6.191686 seconds.                                                        \n",
      "You can set `force_row_wise=true` to remove the overhead.\n",
      "And if memory is not enough, you can set `force_col_wise=true`.\n",
      "[LightGBM] [Info] Total Bins 100778                                                                                                                            \n",
      "[LightGBM] [Info] Number of data points in the train set: 36840, number of used features: 18452                                                                \n",
      "[LightGBM] [Info] [binary:BoostFromScore]: pavg=0.556189 -> initscore=0.225709                                                                                 \n",
      "[LightGBM] [Info] Start training from score 0.225709                                                                                                           \n",
      " 47%|█████████████████████████████████████████▌                                               | 7/15 [02:48<02:52, 21.53s/trial, best loss: 0.9400651465798046]"
     ]
    },
    {
     "name": "stderr",
     "output_type": "stream",
     "text": [
      "/home/codespace/.local/lib/python3.12/site-packages/sklearn/utils/validation.py:2739: UserWarning: X does not have valid feature names, but LGBMClassifier was fitted with feature names\n",
      "  warnings.warn(\n",
      "\n",
      "/home/codespace/.local/lib/python3.12/site-packages/sklearn/utils/validation.py:2739: UserWarning: X does not have valid feature names, but LGBMClassifier was fitted with feature names\n",
      "  warnings.warn(\n",
      "\n"
     ]
    },
    {
     "name": "stdout",
     "output_type": "stream",
     "text": [
      "🏃 View run useful-fowl-131 at: http://127.0.0.1:5000/#/experiments/1/runs/073d15a9c42c4d4bb4903d56cc75c610                                                    \n",
      "\n",
      "🧪 View experiment at: http://127.0.0.1:5000/#/experiments/1                                                                                                   \n",
      "\n",
      "[LightGBM] [Info] Number of positive: 20490, number of negative: 16350                                                                                         \n",
      "[LightGBM] [Info] Auto-choosing row-wise multi-threading, the overhead of testing was 5.646666 seconds.                                                        \n",
      "You can set `force_row_wise=true` to remove the overhead.\n",
      "And if memory is not enough, you can set `force_col_wise=true`.\n",
      "[LightGBM] [Info] Total Bins 100778                                                                                                                            \n",
      "[LightGBM] [Info] Number of data points in the train set: 36840, number of used features: 18452                                                                \n",
      "[LightGBM] [Info] [binary:BoostFromScore]: pavg=0.556189 -> initscore=0.225709                                                                                 \n",
      "[LightGBM] [Info] Start training from score 0.225709                                                                                                           \n",
      "[LightGBM] [Warning] No further splits with positive gain, best gain: -inf                                                                                     \n",
      "[LightGBM] [Warning] No further splits with positive gain, best gain: -inf                                                                                     \n",
      "[LightGBM] [Warning] No further splits with positive gain, best gain: -inf                                                                                     \n",
      "[LightGBM] [Warning] No further splits with positive gain, best gain: -inf                                                                                     \n",
      "[LightGBM] [Warning] No further splits with positive gain, best gain: -inf                                                                                     \n",
      "[LightGBM] [Warning] No further splits with positive gain, best gain: -inf                                                                                     \n",
      "[LightGBM] [Warning] No further splits with positive gain, best gain: -inf                                                                                     \n",
      "[LightGBM] [Warning] No further splits with positive gain, best gain: -inf                                                                                     \n",
      "[LightGBM] [Warning] No further splits with positive gain, best gain: -inf                                                                                     \n",
      "[LightGBM] [Warning] No further splits with positive gain, best gain: -inf                                                                                     \n",
      "[LightGBM] [Warning] No further splits with positive gain, best gain: -inf                                                                                     \n",
      "[LightGBM] [Warning] No further splits with positive gain, best gain: -inf                                                                                     \n",
      "[LightGBM] [Warning] No further splits with positive gain, best gain: -inf                                                                                     \n",
      "[LightGBM] [Warning] No further splits with positive gain, best gain: -inf                                                                                     \n",
      "[LightGBM] [Warning] No further splits with positive gain, best gain: -inf                                                                                     \n",
      "[LightGBM] [Warning] No further splits with positive gain, best gain: -inf                                                                                     \n",
      "[LightGBM] [Warning] No further splits with positive gain, best gain: -inf                                                                                     \n",
      "[LightGBM] [Warning] No further splits with positive gain, best gain: -inf                                                                                     \n",
      "[LightGBM] [Warning] No further splits with positive gain, best gain: -inf                                                                                     \n",
      "[LightGBM] [Warning] No further splits with positive gain, best gain: -inf                                                                                     \n",
      "[LightGBM] [Warning] No further splits with positive gain, best gain: -inf                                                                                     \n",
      "[LightGBM] [Warning] No further splits with positive gain, best gain: -inf                                                                                     \n",
      "[LightGBM] [Warning] No further splits with positive gain, best gain: -inf                                                                                     \n",
      "[LightGBM] [Warning] No further splits with positive gain, best gain: -inf                                                                                     \n",
      "[LightGBM] [Warning] No further splits with positive gain, best gain: -inf                                                                                     \n",
      "[LightGBM] [Warning] No further splits with positive gain, best gain: -inf                                                                                     \n",
      "[LightGBM] [Warning] No further splits with positive gain, best gain: -inf                                                                                     \n",
      "[LightGBM] [Warning] No further splits with positive gain, best gain: -inf                                                                                     \n",
      "[LightGBM] [Warning] No further splits with positive gain, best gain: -inf                                                                                     \n",
      "[LightGBM] [Warning] No further splits with positive gain, best gain: -inf                                                                                     \n",
      "[LightGBM] [Warning] No further splits with positive gain, best gain: -inf                                                                                     \n",
      "[LightGBM] [Warning] No further splits with positive gain, best gain: -inf                                                                                     \n",
      "[LightGBM] [Warning] No further splits with positive gain, best gain: -inf                                                                                     \n",
      "[LightGBM] [Warning] No further splits with positive gain, best gain: -inf                                                                                     \n",
      "[LightGBM] [Warning] No further splits with positive gain, best gain: -inf                                                                                     \n",
      "[LightGBM] [Warning] No further splits with positive gain, best gain: -inf                                                                                     \n",
      "[LightGBM] [Warning] No further splits with positive gain, best gain: -inf                                                                                     \n",
      "[LightGBM] [Warning] No further splits with positive gain, best gain: -inf                                                                                     \n",
      "[LightGBM] [Warning] No further splits with positive gain, best gain: -inf                                                                                     \n",
      "[LightGBM] [Warning] No further splits with positive gain, best gain: -inf                                                                                     \n",
      "[LightGBM] [Warning] No further splits with positive gain, best gain: -inf                                                                                     \n",
      "[LightGBM] [Warning] No further splits with positive gain, best gain: -inf                                                                                     \n",
      "[LightGBM] [Warning] No further splits with positive gain, best gain: -inf                                                                                     \n",
      "[LightGBM] [Warning] No further splits with positive gain, best gain: -inf                                                                                     \n",
      "[LightGBM] [Warning] No further splits with positive gain, best gain: -inf                                                                                     \n",
      "[LightGBM] [Warning] No further splits with positive gain, best gain: -inf                                                                                     \n",
      "[LightGBM] [Warning] No further splits with positive gain, best gain: -inf                                                                                     \n",
      "[LightGBM] [Warning] No further splits with positive gain, best gain: -inf                                                                                     \n",
      "[LightGBM] [Warning] No further splits with positive gain, best gain: -inf                                                                                     \n",
      "[LightGBM] [Warning] No further splits with positive gain, best gain: -inf                                                                                     \n",
      "[LightGBM] [Warning] No further splits with positive gain, best gain: -inf                                                                                     \n",
      "[LightGBM] [Warning] No further splits with positive gain, best gain: -inf                                                                                     \n",
      "[LightGBM] [Warning] No further splits with positive gain, best gain: -inf                                                                                     \n",
      "[LightGBM] [Warning] No further splits with positive gain, best gain: -inf                                                                                     \n",
      "[LightGBM] [Warning] No further splits with positive gain, best gain: -inf                                                                                     \n",
      "[LightGBM] [Warning] No further splits with positive gain, best gain: -inf                                                                                     \n",
      "[LightGBM] [Warning] No further splits with positive gain, best gain: -inf                                                                                     \n",
      "[LightGBM] [Warning] No further splits with positive gain, best gain: -inf                                                                                     \n",
      "[LightGBM] [Warning] No further splits with positive gain, best gain: -inf                                                                                     \n",
      "[LightGBM] [Warning] No further splits with positive gain, best gain: -inf                                                                                     \n",
      "[LightGBM] [Warning] No further splits with positive gain, best gain: -inf                                                                                     \n",
      "[LightGBM] [Warning] No further splits with positive gain, best gain: -inf                                                                                     \n",
      "[LightGBM] [Warning] No further splits with positive gain, best gain: -inf                                                                                     \n",
      "[LightGBM] [Warning] No further splits with positive gain, best gain: -inf                                                                                     \n",
      "[LightGBM] [Warning] No further splits with positive gain, best gain: -inf                                                                                     \n",
      "[LightGBM] [Warning] No further splits with positive gain, best gain: -inf                                                                                     \n",
      "[LightGBM] [Warning] No further splits with positive gain, best gain: -inf                                                                                     \n",
      "[LightGBM] [Warning] No further splits with positive gain, best gain: -inf                                                                                     \n",
      "[LightGBM] [Warning] No further splits with positive gain, best gain: -inf                                                                                     \n",
      "[LightGBM] [Warning] No further splits with positive gain, best gain: -inf                                                                                     \n",
      "[LightGBM] [Warning] No further splits with positive gain, best gain: -inf                                                                                     \n",
      "[LightGBM] [Warning] No further splits with positive gain, best gain: -inf                                                                                     \n",
      "[LightGBM] [Warning] No further splits with positive gain, best gain: -inf                                                                                     \n",
      "[LightGBM] [Warning] No further splits with positive gain, best gain: -inf                                                                                     \n",
      "[LightGBM] [Warning] No further splits with positive gain, best gain: -inf                                                                                     \n",
      "[LightGBM] [Warning] No further splits with positive gain, best gain: -inf                                                                                     \n",
      "[LightGBM] [Warning] No further splits with positive gain, best gain: -inf                                                                                     \n",
      "[LightGBM] [Warning] No further splits with positive gain, best gain: -inf                                                                                     \n",
      "[LightGBM] [Warning] No further splits with positive gain, best gain: -inf                                                                                     \n",
      "[LightGBM] [Warning] No further splits with positive gain, best gain: -inf                                                                                     \n",
      "[LightGBM] [Warning] No further splits with positive gain, best gain: -inf                                                                                     \n",
      "[LightGBM] [Warning] No further splits with positive gain, best gain: -inf                                                                                     \n",
      "[LightGBM] [Warning] No further splits with positive gain, best gain: -inf                                                                                     \n",
      "[LightGBM] [Warning] No further splits with positive gain, best gain: -inf                                                                                     \n",
      "[LightGBM] [Warning] No further splits with positive gain, best gain: -inf                                                                                     \n",
      "[LightGBM] [Warning] No further splits with positive gain, best gain: -inf                                                                                     \n",
      "[LightGBM] [Warning] No further splits with positive gain, best gain: -inf                                                                                     \n",
      "[LightGBM] [Warning] No further splits with positive gain, best gain: -inf                                                                                     \n",
      "[LightGBM] [Warning] No further splits with positive gain, best gain: -inf                                                                                     \n",
      "[LightGBM] [Warning] No further splits with positive gain, best gain: -inf                                                                                     \n",
      "[LightGBM] [Warning] No further splits with positive gain, best gain: -inf                                                                                     \n",
      "[LightGBM] [Warning] No further splits with positive gain, best gain: -inf                                                                                     \n",
      "[LightGBM] [Warning] No further splits with positive gain, best gain: -inf                                                                                     \n",
      "[LightGBM] [Warning] No further splits with positive gain, best gain: -inf                                                                                     \n",
      "[LightGBM] [Warning] No further splits with positive gain, best gain: -inf                                                                                     \n",
      "[LightGBM] [Warning] No further splits with positive gain, best gain: -inf                                                                                     \n",
      "[LightGBM] [Warning] No further splits with positive gain, best gain: -inf                                                                                     \n",
      "[LightGBM] [Warning] No further splits with positive gain, best gain: -inf                                                                                     \n",
      "[LightGBM] [Warning] No further splits with positive gain, best gain: -inf                                                                                     \n",
      "[LightGBM] [Warning] No further splits with positive gain, best gain: -inf                                                                                     \n",
      "[LightGBM] [Warning] No further splits with positive gain, best gain: -inf                                                                                     \n",
      "[LightGBM] [Warning] No further splits with positive gain, best gain: -inf                                                                                     \n",
      "[LightGBM] [Warning] No further splits with positive gain, best gain: -inf                                                                                     \n",
      "[LightGBM] [Warning] No further splits with positive gain, best gain: -inf                                                                                     \n",
      "[LightGBM] [Warning] No further splits with positive gain, best gain: -inf                                                                                     \n",
      "[LightGBM] [Warning] No further splits with positive gain, best gain: -inf                                                                                     \n",
      "[LightGBM] [Warning] No further splits with positive gain, best gain: -inf                                                                                     \n",
      "[LightGBM] [Warning] No further splits with positive gain, best gain: -inf                                                                                     \n",
      "[LightGBM] [Warning] No further splits with positive gain, best gain: -inf                                                                                     \n",
      "[LightGBM] [Warning] No further splits with positive gain, best gain: -inf                                                                                     \n",
      "[LightGBM] [Warning] No further splits with positive gain, best gain: -inf                                                                                     \n",
      "[LightGBM] [Warning] No further splits with positive gain, best gain: -inf                                                                                     \n",
      "[LightGBM] [Warning] No further splits with positive gain, best gain: -inf                                                                                     \n",
      "[LightGBM] [Warning] No further splits with positive gain, best gain: -inf                                                                                     \n",
      "[LightGBM] [Warning] No further splits with positive gain, best gain: -inf                                                                                     \n",
      "[LightGBM] [Warning] No further splits with positive gain, best gain: -inf                                                                                     \n",
      "[LightGBM] [Warning] No further splits with positive gain, best gain: -inf                                                                                     \n",
      "[LightGBM] [Warning] No further splits with positive gain, best gain: -inf                                                                                     \n",
      "[LightGBM] [Warning] No further splits with positive gain, best gain: -inf                                                                                     \n",
      "[LightGBM] [Warning] No further splits with positive gain, best gain: -inf                                                                                     \n",
      "[LightGBM] [Warning] No further splits with positive gain, best gain: -inf                                                                                     \n",
      "[LightGBM] [Warning] No further splits with positive gain, best gain: -inf                                                                                     \n",
      "[LightGBM] [Warning] No further splits with positive gain, best gain: -inf                                                                                     \n",
      "[LightGBM] [Warning] No further splits with positive gain, best gain: -inf                                                                                     \n",
      "[LightGBM] [Warning] No further splits with positive gain, best gain: -inf                                                                                     \n",
      "[LightGBM] [Warning] No further splits with positive gain, best gain: -inf                                                                                     \n",
      "[LightGBM] [Warning] No further splits with positive gain, best gain: -inf                                                                                     \n",
      " 53%|███████████████████████████████████████████████▍                                         | 8/15 [03:20<02:41, 23.14s/trial, best loss: 0.9400651465798046]"
     ]
    },
    {
     "name": "stderr",
     "output_type": "stream",
     "text": [
      "/home/codespace/.local/lib/python3.12/site-packages/sklearn/utils/validation.py:2739: UserWarning: X does not have valid feature names, but LGBMClassifier was fitted with feature names\n",
      "  warnings.warn(\n",
      "\n",
      "/home/codespace/.local/lib/python3.12/site-packages/sklearn/utils/validation.py:2739: UserWarning: X does not have valid feature names, but LGBMClassifier was fitted with feature names\n",
      "  warnings.warn(\n",
      "\n"
     ]
    },
    {
     "name": "stdout",
     "output_type": "stream",
     "text": [
      "🏃 View run monumental-snipe-974 at: http://127.0.0.1:5000/#/experiments/1/runs/a01c151308b943c3b6f1675c34b4cb3c                                               \n",
      "\n",
      "🧪 View experiment at: http://127.0.0.1:5000/#/experiments/1                                                                                                   \n",
      "\n",
      "[LightGBM] [Info] Number of positive: 20490, number of negative: 16350                                                                                         \n",
      "[LightGBM] [Info] Auto-choosing row-wise multi-threading, the overhead of testing was 5.629553 seconds.                                                        \n",
      "You can set `force_row_wise=true` to remove the overhead.\n",
      "And if memory is not enough, you can set `force_col_wise=true`.\n",
      "[LightGBM] [Info] Total Bins 100778                                                                                                                            \n",
      "[LightGBM] [Info] Number of data points in the train set: 36840, number of used features: 18452                                                                \n",
      "[LightGBM] [Info] [binary:BoostFromScore]: pavg=0.556189 -> initscore=0.225709                                                                                 \n",
      "[LightGBM] [Info] Start training from score 0.225709                                                                                                           \n",
      "[LightGBM] [Warning] No further splits with positive gain, best gain: -inf                                                                                     \n",
      " 60%|█████████████████████████████████████████████████████▍                                   | 9/15 [03:41<02:17, 22.96s/trial, best loss: 0.9400651465798046]"
     ]
    },
    {
     "name": "stderr",
     "output_type": "stream",
     "text": [
      "/home/codespace/.local/lib/python3.12/site-packages/sklearn/utils/validation.py:2739: UserWarning: X does not have valid feature names, but LGBMClassifier was fitted with feature names\n",
      "  warnings.warn(\n",
      "\n",
      "/home/codespace/.local/lib/python3.12/site-packages/sklearn/utils/validation.py:2739: UserWarning: X does not have valid feature names, but LGBMClassifier was fitted with feature names\n",
      "  warnings.warn(\n",
      "\n"
     ]
    },
    {
     "name": "stdout",
     "output_type": "stream",
     "text": [
      "🏃 View run fun-auk-737 at: http://127.0.0.1:5000/#/experiments/1/runs/1e9a9acbc3fe49e0bedc4b5a430e36eb                                                        \n",
      "\n",
      "🧪 View experiment at: http://127.0.0.1:5000/#/experiments/1                                                                                                   \n",
      "\n",
      "[LightGBM] [Info] Number of positive: 20490, number of negative: 16350                                                                                         \n",
      "[LightGBM] [Info] Auto-choosing row-wise multi-threading, the overhead of testing was 5.648353 seconds.                                                        \n",
      "You can set `force_row_wise=true` to remove the overhead.\n",
      "And if memory is not enough, you can set `force_col_wise=true`.\n",
      "[LightGBM] [Info] Total Bins 100778                                                                                                                            \n",
      "[LightGBM] [Info] Number of data points in the train set: 36840, number of used features: 18452                                                                \n",
      "[LightGBM] [Info] [binary:BoostFromScore]: pavg=0.556189 -> initscore=0.225709                                                                                 \n",
      "[LightGBM] [Info] Start training from score 0.225709                                                                                                           \n",
      "[LightGBM] [Warning] No further splits with positive gain, best gain: -inf                                                                                     \n",
      "[LightGBM] [Warning] No further splits with positive gain, best gain: -inf                                                                                     \n",
      "[LightGBM] [Warning] No further splits with positive gain, best gain: -inf                                                                                     \n",
      "[LightGBM] [Warning] No further splits with positive gain, best gain: -inf                                                                                     \n",
      "[LightGBM] [Warning] No further splits with positive gain, best gain: -inf                                                                                     \n",
      "[LightGBM] [Warning] No further splits with positive gain, best gain: -inf                                                                                     \n",
      "[LightGBM] [Warning] No further splits with positive gain, best gain: -inf                                                                                     \n",
      "[LightGBM] [Warning] No further splits with positive gain, best gain: -inf                                                                                     \n",
      "[LightGBM] [Warning] No further splits with positive gain, best gain: -inf                                                                                     \n",
      "[LightGBM] [Warning] No further splits with positive gain, best gain: -inf                                                                                     \n",
      "[LightGBM] [Warning] No further splits with positive gain, best gain: -inf                                                                                     \n",
      "[LightGBM] [Warning] No further splits with positive gain, best gain: -inf                                                                                     \n",
      "[LightGBM] [Warning] No further splits with positive gain, best gain: -inf                                                                                     \n",
      "[LightGBM] [Warning] No further splits with positive gain, best gain: -inf                                                                                     \n",
      "[LightGBM] [Warning] No further splits with positive gain, best gain: -inf                                                                                     \n",
      "[LightGBM] [Warning] No further splits with positive gain, best gain: -inf                                                                                     \n",
      " 67%|██████████████████████████████████████████████████████████▋                             | 10/15 [04:02<01:54, 22.93s/trial, best loss: 0.9400651465798046]"
     ]
    },
    {
     "name": "stderr",
     "output_type": "stream",
     "text": [
      "/home/codespace/.local/lib/python3.12/site-packages/sklearn/utils/validation.py:2739: UserWarning: X does not have valid feature names, but LGBMClassifier was fitted with feature names\n",
      "  warnings.warn(\n",
      "\n",
      "/home/codespace/.local/lib/python3.12/site-packages/sklearn/utils/validation.py:2739: UserWarning: X does not have valid feature names, but LGBMClassifier was fitted with feature names\n",
      "  warnings.warn(\n",
      "\n"
     ]
    },
    {
     "name": "stdout",
     "output_type": "stream",
     "text": [
      "🏃 View run overjoyed-fowl-873 at: http://127.0.0.1:5000/#/experiments/1/runs/9ae4fb41fb85432fad25e25ac4dc763a                                                 \n",
      "\n",
      "🧪 View experiment at: http://127.0.0.1:5000/#/experiments/1                                                                                                   \n",
      "\n",
      "[LightGBM] [Info] Number of positive: 20490, number of negative: 16350                                                                                         \n",
      "[LightGBM] [Info] Auto-choosing row-wise multi-threading, the overhead of testing was 6.102642 seconds.                                                        \n",
      "You can set `force_row_wise=true` to remove the overhead.\n",
      "And if memory is not enough, you can set `force_col_wise=true`.\n",
      "[LightGBM] [Info] Total Bins 100778                                                                                                                            \n",
      "[LightGBM] [Info] Number of data points in the train set: 36840, number of used features: 18452                                                                \n",
      "[LightGBM] [Info] [binary:BoostFromScore]: pavg=0.556189 -> initscore=0.225709                                                                                 \n",
      "[LightGBM] [Info] Start training from score 0.225709                                                                                                           \n",
      "[LightGBM] [Warning] No further splits with positive gain, best gain: -inf                                                                                     \n",
      "[LightGBM] [Warning] No further splits with positive gain, best gain: -inf                                                                                     \n",
      "[LightGBM] [Warning] No further splits with positive gain, best gain: -inf                                                                                     \n",
      "[LightGBM] [Warning] No further splits with positive gain, best gain: -inf                                                                                     \n",
      "[LightGBM] [Warning] No further splits with positive gain, best gain: -inf                                                                                     \n",
      "[LightGBM] [Warning] No further splits with positive gain, best gain: -inf                                                                                     \n",
      "[LightGBM] [Warning] No further splits with positive gain, best gain: -inf                                                                                     \n",
      "[LightGBM] [Warning] No further splits with positive gain, best gain: -inf                                                                                     \n",
      "[LightGBM] [Warning] No further splits with positive gain, best gain: -inf                                                                                     \n",
      "[LightGBM] [Warning] No further splits with positive gain, best gain: -inf                                                                                     \n",
      "[LightGBM] [Warning] No further splits with positive gain, best gain: -inf                                                                                     \n",
      "[LightGBM] [Warning] No further splits with positive gain, best gain: -inf                                                                                     \n",
      "[LightGBM] [Warning] No further splits with positive gain, best gain: -inf                                                                                     \n",
      "[LightGBM] [Warning] No further splits with positive gain, best gain: -inf                                                                                     \n",
      "[LightGBM] [Warning] No further splits with positive gain, best gain: -inf                                                                                     \n",
      "[LightGBM] [Warning] No further splits with positive gain, best gain: -inf                                                                                     \n",
      "[LightGBM] [Warning] No further splits with positive gain, best gain: -inf                                                                                     \n",
      "[LightGBM] [Warning] No further splits with positive gain, best gain: -inf                                                                                     \n",
      "[LightGBM] [Warning] No further splits with positive gain, best gain: -inf                                                                                     \n",
      "[LightGBM] [Warning] No further splits with positive gain, best gain: -inf                                                                                     \n",
      "[LightGBM] [Warning] No further splits with positive gain, best gain: -inf                                                                                     \n",
      "[LightGBM] [Warning] No further splits with positive gain, best gain: -inf                                                                                     \n",
      "[LightGBM] [Warning] No further splits with positive gain, best gain: -inf                                                                                     \n",
      "[LightGBM] [Warning] No further splits with positive gain, best gain: -inf                                                                                     \n",
      "[LightGBM] [Warning] No further splits with positive gain, best gain: -inf                                                                                     \n",
      "[LightGBM] [Warning] No further splits with positive gain, best gain: -inf                                                                                     \n",
      "[LightGBM] [Warning] No further splits with positive gain, best gain: -inf                                                                                     \n",
      "[LightGBM] [Warning] No further splits with positive gain, best gain: -inf                                                                                     \n",
      "[LightGBM] [Warning] No further splits with positive gain, best gain: -inf                                                                                     \n",
      "[LightGBM] [Warning] No further splits with positive gain, best gain: -inf                                                                                     \n",
      "[LightGBM] [Warning] No further splits with positive gain, best gain: -inf                                                                                     \n",
      "[LightGBM] [Warning] No further splits with positive gain, best gain: -inf                                                                                     \n",
      "[LightGBM] [Warning] No further splits with positive gain, best gain: -inf                                                                                     \n",
      "[LightGBM] [Warning] No further splits with positive gain, best gain: -inf                                                                                     \n",
      "[LightGBM] [Warning] No further splits with positive gain, best gain: -inf                                                                                     \n",
      "[LightGBM] [Warning] No further splits with positive gain, best gain: -inf                                                                                     \n",
      "[LightGBM] [Warning] No further splits with positive gain, best gain: -inf                                                                                     \n",
      "[LightGBM] [Warning] No further splits with positive gain, best gain: -inf                                                                                     \n",
      "[LightGBM] [Warning] No further splits with positive gain, best gain: -inf                                                                                     \n",
      "[LightGBM] [Warning] No further splits with positive gain, best gain: -inf                                                                                     \n",
      "[LightGBM] [Warning] No further splits with positive gain, best gain: -inf                                                                                     \n",
      "[LightGBM] [Warning] No further splits with positive gain, best gain: -inf                                                                                     \n",
      "[LightGBM] [Warning] No further splits with positive gain, best gain: -inf                                                                                     \n",
      "[LightGBM] [Warning] No further splits with positive gain, best gain: -inf                                                                                     \n",
      "[LightGBM] [Warning] No further splits with positive gain, best gain: -inf                                                                                     \n",
      "[LightGBM] [Warning] No further splits with positive gain, best gain: -inf                                                                                     \n",
      "[LightGBM] [Warning] No further splits with positive gain, best gain: -inf                                                                                     \n",
      "[LightGBM] [Warning] No further splits with positive gain, best gain: -inf                                                                                     \n",
      "[LightGBM] [Warning] No further splits with positive gain, best gain: -inf                                                                                     \n",
      "[LightGBM] [Warning] No further splits with positive gain, best gain: -inf                                                                                     \n",
      "[LightGBM] [Warning] No further splits with positive gain, best gain: -inf                                                                                     \n",
      "[LightGBM] [Warning] No further splits with positive gain, best gain: -inf                                                                                     \n",
      "[LightGBM] [Warning] No further splits with positive gain, best gain: -inf                                                                                     \n",
      "[LightGBM] [Warning] No further splits with positive gain, best gain: -inf                                                                                     \n",
      "[LightGBM] [Warning] No further splits with positive gain, best gain: -inf                                                                                     \n",
      "[LightGBM] [Warning] No further splits with positive gain, best gain: -inf                                                                                     \n",
      "[LightGBM] [Warning] No further splits with positive gain, best gain: -inf                                                                                     \n",
      "[LightGBM] [Warning] No further splits with positive gain, best gain: -inf                                                                                     \n",
      "[LightGBM] [Warning] No further splits with positive gain, best gain: -inf                                                                                     \n",
      "[LightGBM] [Warning] No further splits with positive gain, best gain: -inf                                                                                     \n",
      "[LightGBM] [Warning] No further splits with positive gain, best gain: -inf                                                                                     \n",
      "[LightGBM] [Warning] No further splits with positive gain, best gain: -inf                                                                                     \n",
      "[LightGBM] [Warning] No further splits with positive gain, best gain: -inf                                                                                     \n",
      "[LightGBM] [Warning] No further splits with positive gain, best gain: -inf                                                                                     \n",
      "[LightGBM] [Warning] No further splits with positive gain, best gain: -inf                                                                                     \n",
      "[LightGBM] [Warning] No further splits with positive gain, best gain: -inf                                                                                     \n",
      "[LightGBM] [Warning] No further splits with positive gain, best gain: -inf                                                                                     \n",
      "[LightGBM] [Warning] No further splits with positive gain, best gain: -inf                                                                                     \n",
      "[LightGBM] [Warning] No further splits with positive gain, best gain: -inf                                                                                     \n",
      "[LightGBM] [Warning] No further splits with positive gain, best gain: -inf                                                                                     \n",
      "[LightGBM] [Warning] No further splits with positive gain, best gain: -inf                                                                                     \n",
      "[LightGBM] [Warning] No further splits with positive gain, best gain: -inf                                                                                     \n",
      "[LightGBM] [Warning] No further splits with positive gain, best gain: -inf                                                                                     \n",
      "[LightGBM] [Warning] No further splits with positive gain, best gain: -inf                                                                                     \n",
      "[LightGBM] [Warning] No further splits with positive gain, best gain: -inf                                                                                     \n",
      "[LightGBM] [Warning] No further splits with positive gain, best gain: -inf                                                                                     \n",
      "[LightGBM] [Warning] No further splits with positive gain, best gain: -inf                                                                                     \n",
      "[LightGBM] [Warning] No further splits with positive gain, best gain: -inf                                                                                     \n",
      "[LightGBM] [Warning] No further splits with positive gain, best gain: -inf                                                                                     \n",
      "[LightGBM] [Warning] No further splits with positive gain, best gain: -inf                                                                                     \n",
      "[LightGBM] [Warning] No further splits with positive gain, best gain: -inf                                                                                     \n",
      "[LightGBM] [Warning] No further splits with positive gain, best gain: -inf                                                                                     \n",
      "[LightGBM] [Warning] No further splits with positive gain, best gain: -inf                                                                                     \n",
      "[LightGBM] [Warning] No further splits with positive gain, best gain: -inf                                                                                     \n",
      "[LightGBM] [Warning] No further splits with positive gain, best gain: -inf                                                                                     \n",
      "[LightGBM] [Warning] No further splits with positive gain, best gain: -inf                                                                                     \n",
      "[LightGBM] [Warning] No further splits with positive gain, best gain: -inf                                                                                     \n",
      "[LightGBM] [Warning] No further splits with positive gain, best gain: -inf                                                                                     \n",
      "[LightGBM] [Warning] No further splits with positive gain, best gain: -inf                                                                                     \n",
      "[LightGBM] [Warning] No further splits with positive gain, best gain: -inf                                                                                     \n",
      "[LightGBM] [Warning] No further splits with positive gain, best gain: -inf                                                                                     \n",
      "[LightGBM] [Warning] No further splits with positive gain, best gain: -inf                                                                                     \n",
      "[LightGBM] [Warning] No further splits with positive gain, best gain: -inf                                                                                     \n",
      "[LightGBM] [Warning] No further splits with positive gain, best gain: -inf                                                                                     \n",
      "[LightGBM] [Warning] No further splits with positive gain, best gain: -inf                                                                                     \n",
      "[LightGBM] [Warning] No further splits with positive gain, best gain: -inf                                                                                     \n",
      "[LightGBM] [Warning] No further splits with positive gain, best gain: -inf                                                                                     \n",
      "[LightGBM] [Warning] No further splits with positive gain, best gain: -inf                                                                                     \n",
      "[LightGBM] [Warning] No further splits with positive gain, best gain: -inf                                                                                     \n",
      "[LightGBM] [Warning] No further splits with positive gain, best gain: -inf                                                                                     \n",
      "[LightGBM] [Warning] No further splits with positive gain, best gain: -inf                                                                                     \n",
      "[LightGBM] [Warning] No further splits with positive gain, best gain: -inf                                                                                     \n",
      "[LightGBM] [Warning] No further splits with positive gain, best gain: -inf                                                                                     \n",
      "[LightGBM] [Warning] No further splits with positive gain, best gain: -inf                                                                                     \n",
      "[LightGBM] [Warning] No further splits with positive gain, best gain: -inf                                                                                     \n",
      "[LightGBM] [Warning] No further splits with positive gain, best gain: -inf                                                                                     \n",
      "[LightGBM] [Warning] No further splits with positive gain, best gain: -inf                                                                                     \n",
      "[LightGBM] [Warning] No further splits with positive gain, best gain: -inf                                                                                     \n",
      " 73%|████████████████████████████████████████████████████████████████▌                       | 11/15 [04:25<01:27, 21.79s/trial, best loss: 0.9400651465798046]"
     ]
    },
    {
     "name": "stderr",
     "output_type": "stream",
     "text": [
      "/home/codespace/.local/lib/python3.12/site-packages/sklearn/utils/validation.py:2739: UserWarning: X does not have valid feature names, but LGBMClassifier was fitted with feature names\n",
      "  warnings.warn(\n",
      "\n",
      "/home/codespace/.local/lib/python3.12/site-packages/sklearn/utils/validation.py:2739: UserWarning: X does not have valid feature names, but LGBMClassifier was fitted with feature names\n",
      "  warnings.warn(\n",
      "\n"
     ]
    },
    {
     "name": "stdout",
     "output_type": "stream",
     "text": [
      "🏃 View run treasured-chimp-568 at: http://127.0.0.1:5000/#/experiments/1/runs/d1d39b3cee94419f8b7ccd2e8ebe6672                                                \n",
      "\n",
      "🧪 View experiment at: http://127.0.0.1:5000/#/experiments/1                                                                                                   \n",
      "\n",
      "[LightGBM] [Info] Number of positive: 20490, number of negative: 16350                                                                                         \n",
      "[LightGBM] [Info] Auto-choosing row-wise multi-threading, the overhead of testing was 5.575310 seconds.                                                        \n",
      "You can set `force_row_wise=true` to remove the overhead.\n",
      "And if memory is not enough, you can set `force_col_wise=true`.\n",
      "[LightGBM] [Info] Total Bins 100778                                                                                                                            \n",
      "[LightGBM] [Info] Number of data points in the train set: 36840, number of used features: 18452                                                                \n",
      "[LightGBM] [Info] [binary:BoostFromScore]: pavg=0.556189 -> initscore=0.225709                                                                                 \n",
      "[LightGBM] [Info] Start training from score 0.225709                                                                                                           \n",
      " 80%|██████████████████████████████████████████████████████████████████████▍                 | 12/15 [04:41<01:05, 21.96s/trial, best loss: 0.9400651465798046]"
     ]
    },
    {
     "name": "stderr",
     "output_type": "stream",
     "text": [
      "/home/codespace/.local/lib/python3.12/site-packages/sklearn/utils/validation.py:2739: UserWarning: X does not have valid feature names, but LGBMClassifier was fitted with feature names\n",
      "  warnings.warn(\n",
      "\n",
      "/home/codespace/.local/lib/python3.12/site-packages/sklearn/utils/validation.py:2739: UserWarning: X does not have valid feature names, but LGBMClassifier was fitted with feature names\n",
      "  warnings.warn(\n",
      "\n"
     ]
    },
    {
     "name": "stdout",
     "output_type": "stream",
     "text": [
      "🏃 View run stylish-wren-931 at: http://127.0.0.1:5000/#/experiments/1/runs/2fbb339cdf9a423ca54c9b534f28575e                                                   \n",
      "\n",
      "🧪 View experiment at: http://127.0.0.1:5000/#/experiments/1                                                                                                   \n",
      "\n",
      "[LightGBM] [Info] Number of positive: 20490, number of negative: 16350                                                                                         \n",
      "[LightGBM] [Info] Auto-choosing row-wise multi-threading, the overhead of testing was 6.144505 seconds.                                                        \n",
      "You can set `force_row_wise=true` to remove the overhead.\n",
      "And if memory is not enough, you can set `force_col_wise=true`.\n",
      "[LightGBM] [Info] Total Bins 100778                                                                                                                            \n",
      "[LightGBM] [Info] Number of data points in the train set: 36840, number of used features: 18452                                                                \n",
      "[LightGBM] [Info] [binary:BoostFromScore]: pavg=0.556189 -> initscore=0.225709                                                                                 \n",
      "[LightGBM] [Info] Start training from score 0.225709                                                                                                           \n",
      "[LightGBM] [Warning] No further splits with positive gain, best gain: -inf                                                                                     \n",
      "[LightGBM] [Warning] No further splits with positive gain, best gain: -inf                                                                                     \n",
      "[LightGBM] [Warning] No further splits with positive gain, best gain: -inf                                                                                     \n",
      "[LightGBM] [Warning] No further splits with positive gain, best gain: -inf                                                                                     \n",
      "[LightGBM] [Warning] No further splits with positive gain, best gain: -inf                                                                                     \n",
      "[LightGBM] [Warning] No further splits with positive gain, best gain: -inf                                                                                     \n",
      "[LightGBM] [Warning] No further splits with positive gain, best gain: -inf                                                                                     \n",
      "[LightGBM] [Warning] No further splits with positive gain, best gain: -inf                                                                                     \n",
      "[LightGBM] [Warning] No further splits with positive gain, best gain: -inf                                                                                     \n",
      "[LightGBM] [Warning] No further splits with positive gain, best gain: -inf                                                                                     \n",
      "[LightGBM] [Warning] No further splits with positive gain, best gain: -inf                                                                                     \n",
      "[LightGBM] [Warning] No further splits with positive gain, best gain: -inf                                                                                     \n",
      "[LightGBM] [Warning] No further splits with positive gain, best gain: -inf                                                                                     \n",
      "[LightGBM] [Warning] No further splits with positive gain, best gain: -inf                                                                                     \n",
      "[LightGBM] [Warning] No further splits with positive gain, best gain: -inf                                                                                     \n",
      "[LightGBM] [Warning] No further splits with positive gain, best gain: -inf                                                                                     \n",
      "[LightGBM] [Warning] No further splits with positive gain, best gain: -inf                                                                                     \n",
      "[LightGBM] [Warning] No further splits with positive gain, best gain: -inf                                                                                     \n",
      "[LightGBM] [Warning] No further splits with positive gain, best gain: -inf                                                                                     \n",
      "[LightGBM] [Warning] No further splits with positive gain, best gain: -inf                                                                                     \n",
      "[LightGBM] [Warning] No further splits with positive gain, best gain: -inf                                                                                     \n",
      "[LightGBM] [Warning] No further splits with positive gain, best gain: -inf                                                                                     \n",
      "[LightGBM] [Warning] No further splits with positive gain, best gain: -inf                                                                                     \n",
      "[LightGBM] [Warning] No further splits with positive gain, best gain: -inf                                                                                     \n",
      "[LightGBM] [Warning] No further splits with positive gain, best gain: -inf                                                                                     \n",
      "[LightGBM] [Warning] No further splits with positive gain, best gain: -inf                                                                                     \n",
      "[LightGBM] [Warning] No further splits with positive gain, best gain: -inf                                                                                     \n",
      "[LightGBM] [Warning] No further splits with positive gain, best gain: -inf                                                                                     \n",
      "[LightGBM] [Warning] No further splits with positive gain, best gain: -inf                                                                                     \n",
      "[LightGBM] [Warning] No further splits with positive gain, best gain: -inf                                                                                     \n",
      "[LightGBM] [Warning] No further splits with positive gain, best gain: -inf                                                                                     \n",
      "[LightGBM] [Warning] No further splits with positive gain, best gain: -inf                                                                                     \n",
      "[LightGBM] [Warning] No further splits with positive gain, best gain: -inf                                                                                     \n",
      "[LightGBM] [Warning] No further splits with positive gain, best gain: -inf                                                                                     \n",
      "[LightGBM] [Warning] No further splits with positive gain, best gain: -inf                                                                                     \n",
      "[LightGBM] [Warning] No further splits with positive gain, best gain: -inf                                                                                     \n",
      "[LightGBM] [Warning] No further splits with positive gain, best gain: -inf                                                                                     \n",
      "[LightGBM] [Warning] No further splits with positive gain, best gain: -inf                                                                                     \n",
      "[LightGBM] [Warning] No further splits with positive gain, best gain: -inf                                                                                     \n",
      "[LightGBM] [Warning] No further splits with positive gain, best gain: -inf                                                                                     \n",
      "[LightGBM] [Warning] No further splits with positive gain, best gain: -inf                                                                                     \n",
      "[LightGBM] [Warning] No further splits with positive gain, best gain: -inf                                                                                     \n",
      "[LightGBM] [Warning] No further splits with positive gain, best gain: -inf                                                                                     \n",
      "[LightGBM] [Warning] No further splits with positive gain, best gain: -inf                                                                                     \n",
      "[LightGBM] [Warning] No further splits with positive gain, best gain: -inf                                                                                     \n",
      "[LightGBM] [Warning] No further splits with positive gain, best gain: -inf                                                                                     \n",
      "[LightGBM] [Warning] No further splits with positive gain, best gain: -inf                                                                                     \n",
      "[LightGBM] [Warning] No further splits with positive gain, best gain: -inf                                                                                     \n",
      "[LightGBM] [Warning] No further splits with positive gain, best gain: -inf                                                                                     \n",
      "[LightGBM] [Warning] No further splits with positive gain, best gain: -inf                                                                                     \n",
      "[LightGBM] [Warning] No further splits with positive gain, best gain: -inf                                                                                     \n",
      "[LightGBM] [Warning] No further splits with positive gain, best gain: -inf                                                                                     \n",
      "[LightGBM] [Warning] No further splits with positive gain, best gain: -inf                                                                                     \n",
      "[LightGBM] [Warning] No further splits with positive gain, best gain: -inf                                                                                     \n",
      "[LightGBM] [Warning] No further splits with positive gain, best gain: -inf                                                                                     \n",
      "[LightGBM] [Warning] No further splits with positive gain, best gain: -inf                                                                                     \n",
      "[LightGBM] [Warning] No further splits with positive gain, best gain: -inf                                                                                     \n",
      "[LightGBM] [Warning] No further splits with positive gain, best gain: -inf                                                                                     \n",
      "[LightGBM] [Warning] No further splits with positive gain, best gain: -inf                                                                                     \n",
      "[LightGBM] [Warning] No further splits with positive gain, best gain: -inf                                                                                     \n",
      "[LightGBM] [Warning] No further splits with positive gain, best gain: -inf                                                                                     \n",
      "[LightGBM] [Warning] No further splits with positive gain, best gain: -inf                                                                                     \n",
      "[LightGBM] [Warning] No further splits with positive gain, best gain: -inf                                                                                     \n",
      "[LightGBM] [Warning] No further splits with positive gain, best gain: -inf                                                                                     \n",
      "[LightGBM] [Warning] No further splits with positive gain, best gain: -inf                                                                                     \n",
      "[LightGBM] [Warning] No further splits with positive gain, best gain: -inf                                                                                     \n",
      "[LightGBM] [Warning] No further splits with positive gain, best gain: -inf                                                                                     \n",
      "[LightGBM] [Warning] No further splits with positive gain, best gain: -inf                                                                                     \n",
      "[LightGBM] [Warning] No further splits with positive gain, best gain: -inf                                                                                     \n",
      "[LightGBM] [Warning] No further splits with positive gain, best gain: -inf                                                                                     \n",
      "[LightGBM] [Warning] No further splits with positive gain, best gain: -inf                                                                                     \n",
      "[LightGBM] [Warning] No further splits with positive gain, best gain: -inf                                                                                     \n",
      "[LightGBM] [Warning] No further splits with positive gain, best gain: -inf                                                                                     \n",
      "[LightGBM] [Warning] No further splits with positive gain, best gain: -inf                                                                                     \n",
      "[LightGBM] [Warning] No further splits with positive gain, best gain: -inf                                                                                     \n",
      "[LightGBM] [Warning] No further splits with positive gain, best gain: -inf                                                                                     \n",
      "[LightGBM] [Warning] No further splits with positive gain, best gain: -inf                                                                                     \n",
      "[LightGBM] [Warning] No further splits with positive gain, best gain: -inf                                                                                     \n",
      "[LightGBM] [Warning] No further splits with positive gain, best gain: -inf                                                                                     \n",
      "[LightGBM] [Warning] No further splits with positive gain, best gain: -inf                                                                                     \n",
      "[LightGBM] [Warning] No further splits with positive gain, best gain: -inf                                                                                     \n",
      "[LightGBM] [Warning] No further splits with positive gain, best gain: -inf                                                                                     \n",
      "[LightGBM] [Warning] No further splits with positive gain, best gain: -inf                                                                                     \n",
      "[LightGBM] [Warning] No further splits with positive gain, best gain: -inf                                                                                     \n",
      "[LightGBM] [Warning] No further splits with positive gain, best gain: -inf                                                                                     \n",
      "[LightGBM] [Warning] No further splits with positive gain, best gain: -inf                                                                                     \n",
      "[LightGBM] [Warning] No further splits with positive gain, best gain: -inf                                                                                     \n",
      "[LightGBM] [Warning] No further splits with positive gain, best gain: -inf                                                                                     \n",
      "[LightGBM] [Warning] No further splits with positive gain, best gain: -inf                                                                                     \n",
      "[LightGBM] [Warning] No further splits with positive gain, best gain: -inf                                                                                     \n",
      "[LightGBM] [Warning] No further splits with positive gain, best gain: -inf                                                                                     \n",
      "[LightGBM] [Warning] No further splits with positive gain, best gain: -inf                                                                                     \n",
      "[LightGBM] [Warning] No further splits with positive gain, best gain: -inf                                                                                     \n",
      "[LightGBM] [Warning] No further splits with positive gain, best gain: -inf                                                                                     \n",
      "[LightGBM] [Warning] No further splits with positive gain, best gain: -inf                                                                                     \n",
      "[LightGBM] [Warning] No further splits with positive gain, best gain: -inf                                                                                     \n",
      "[LightGBM] [Warning] No further splits with positive gain, best gain: -inf                                                                                     \n",
      " 87%|████████████████████████████████████████████████████████████████████████████▎           | 13/15 [05:11<00:46, 23.15s/trial, best loss: 0.9400651465798046]"
     ]
    },
    {
     "name": "stderr",
     "output_type": "stream",
     "text": [
      "/home/codespace/.local/lib/python3.12/site-packages/sklearn/utils/validation.py:2739: UserWarning: X does not have valid feature names, but LGBMClassifier was fitted with feature names\n",
      "  warnings.warn(\n",
      "\n",
      "/home/codespace/.local/lib/python3.12/site-packages/sklearn/utils/validation.py:2739: UserWarning: X does not have valid feature names, but LGBMClassifier was fitted with feature names\n",
      "  warnings.warn(\n",
      "\n"
     ]
    },
    {
     "name": "stdout",
     "output_type": "stream",
     "text": [
      "🏃 View run crawling-vole-20 at: http://127.0.0.1:5000/#/experiments/1/runs/97551958a23b43f6973a5db91fb76580                                                   \n",
      "\n",
      "🧪 View experiment at: http://127.0.0.1:5000/#/experiments/1                                                                                                   \n",
      "\n",
      "[LightGBM] [Info] Number of positive: 20490, number of negative: 16350                                                                                         \n",
      "[LightGBM] [Info] Auto-choosing row-wise multi-threading, the overhead of testing was 5.794463 seconds.                                                        \n",
      "You can set `force_row_wise=true` to remove the overhead.\n",
      "And if memory is not enough, you can set `force_col_wise=true`.\n",
      "[LightGBM] [Info] Total Bins 100778                                                                                                                            \n",
      "[LightGBM] [Info] Number of data points in the train set: 36840, number of used features: 18452                                                                \n",
      "[LightGBM] [Info] [binary:BoostFromScore]: pavg=0.556189 -> initscore=0.225709                                                                                 \n",
      "[LightGBM] [Info] Start training from score 0.225709                                                                                                           \n",
      "[LightGBM] [Warning] No further splits with positive gain, best gain: -inf                                                                                     \n",
      "[LightGBM] [Warning] No further splits with positive gain, best gain: -inf                                                                                     \n",
      "[LightGBM] [Warning] No further splits with positive gain, best gain: -inf                                                                                     \n",
      "[LightGBM] [Warning] No further splits with positive gain, best gain: -inf                                                                                     \n",
      "[LightGBM] [Warning] No further splits with positive gain, best gain: -inf                                                                                     \n",
      "[LightGBM] [Warning] No further splits with positive gain, best gain: -inf                                                                                     \n",
      "[LightGBM] [Warning] No further splits with positive gain, best gain: -inf                                                                                     \n",
      "[LightGBM] [Warning] No further splits with positive gain, best gain: -inf                                                                                     \n",
      "[LightGBM] [Warning] No further splits with positive gain, best gain: -inf                                                                                     \n",
      "[LightGBM] [Warning] No further splits with positive gain, best gain: -inf                                                                                     \n",
      "[LightGBM] [Warning] No further splits with positive gain, best gain: -inf                                                                                     \n",
      "[LightGBM] [Warning] No further splits with positive gain, best gain: -inf                                                                                     \n",
      "[LightGBM] [Warning] No further splits with positive gain, best gain: -inf                                                                                     \n",
      "[LightGBM] [Warning] No further splits with positive gain, best gain: -inf                                                                                     \n",
      "[LightGBM] [Warning] No further splits with positive gain, best gain: -inf                                                                                     \n",
      "[LightGBM] [Warning] No further splits with positive gain, best gain: -inf                                                                                     \n",
      "[LightGBM] [Warning] No further splits with positive gain, best gain: -inf                                                                                     \n",
      "[LightGBM] [Warning] No further splits with positive gain, best gain: -inf                                                                                     \n",
      "[LightGBM] [Warning] No further splits with positive gain, best gain: -inf                                                                                     \n",
      "[LightGBM] [Warning] No further splits with positive gain, best gain: -inf                                                                                     \n",
      "[LightGBM] [Warning] No further splits with positive gain, best gain: -inf                                                                                     \n",
      "[LightGBM] [Warning] No further splits with positive gain, best gain: -inf                                                                                     \n",
      "[LightGBM] [Warning] No further splits with positive gain, best gain: -inf                                                                                     \n",
      "[LightGBM] [Warning] No further splits with positive gain, best gain: -inf                                                                                     \n",
      "[LightGBM] [Warning] No further splits with positive gain, best gain: -inf                                                                                     \n",
      "[LightGBM] [Warning] No further splits with positive gain, best gain: -inf                                                                                     \n",
      "[LightGBM] [Warning] No further splits with positive gain, best gain: -inf                                                                                     \n",
      "[LightGBM] [Warning] No further splits with positive gain, best gain: -inf                                                                                     \n",
      "[LightGBM] [Warning] No further splits with positive gain, best gain: -inf                                                                                     \n",
      "[LightGBM] [Warning] No further splits with positive gain, best gain: -inf                                                                                     \n",
      "[LightGBM] [Warning] No further splits with positive gain, best gain: -inf                                                                                     \n",
      "[LightGBM] [Warning] No further splits with positive gain, best gain: -inf                                                                                     \n",
      "[LightGBM] [Warning] No further splits with positive gain, best gain: -inf                                                                                     \n",
      "[LightGBM] [Warning] No further splits with positive gain, best gain: -inf                                                                                     \n",
      "[LightGBM] [Warning] No further splits with positive gain, best gain: -inf                                                                                     \n",
      "[LightGBM] [Warning] No further splits with positive gain, best gain: -inf                                                                                     \n",
      "[LightGBM] [Warning] No further splits with positive gain, best gain: -inf                                                                                     \n",
      "[LightGBM] [Warning] No further splits with positive gain, best gain: -inf                                                                                     \n",
      "[LightGBM] [Warning] No further splits with positive gain, best gain: -inf                                                                                     \n",
      "[LightGBM] [Warning] No further splits with positive gain, best gain: -inf                                                                                     \n",
      "[LightGBM] [Warning] No further splits with positive gain, best gain: -inf                                                                                     \n",
      "[LightGBM] [Warning] No further splits with positive gain, best gain: -inf                                                                                     \n",
      "[LightGBM] [Warning] No further splits with positive gain, best gain: -inf                                                                                     \n",
      "[LightGBM] [Warning] No further splits with positive gain, best gain: -inf                                                                                     \n",
      "[LightGBM] [Warning] No further splits with positive gain, best gain: -inf                                                                                     \n",
      "[LightGBM] [Warning] No further splits with positive gain, best gain: -inf                                                                                     \n",
      "[LightGBM] [Warning] No further splits with positive gain, best gain: -inf                                                                                     \n",
      "[LightGBM] [Warning] No further splits with positive gain, best gain: -inf                                                                                     \n",
      "[LightGBM] [Warning] No further splits with positive gain, best gain: -inf                                                                                     \n",
      "[LightGBM] [Warning] No further splits with positive gain, best gain: -inf                                                                                     \n",
      "[LightGBM] [Warning] No further splits with positive gain, best gain: -inf                                                                                     \n",
      "[LightGBM] [Warning] No further splits with positive gain, best gain: -inf                                                                                     \n",
      "[LightGBM] [Warning] No further splits with positive gain, best gain: -inf                                                                                     \n",
      "[LightGBM] [Warning] No further splits with positive gain, best gain: -inf                                                                                     \n",
      "[LightGBM] [Warning] No further splits with positive gain, best gain: -inf                                                                                     \n",
      "[LightGBM] [Warning] No further splits with positive gain, best gain: -inf                                                                                     \n",
      "[LightGBM] [Warning] No further splits with positive gain, best gain: -inf                                                                                     \n",
      "[LightGBM] [Warning] No further splits with positive gain, best gain: -inf                                                                                     \n",
      "[LightGBM] [Warning] No further splits with positive gain, best gain: -inf                                                                                     \n",
      "[LightGBM] [Warning] No further splits with positive gain, best gain: -inf                                                                                     \n",
      "[LightGBM] [Warning] No further splits with positive gain, best gain: -inf                                                                                     \n",
      "[LightGBM] [Warning] No further splits with positive gain, best gain: -inf                                                                                     \n",
      "[LightGBM] [Warning] No further splits with positive gain, best gain: -inf                                                                                     \n",
      "[LightGBM] [Warning] No further splits with positive gain, best gain: -inf                                                                                     \n",
      "[LightGBM] [Warning] No further splits with positive gain, best gain: -inf                                                                                     \n",
      "[LightGBM] [Warning] No further splits with positive gain, best gain: -inf                                                                                     \n",
      "[LightGBM] [Warning] No further splits with positive gain, best gain: -inf                                                                                     \n",
      "[LightGBM] [Warning] No further splits with positive gain, best gain: -inf                                                                                     \n",
      "[LightGBM] [Warning] No further splits with positive gain, best gain: -inf                                                                                     \n",
      "[LightGBM] [Warning] No further splits with positive gain, best gain: -inf                                                                                     \n",
      "[LightGBM] [Warning] No further splits with positive gain, best gain: -inf                                                                                     \n",
      "[LightGBM] [Warning] No further splits with positive gain, best gain: -inf                                                                                     \n",
      "[LightGBM] [Warning] No further splits with positive gain, best gain: -inf                                                                                     \n",
      "[LightGBM] [Warning] No further splits with positive gain, best gain: -inf                                                                                     \n",
      "[LightGBM] [Warning] No further splits with positive gain, best gain: -inf                                                                                     \n",
      "[LightGBM] [Warning] No further splits with positive gain, best gain: -inf                                                                                     \n",
      "[LightGBM] [Warning] No further splits with positive gain, best gain: -inf                                                                                     \n",
      "[LightGBM] [Warning] No further splits with positive gain, best gain: -inf                                                                                     \n",
      "[LightGBM] [Warning] No further splits with positive gain, best gain: -inf                                                                                     \n",
      "[LightGBM] [Warning] No further splits with positive gain, best gain: -inf                                                                                     \n",
      "[LightGBM] [Warning] No further splits with positive gain, best gain: -inf                                                                                     \n",
      "[LightGBM] [Warning] No further splits with positive gain, best gain: -inf                                                                                     \n",
      "[LightGBM] [Warning] No further splits with positive gain, best gain: -inf                                                                                     \n",
      "[LightGBM] [Warning] No further splits with positive gain, best gain: -inf                                                                                     \n",
      "[LightGBM] [Warning] No further splits with positive gain, best gain: -inf                                                                                     \n",
      "[LightGBM] [Warning] No further splits with positive gain, best gain: -inf                                                                                     \n",
      "[LightGBM] [Warning] No further splits with positive gain, best gain: -inf                                                                                     \n",
      "[LightGBM] [Warning] No further splits with positive gain, best gain: -inf                                                                                     \n",
      "[LightGBM] [Warning] No further splits with positive gain, best gain: -inf                                                                                     \n",
      "[LightGBM] [Warning] No further splits with positive gain, best gain: -inf                                                                                     \n",
      "[LightGBM] [Warning] No further splits with positive gain, best gain: -inf                                                                                     \n",
      "[LightGBM] [Warning] No further splits with positive gain, best gain: -inf                                                                                     \n",
      "[LightGBM] [Warning] No further splits with positive gain, best gain: -inf                                                                                     \n",
      "[LightGBM] [Warning] No further splits with positive gain, best gain: -inf                                                                                     \n",
      "[LightGBM] [Warning] No further splits with positive gain, best gain: -inf                                                                                     \n",
      "[LightGBM] [Warning] No further splits with positive gain, best gain: -inf                                                                                     \n",
      "[LightGBM] [Warning] No further splits with positive gain, best gain: -inf                                                                                     \n",
      "[LightGBM] [Warning] No further splits with positive gain, best gain: -inf                                                                                     \n",
      "[LightGBM] [Warning] No further splits with positive gain, best gain: -inf                                                                                     \n",
      "[LightGBM] [Warning] No further splits with positive gain, best gain: -inf                                                                                     \n",
      "[LightGBM] [Warning] No further splits with positive gain, best gain: -inf                                                                                     \n",
      "[LightGBM] [Warning] No further splits with positive gain, best gain: -inf                                                                                     \n",
      "[LightGBM] [Warning] No further splits with positive gain, best gain: -inf                                                                                     \n",
      "[LightGBM] [Warning] No further splits with positive gain, best gain: -inf                                                                                     \n",
      "[LightGBM] [Warning] No further splits with positive gain, best gain: -inf                                                                                     \n",
      "[LightGBM] [Warning] No further splits with positive gain, best gain: -inf                                                                                     \n",
      "[LightGBM] [Warning] No further splits with positive gain, best gain: -inf                                                                                     \n",
      "[LightGBM] [Warning] No further splits with positive gain, best gain: -inf                                                                                     \n",
      "[LightGBM] [Warning] No further splits with positive gain, best gain: -inf                                                                                     \n",
      "[LightGBM] [Warning] No further splits with positive gain, best gain: -inf                                                                                     \n",
      "[LightGBM] [Warning] No further splits with positive gain, best gain: -inf                                                                                     \n",
      "[LightGBM] [Warning] No further splits with positive gain, best gain: -inf                                                                                     \n",
      "[LightGBM] [Warning] No further splits with positive gain, best gain: -inf                                                                                     \n",
      "[LightGBM] [Warning] No further splits with positive gain, best gain: -inf                                                                                     \n",
      "[LightGBM] [Warning] No further splits with positive gain, best gain: -inf                                                                                     \n",
      "[LightGBM] [Warning] No further splits with positive gain, best gain: -inf                                                                                     \n",
      "[LightGBM] [Warning] No further splits with positive gain, best gain: -inf                                                                                     \n",
      "[LightGBM] [Warning] No further splits with positive gain, best gain: -inf                                                                                     \n",
      "[LightGBM] [Warning] No further splits with positive gain, best gain: -inf                                                                                     \n",
      "[LightGBM] [Warning] No further splits with positive gain, best gain: -inf                                                                                     \n",
      "[LightGBM] [Warning] No further splits with positive gain, best gain: -inf                                                                                     \n",
      "[LightGBM] [Warning] No further splits with positive gain, best gain: -inf                                                                                     \n",
      "[LightGBM] [Warning] No further splits with positive gain, best gain: -inf                                                                                     \n",
      "[LightGBM] [Warning] No further splits with positive gain, best gain: -inf                                                                                     \n",
      "[LightGBM] [Warning] No further splits with positive gain, best gain: -inf                                                                                     \n",
      "[LightGBM] [Warning] No further splits with positive gain, best gain: -inf                                                                                     \n",
      "[LightGBM] [Warning] No further splits with positive gain, best gain: -inf                                                                                     \n",
      "[LightGBM] [Warning] No further splits with positive gain, best gain: -inf                                                                                     \n",
      "[LightGBM] [Warning] No further splits with positive gain, best gain: -inf                                                                                     \n",
      "[LightGBM] [Warning] No further splits with positive gain, best gain: -inf                                                                                     \n",
      "[LightGBM] [Warning] No further splits with positive gain, best gain: -inf                                                                                     \n",
      "[LightGBM] [Warning] No further splits with positive gain, best gain: -inf                                                                                     \n",
      "[LightGBM] [Warning] No further splits with positive gain, best gain: -inf                                                                                     \n",
      "[LightGBM] [Warning] No further splits with positive gain, best gain: -inf                                                                                     \n",
      "[LightGBM] [Warning] No further splits with positive gain, best gain: -inf                                                                                     \n",
      "[LightGBM] [Warning] No further splits with positive gain, best gain: -inf                                                                                     \n",
      "[LightGBM] [Warning] No further splits with positive gain, best gain: -inf                                                                                     \n",
      "[LightGBM] [Warning] No further splits with positive gain, best gain: -inf                                                                                     \n",
      "[LightGBM] [Warning] No further splits with positive gain, best gain: -inf                                                                                     \n",
      "[LightGBM] [Warning] No further splits with positive gain, best gain: -inf                                                                                     \n",
      "[LightGBM] [Warning] No further splits with positive gain, best gain: -inf                                                                                     \n",
      " 93%|██████████████████████████████████████████████████████████████████████████████████▏     | 14/15 [05:33<00:22, 22.52s/trial, best loss: 0.9400651465798046]"
     ]
    },
    {
     "name": "stderr",
     "output_type": "stream",
     "text": [
      "/home/codespace/.local/lib/python3.12/site-packages/sklearn/utils/validation.py:2739: UserWarning: X does not have valid feature names, but LGBMClassifier was fitted with feature names\n",
      "  warnings.warn(\n",
      "\n",
      "/home/codespace/.local/lib/python3.12/site-packages/sklearn/utils/validation.py:2739: UserWarning: X does not have valid feature names, but LGBMClassifier was fitted with feature names\n",
      "  warnings.warn(\n",
      "\n"
     ]
    },
    {
     "name": "stdout",
     "output_type": "stream",
     "text": [
      "🏃 View run clean-bat-942 at: http://127.0.0.1:5000/#/experiments/1/runs/c4b62c00f529437892eead9d248d0061                                                      \n",
      "\n",
      "🧪 View experiment at: http://127.0.0.1:5000/#/experiments/1                                                                                                   \n",
      "\n",
      "100%|████████████████████████████████████████████████████████████████████████████████████████| 15/15 [05:35<00:00, 22.36s/trial, best loss: 0.9400651465798046]\n"
     ]
    }
   ],
   "source": [
    "search_space_lgbm = {\n",
    "    # 'num_leaves': scope.int(hp.quniform('num_leaves', 20, 150, 1)),  \n",
    "    'max_depth': scope.int(hp.quniform('max_depth', 4, 15, 1)),  \n",
    "    'learning_rate': hp.loguniform('learning_rate', -5, 0),  # log-uniform für feine Abstufungen\n",
    "    'n_estimators': scope.int(hp.quniform('n_estimators', 50, 150, 1)),  \n",
    "    # 'min_child_samples': scope.int(hp.quniform('min_child_samples', 5, 50, 1)),  \n",
    "    'subsample': hp.uniform('subsample', 0.5, 1.0),  \n",
    "    'colsample_bytree': hp.uniform('colsample_bytree', 0.7, 1.0),  \n",
    "    # 'reg_alpha': hp.loguniform('reg_alpha', -5, 1),  \n",
    "    # 'reg_lambda': hp.loguniform('reg_lambda', -5, 1),  \n",
    "    'seed': 0\n",
    "}\n",
    "\n",
    "run_optimization(X_train_bow.astype(np.float32), y_train, X_val_bow.astype(np.float32), y_val, model_name='LightGBM', search_space=search_space_lgbm, num_trials=15)"
   ]
  },
  {
   "cell_type": "markdown",
   "id": "4ae13240",
   "metadata": {},
   "source": [
    "## Experiment Tracking SVM"
   ]
  },
  {
   "cell_type": "code",
   "execution_count": 11,
   "id": "9c93f099-a5c1-4d2b-993d-ca6256f38b91",
   "metadata": {},
   "outputs": [
    {
     "name": "stdout",
     "output_type": "stream",
     "text": [
      "🏃 View run luminous-swan-871 at: http://127.0.0.1:5000/#/experiments/1/runs/613ac218aee44135bc87fd1999233749                                                  \n",
      "\n",
      "🧪 View experiment at: http://127.0.0.1:5000/#/experiments/1                                                                                                   \n",
      "\n",
      "🏃 View run loud-duck-628 at: http://127.0.0.1:5000/#/experiments/1/runs/4ce319eed20c4acd9763d62b45c6f3b6                                                      \n",
      "\n",
      "🧪 View experiment at: http://127.0.0.1:5000/#/experiments/1                                                                                                   \n",
      "\n",
      "  2%|█▊                                                                                      | 2/100 [00:19<16:53, 10.34s/trial, best loss: 0.9501628664495114]"
     ]
    },
    {
     "name": "stderr",
     "output_type": "stream",
     "text": [
      "/home/codespace/.local/lib/python3.12/site-packages/sklearn/svm/_base.py:1243: ConvergenceWarning: Liblinear failed to converge, increase the number of iterations.\n",
      "  warnings.warn(\n",
      "\n"
     ]
    },
    {
     "name": "stdout",
     "output_type": "stream",
     "text": [
      "🏃 View run resilient-bee-456 at: http://127.0.0.1:5000/#/experiments/1/runs/99695961df5b4fde834d67e1002b7eee                                                  \n",
      "\n",
      "🧪 View experiment at: http://127.0.0.1:5000/#/experiments/1                                                                                                   \n",
      "\n",
      "🏃 View run enthused-duck-662 at: http://127.0.0.1:5000/#/experiments/1/runs/68939681c5954f329a37e5ea64ab410b                                                  \n",
      "\n",
      "🧪 View experiment at: http://127.0.0.1:5000/#/experiments/1                                                                                                   \n",
      "\n",
      "🏃 View run indecisive-bird-410 at: http://127.0.0.1:5000/#/experiments/1/runs/3f751426234b46a2936a05e5848e4648                                                \n",
      "\n",
      "🧪 View experiment at: http://127.0.0.1:5000/#/experiments/1                                                                                                   \n",
      "\n",
      "🏃 View run spiffy-snail-968 at: http://127.0.0.1:5000/#/experiments/1/runs/f50798d3f28c47f0945e16f9e34b2209                                                   \n",
      "\n",
      "🧪 View experiment at: http://127.0.0.1:5000/#/experiments/1                                                                                                   \n",
      "\n",
      "🏃 View run spiffy-roo-2 at: http://127.0.0.1:5000/#/experiments/1/runs/c53932bdbef941aba3bc33b93a098d65                                                       \n",
      "\n",
      "🧪 View experiment at: http://127.0.0.1:5000/#/experiments/1                                                                                                   \n",
      "\n",
      "🏃 View run casual-turtle-328 at: http://127.0.0.1:5000/#/experiments/1/runs/a8bebbf425104a5080e3ebc9fe8afa37                                                  \n",
      "\n",
      "🧪 View experiment at: http://127.0.0.1:5000/#/experiments/1                                                                                                   \n",
      "\n",
      "🏃 View run bouncy-fawn-836 at: http://127.0.0.1:5000/#/experiments/1/runs/561cdd53fecf4f179967abe22df3bd3f                                                    \n",
      "\n",
      "🧪 View experiment at: http://127.0.0.1:5000/#/experiments/1                                                                                                   \n",
      "\n",
      "🏃 View run merciful-rat-309 at: http://127.0.0.1:5000/#/experiments/1/runs/dd8cb5ef0b614b909076f8e86c2cb6d6                                                   \n",
      "\n",
      "🧪 View experiment at: http://127.0.0.1:5000/#/experiments/1                                                                                                   \n",
      "\n",
      "🏃 View run enchanting-smelt-111 at: http://127.0.0.1:5000/#/experiments/1/runs/a235c2e04f304a0a8f264fabf46e9cda                                               \n",
      "\n",
      "🧪 View experiment at: http://127.0.0.1:5000/#/experiments/1                                                                                                   \n",
      "\n",
      "🏃 View run omniscient-bass-601 at: http://127.0.0.1:5000/#/experiments/1/runs/e7d1f0228667424aa61de444e2b1cb03                                                \n",
      "\n",
      "🧪 View experiment at: http://127.0.0.1:5000/#/experiments/1                                                                                                   \n",
      "\n",
      "🏃 View run colorful-fox-143 at: http://127.0.0.1:5000/#/experiments/1/runs/fb4d577cea3340e39cfc8316926d426c                                                   \n",
      "\n",
      "🧪 View experiment at: http://127.0.0.1:5000/#/experiments/1                                                                                                   \n",
      "\n",
      " 13%|███████████▎                                                                           | 13/100 [00:49<05:55,  4.08s/trial, best loss: 0.8904723127035831]"
     ]
    },
    {
     "name": "stderr",
     "output_type": "stream",
     "text": [
      "/home/codespace/.local/lib/python3.12/site-packages/sklearn/svm/_base.py:1243: ConvergenceWarning: Liblinear failed to converge, increase the number of iterations.\n",
      "  warnings.warn(\n",
      "\n"
     ]
    },
    {
     "name": "stdout",
     "output_type": "stream",
     "text": [
      "🏃 View run zealous-rat-914 at: http://127.0.0.1:5000/#/experiments/1/runs/fcb08e22c12d42b59b376e7593d7062d                                                    \n",
      "\n",
      "🧪 View experiment at: http://127.0.0.1:5000/#/experiments/1                                                                                                   \n",
      "\n",
      "🏃 View run trusting-newt-491 at: http://127.0.0.1:5000/#/experiments/1/runs/3b8271951d494803b15492fdf8833722                                                  \n",
      "\n",
      "🧪 View experiment at: http://127.0.0.1:5000/#/experiments/1                                                                                                   \n",
      "\n",
      "🏃 View run rumbling-seal-174 at: http://127.0.0.1:5000/#/experiments/1/runs/d9d67acee2b146de942be2a90b9dc9d2                                                  \n",
      "\n",
      "🧪 View experiment at: http://127.0.0.1:5000/#/experiments/1                                                                                                   \n",
      "\n",
      "🏃 View run auspicious-pug-927 at: http://127.0.0.1:5000/#/experiments/1/runs/ad238bc710284b68a35d970b8778bb59                                                 \n",
      "\n",
      "🧪 View experiment at: http://127.0.0.1:5000/#/experiments/1                                                                                                   \n",
      "\n",
      "🏃 View run skillful-turtle-669 at: http://127.0.0.1:5000/#/experiments/1/runs/55614f746cf04717840248d45b32f959                                                \n",
      "\n",
      "🧪 View experiment at: http://127.0.0.1:5000/#/experiments/1                                                                                                   \n",
      "\n",
      "🏃 View run youthful-bug-114 at: http://127.0.0.1:5000/#/experiments/1/runs/2858f8c9e8f3440ca054afd5dbd1d81f                                                   \n",
      "\n",
      "🧪 View experiment at: http://127.0.0.1:5000/#/experiments/1                                                                                                   \n",
      "\n",
      "🏃 View run vaunted-boar-640 at: http://127.0.0.1:5000/#/experiments/1/runs/abf8ab86f7a1435ba2cfc7426a34484f                                                   \n",
      "\n",
      "🧪 View experiment at: http://127.0.0.1:5000/#/experiments/1                                                                                                   \n",
      "\n",
      " 20%|█████████████████▍                                                                     | 20/100 [01:14<08:25,  6.32s/trial, best loss: 0.8824104234527688]"
     ]
    },
    {
     "name": "stderr",
     "output_type": "stream",
     "text": [
      "/home/codespace/.local/lib/python3.12/site-packages/sklearn/svm/_base.py:1243: ConvergenceWarning: Liblinear failed to converge, increase the number of iterations.\n",
      "  warnings.warn(\n",
      "\n"
     ]
    },
    {
     "name": "stdout",
     "output_type": "stream",
     "text": [
      "🏃 View run sneaky-shoat-274 at: http://127.0.0.1:5000/#/experiments/1/runs/370a6df614b745a492c675d00f2fb605                                                   \n",
      "\n",
      "🧪 View experiment at: http://127.0.0.1:5000/#/experiments/1                                                                                                   \n",
      "\n",
      "🏃 View run loud-pig-227 at: http://127.0.0.1:5000/#/experiments/1/runs/eb95a1d20bff4f908561377701b69392                                                       \n",
      "\n",
      "🧪 View experiment at: http://127.0.0.1:5000/#/experiments/1                                                                                                   \n",
      "\n",
      "🏃 View run crawling-tern-410 at: http://127.0.0.1:5000/#/experiments/1/runs/9050accfadd244639ba3b997e2a1a3e2                                                  \n",
      "\n",
      "🧪 View experiment at: http://127.0.0.1:5000/#/experiments/1                                                                                                   \n",
      "\n",
      "🏃 View run orderly-fly-234 at: http://127.0.0.1:5000/#/experiments/1/runs/3b484064aef34679a6a6e2f4c05ae9aa                                                    \n",
      "\n",
      "🧪 View experiment at: http://127.0.0.1:5000/#/experiments/1                                                                                                   \n",
      "\n",
      "🏃 View run adorable-bear-242 at: http://127.0.0.1:5000/#/experiments/1/runs/2ca929ebc85241d2886f4609e9de66af                                                  \n",
      "\n",
      "🧪 View experiment at: http://127.0.0.1:5000/#/experiments/1                                                                                                   \n",
      "\n",
      "🏃 View run handsome-swan-840 at: http://127.0.0.1:5000/#/experiments/1/runs/de1ef076a97349d1be3018f8f6863315                                                  \n",
      "\n",
      "🧪 View experiment at: http://127.0.0.1:5000/#/experiments/1                                                                                                   \n",
      "\n",
      "🏃 View run tasteful-fly-712 at: http://127.0.0.1:5000/#/experiments/1/runs/14786e3879cb46768dda02738407efc3                                                   \n",
      "\n",
      "🧪 View experiment at: http://127.0.0.1:5000/#/experiments/1                                                                                                   \n",
      "\n",
      "🏃 View run stately-doe-486 at: http://127.0.0.1:5000/#/experiments/1/runs/cd8e1c1c3d4849c096504d7427d557fe                                                    \n",
      "\n",
      "🧪 View experiment at: http://127.0.0.1:5000/#/experiments/1                                                                                                   \n",
      "\n",
      "🏃 View run awesome-duck-522 at: http://127.0.0.1:5000/#/experiments/1/runs/4503d0a4ac074212b1a849cc4b9daf81                                                   \n",
      "\n",
      "🧪 View experiment at: http://127.0.0.1:5000/#/experiments/1                                                                                                   \n",
      "\n",
      "🏃 View run resilient-robin-62 at: http://127.0.0.1:5000/#/experiments/1/runs/11b0564ca89945648e742c154eb3deb0                                                 \n",
      "\n",
      "🧪 View experiment at: http://127.0.0.1:5000/#/experiments/1                                                                                                   \n",
      "\n",
      "🏃 View run chill-skunk-291 at: http://127.0.0.1:5000/#/experiments/1/runs/9a6dc46c433345c88c443d87f9f9cd06                                                    \n",
      "\n",
      "🧪 View experiment at: http://127.0.0.1:5000/#/experiments/1                                                                                                   \n",
      "\n",
      "🏃 View run melodic-goose-339 at: http://127.0.0.1:5000/#/experiments/1/runs/4885d7c2726b4926aeae716c7b7c86d3                                                  \n",
      "\n",
      "🧪 View experiment at: http://127.0.0.1:5000/#/experiments/1                                                                                                   \n",
      "\n",
      " 32%|███████████████████████████▊                                                           | 32/100 [01:44<05:21,  4.72s/trial, best loss: 0.8799674267100978]"
     ]
    },
    {
     "name": "stderr",
     "output_type": "stream",
     "text": [
      "/home/codespace/.local/lib/python3.12/site-packages/sklearn/svm/_base.py:1243: ConvergenceWarning: Liblinear failed to converge, increase the number of iterations.\n",
      "  warnings.warn(\n",
      "\n"
     ]
    },
    {
     "name": "stdout",
     "output_type": "stream",
     "text": [
      "🏃 View run kindly-skunk-361 at: http://127.0.0.1:5000/#/experiments/1/runs/35e9a35a1f12479e93b5763c76d00c48                                                   \n",
      "\n",
      "🧪 View experiment at: http://127.0.0.1:5000/#/experiments/1                                                                                                   \n",
      "\n",
      "🏃 View run stately-squid-335 at: http://127.0.0.1:5000/#/experiments/1/runs/5512a47fade240c5a4dae094daa763f6                                                  \n",
      "\n",
      "🧪 View experiment at: http://127.0.0.1:5000/#/experiments/1                                                                                                   \n",
      "\n",
      "🏃 View run respected-wolf-28 at: http://127.0.0.1:5000/#/experiments/1/runs/4aaa92cbdd9b4c059231143ec5c7b04e                                                  \n",
      "\n",
      "🧪 View experiment at: http://127.0.0.1:5000/#/experiments/1                                                                                                   \n",
      "\n",
      "🏃 View run respected-crab-888 at: http://127.0.0.1:5000/#/experiments/1/runs/87f0b0ad10b0450e892c2e782f7fe7b0                                                 \n",
      "\n",
      "🧪 View experiment at: http://127.0.0.1:5000/#/experiments/1                                                                                                   \n",
      "\n",
      "🏃 View run able-shad-101 at: http://127.0.0.1:5000/#/experiments/1/runs/118da58cbb9045b6b695bdc5e27f713d                                                      \n",
      "\n",
      "🧪 View experiment at: http://127.0.0.1:5000/#/experiments/1                                                                                                   \n",
      "\n",
      "🏃 View run unleashed-turtle-135 at: http://127.0.0.1:5000/#/experiments/1/runs/e056283f3d034706976ba0c60a9e877b                                               \n",
      "\n",
      "🧪 View experiment at: http://127.0.0.1:5000/#/experiments/1                                                                                                   \n",
      "\n",
      "🏃 View run overjoyed-hare-899 at: http://127.0.0.1:5000/#/experiments/1/runs/03d3999d4b2f4c5db51dd98abe95820a                                                 \n",
      "\n",
      "🧪 View experiment at: http://127.0.0.1:5000/#/experiments/1                                                                                                   \n",
      "\n",
      "🏃 View run sedate-wren-964 at: http://127.0.0.1:5000/#/experiments/1/runs/e8bc6e758019453ca53e29ec3eb9119a                                                    \n",
      "\n",
      "🧪 View experiment at: http://127.0.0.1:5000/#/experiments/1                                                                                                   \n",
      "\n",
      "🏃 View run sassy-flea-980 at: http://127.0.0.1:5000/#/experiments/1/runs/1cee957fa0b247baa0db85bfd46f6a87                                                     \n",
      "\n",
      "🧪 View experiment at: http://127.0.0.1:5000/#/experiments/1                                                                                                   \n",
      "\n",
      " 41%|████████████████████████████████████                                                    | 41/100 [02:16<08:32,  8.68s/trial, best loss: 0.879071661237785]"
     ]
    },
    {
     "name": "stderr",
     "output_type": "stream",
     "text": [
      "/home/codespace/.local/lib/python3.12/site-packages/sklearn/svm/_base.py:1243: ConvergenceWarning: Liblinear failed to converge, increase the number of iterations.\n",
      "  warnings.warn(\n",
      "\n"
     ]
    },
    {
     "name": "stdout",
     "output_type": "stream",
     "text": [
      "🏃 View run illustrious-fawn-681 at: http://127.0.0.1:5000/#/experiments/1/runs/2909b11b5fe5408b9494b7a8ada4ca19                                               \n",
      "\n",
      "🧪 View experiment at: http://127.0.0.1:5000/#/experiments/1                                                                                                   \n",
      "\n",
      "🏃 View run grandiose-roo-595 at: http://127.0.0.1:5000/#/experiments/1/runs/d5a79aa7c4204b208886386727a75e36                                                  \n",
      "\n",
      "🧪 View experiment at: http://127.0.0.1:5000/#/experiments/1                                                                                                   \n",
      "\n",
      "🏃 View run zealous-shoat-347 at: http://127.0.0.1:5000/#/experiments/1/runs/3c56c808d642423082d83b06b5a68eb0                                                  \n",
      "\n",
      "🧪 View experiment at: http://127.0.0.1:5000/#/experiments/1                                                                                                   \n",
      "\n",
      " 44%|██████████████████████████████████████▋                                                 | 44/100 [02:19<03:19,  3.56s/trial, best loss: 0.879071661237785]"
     ]
    },
    {
     "name": "stderr",
     "output_type": "stream",
     "text": [
      "/home/codespace/.local/lib/python3.12/site-packages/sklearn/svm/_base.py:1243: ConvergenceWarning: Liblinear failed to converge, increase the number of iterations.\n",
      "  warnings.warn(\n",
      "\n"
     ]
    },
    {
     "name": "stdout",
     "output_type": "stream",
     "text": [
      "🏃 View run rare-perch-635 at: http://127.0.0.1:5000/#/experiments/1/runs/ba51a78c732448bc9f7a19d99ec059a4                                                     \n",
      "\n",
      "🧪 View experiment at: http://127.0.0.1:5000/#/experiments/1                                                                                                   \n",
      "\n",
      "🏃 View run serious-shrimp-879 at: http://127.0.0.1:5000/#/experiments/1/runs/2871cd2bd5e54ef09322a923c3fe63f4                                                 \n",
      "\n",
      "🧪 View experiment at: http://127.0.0.1:5000/#/experiments/1                                                                                                   \n",
      "\n",
      "🏃 View run industrious-fawn-976 at: http://127.0.0.1:5000/#/experiments/1/runs/01a93a3f2edb4cce815a37327c617791                                               \n",
      "\n",
      "🧪 View experiment at: http://127.0.0.1:5000/#/experiments/1                                                                                                   \n",
      "\n",
      "🏃 View run rogue-ray-597 at: http://127.0.0.1:5000/#/experiments/1/runs/a1b91063aab640e4aa425927584e37b9                                                      \n",
      "\n",
      "🧪 View experiment at: http://127.0.0.1:5000/#/experiments/1                                                                                                   \n",
      "\n",
      " 48%|██████████████████████████████████████████▏                                             | 48/100 [02:52<09:10, 10.58s/trial, best loss: 0.879071661237785]"
     ]
    },
    {
     "name": "stderr",
     "output_type": "stream",
     "text": [
      "/home/codespace/.local/lib/python3.12/site-packages/sklearn/svm/_base.py:1243: ConvergenceWarning: Liblinear failed to converge, increase the number of iterations.\n",
      "  warnings.warn(\n",
      "\n"
     ]
    },
    {
     "name": "stdout",
     "output_type": "stream",
     "text": [
      "🏃 View run aged-mink-227 at: http://127.0.0.1:5000/#/experiments/1/runs/b160bef267f54bb1861797ac227dbd1a                                                      \n",
      "\n",
      "🧪 View experiment at: http://127.0.0.1:5000/#/experiments/1                                                                                                   \n",
      "\n",
      "🏃 View run clean-robin-616 at: http://127.0.0.1:5000/#/experiments/1/runs/c8eea6211b674770aa10ea66ff395358                                                    \n",
      "\n",
      "🧪 View experiment at: http://127.0.0.1:5000/#/experiments/1                                                                                                   \n",
      "\n",
      "🏃 View run rebellious-shrew-240 at: http://127.0.0.1:5000/#/experiments/1/runs/7205ed4b580d40ae9834dfcb5efd5ac4                                               \n",
      "\n",
      "🧪 View experiment at: http://127.0.0.1:5000/#/experiments/1                                                                                                   \n",
      "\n",
      "🏃 View run serious-wren-855 at: http://127.0.0.1:5000/#/experiments/1/runs/10b9507d29404eb3a545d0818d3ff6ca                                                   \n",
      "\n",
      "🧪 View experiment at: http://127.0.0.1:5000/#/experiments/1                                                                                                   \n",
      "\n",
      "🏃 View run chill-grub-8 at: http://127.0.0.1:5000/#/experiments/1/runs/072338a88d8340b0b0025b79eb2892c0                                                       \n",
      "\n",
      "🧪 View experiment at: http://127.0.0.1:5000/#/experiments/1                                                                                                   \n",
      "\n",
      "🏃 View run amazing-shrike-78 at: http://127.0.0.1:5000/#/experiments/1/runs/1f72fba2337a47d38b78df28b15b3170                                                  \n",
      "\n",
      "🧪 View experiment at: http://127.0.0.1:5000/#/experiments/1                                                                                                   \n",
      "\n",
      "🏃 View run fun-koi-831 at: http://127.0.0.1:5000/#/experiments/1/runs/2ab189ec757148cc936a87d6beece628                                                        \n",
      "\n",
      "🧪 View experiment at: http://127.0.0.1:5000/#/experiments/1                                                                                                   \n",
      "\n",
      "🏃 View run angry-hare-903 at: http://127.0.0.1:5000/#/experiments/1/runs/e886c5be8a8a49e0aa575dea45d3f26c                                                     \n",
      "\n",
      "🧪 View experiment at: http://127.0.0.1:5000/#/experiments/1                                                                                                   \n",
      "\n",
      "🏃 View run wise-seal-570 at: http://127.0.0.1:5000/#/experiments/1/runs/8857939d06da4a8c95b12be64ce2acd1                                                      \n",
      "\n",
      "🧪 View experiment at: http://127.0.0.1:5000/#/experiments/1                                                                                                   \n",
      "\n",
      "🏃 View run gregarious-cub-458 at: http://127.0.0.1:5000/#/experiments/1/runs/3f60d0ba106b4addab0ec571ef5e4154                                                 \n",
      "\n",
      "🧪 View experiment at: http://127.0.0.1:5000/#/experiments/1                                                                                                   \n",
      "\n",
      "🏃 View run abundant-wasp-9 at: http://127.0.0.1:5000/#/experiments/1/runs/7d66e050a482427599b57aff7477f793                                                    \n",
      "\n",
      "🧪 View experiment at: http://127.0.0.1:5000/#/experiments/1                                                                                                   \n",
      "\n",
      "🏃 View run burly-bear-419 at: http://127.0.0.1:5000/#/experiments/1/runs/61e2a054d2a24df4a4d940bc0ebc60fe                                                     \n",
      "\n",
      "🧪 View experiment at: http://127.0.0.1:5000/#/experiments/1                                                                                                   \n",
      "\n",
      "🏃 View run sassy-sow-388 at: http://127.0.0.1:5000/#/experiments/1/runs/1869509ea76348908bdc906234e4f313                                                      \n",
      "\n",
      "🧪 View experiment at: http://127.0.0.1:5000/#/experiments/1                                                                                                   \n",
      "\n",
      "🏃 View run treasured-mink-561 at: http://127.0.0.1:5000/#/experiments/1/runs/5f43e08f75084e94a454f6f98621607f                                                 \n",
      "\n",
      "🧪 View experiment at: http://127.0.0.1:5000/#/experiments/1                                                                                                   \n",
      "\n",
      "🏃 View run agreeable-dolphin-69 at: http://127.0.0.1:5000/#/experiments/1/runs/0c52413b2ba94a2b98e098e9b3c82f32                                               \n",
      "\n",
      "🧪 View experiment at: http://127.0.0.1:5000/#/experiments/1                                                                                                   \n",
      "\n",
      "🏃 View run clumsy-rook-252 at: http://127.0.0.1:5000/#/experiments/1/runs/3164f1c6a7e7442e8bf49749c592fa3e                                                    \n",
      "\n",
      "🧪 View experiment at: http://127.0.0.1:5000/#/experiments/1                                                                                                   \n",
      "\n",
      "🏃 View run persistent-fowl-592 at: http://127.0.0.1:5000/#/experiments/1/runs/fa9296acb68749eba3f45a8da4fc0f81                                                \n",
      "\n",
      "🧪 View experiment at: http://127.0.0.1:5000/#/experiments/1                                                                                                   \n",
      "\n",
      " 65%|█████████████████████████████████████████████████████████▏                              | 65/100 [03:24<04:04,  6.97s/trial, best loss: 0.879071661237785]"
     ]
    },
    {
     "name": "stderr",
     "output_type": "stream",
     "text": [
      "/home/codespace/.local/lib/python3.12/site-packages/sklearn/svm/_base.py:1243: ConvergenceWarning: Liblinear failed to converge, increase the number of iterations.\n",
      "  warnings.warn(\n",
      "\n"
     ]
    },
    {
     "name": "stdout",
     "output_type": "stream",
     "text": [
      "🏃 View run dashing-crow-683 at: http://127.0.0.1:5000/#/experiments/1/runs/76a42538cc364db39139af9bacdd8476                                                   \n",
      "\n",
      "🧪 View experiment at: http://127.0.0.1:5000/#/experiments/1                                                                                                   \n",
      "\n",
      "🏃 View run zealous-fly-100 at: http://127.0.0.1:5000/#/experiments/1/runs/8c01a3f84f624d2ab1a270f125203f6a                                                    \n",
      "\n",
      "🧪 View experiment at: http://127.0.0.1:5000/#/experiments/1                                                                                                   \n",
      "\n",
      "🏃 View run powerful-cow-485 at: http://127.0.0.1:5000/#/experiments/1/runs/dec3b4d1eb804b20a0e2b9a600a01d5a                                                   \n",
      "\n",
      "🧪 View experiment at: http://127.0.0.1:5000/#/experiments/1                                                                                                   \n",
      "\n",
      "🏃 View run stately-lark-930 at: http://127.0.0.1:5000/#/experiments/1/runs/caacb3ae457b473a9d1aa5fb193ff3af                                                   \n",
      "\n",
      "🧪 View experiment at: http://127.0.0.1:5000/#/experiments/1                                                                                                   \n",
      "\n",
      "🏃 View run polite-swan-997 at: http://127.0.0.1:5000/#/experiments/1/runs/c713c9bd25ec410485f9d1641f1f7c34                                                    \n",
      "\n",
      "🧪 View experiment at: http://127.0.0.1:5000/#/experiments/1                                                                                                   \n",
      "\n",
      "🏃 View run carefree-slug-462 at: http://127.0.0.1:5000/#/experiments/1/runs/ac71d212a0f441fb95321029016a95f4                                                  \n",
      "\n",
      "🧪 View experiment at: http://127.0.0.1:5000/#/experiments/1                                                                                                   \n",
      "\n",
      "🏃 View run gregarious-bass-809 at: http://127.0.0.1:5000/#/experiments/1/runs/cea470795bfb4375896f3b73cb0b8734                                                \n",
      "\n",
      "🧪 View experiment at: http://127.0.0.1:5000/#/experiments/1                                                                                                   \n",
      "\n",
      "🏃 View run learned-hare-702 at: http://127.0.0.1:5000/#/experiments/1/runs/022500f638e74eeaae64e564fa0a2110                                                   \n",
      "\n",
      "🧪 View experiment at: http://127.0.0.1:5000/#/experiments/1                                                                                                   \n",
      "\n",
      "🏃 View run flawless-jay-563 at: http://127.0.0.1:5000/#/experiments/1/runs/6cce63857fff429dbc7411fbf3963d38                                                   \n",
      "\n",
      "🧪 View experiment at: http://127.0.0.1:5000/#/experiments/1                                                                                                   \n",
      "\n",
      "🏃 View run masked-ox-473 at: http://127.0.0.1:5000/#/experiments/1/runs/87d23dd2acf444d6b81a8a4f46695188                                                      \n",
      "\n",
      "🧪 View experiment at: http://127.0.0.1:5000/#/experiments/1                                                                                                   \n",
      "\n",
      "🏃 View run spiffy-snake-584 at: http://127.0.0.1:5000/#/experiments/1/runs/fc29bf8a68274e638550d006b2197bcb                                                   \n",
      "\n",
      "🧪 View experiment at: http://127.0.0.1:5000/#/experiments/1                                                                                                   \n",
      "\n",
      "🏃 View run dashing-grouse-113 at: http://127.0.0.1:5000/#/experiments/1/runs/9fd5f08eb188470197d2b822e801540e                                                 \n",
      "\n",
      "🧪 View experiment at: http://127.0.0.1:5000/#/experiments/1                                                                                                   \n",
      "\n",
      "🏃 View run flawless-smelt-265 at: http://127.0.0.1:5000/#/experiments/1/runs/e9d3f577260343bda3f405eee6a5a7e1                                                 \n",
      "\n",
      "🧪 View experiment at: http://127.0.0.1:5000/#/experiments/1                                                                                                   \n",
      "\n",
      "🏃 View run intelligent-deer-122 at: http://127.0.0.1:5000/#/experiments/1/runs/874074601de34af6ac540c10849e93db                                               \n",
      "\n",
      "🧪 View experiment at: http://127.0.0.1:5000/#/experiments/1                                                                                                   \n",
      "\n",
      " 79%|████████████████████████████████████████████████████████████████████▋                  | 79/100 [03:42<01:27,  4.17s/trial, best loss: 0.8789087947882737]"
     ]
    },
    {
     "name": "stderr",
     "output_type": "stream",
     "text": [
      "/home/codespace/.local/lib/python3.12/site-packages/sklearn/svm/_base.py:1243: ConvergenceWarning: Liblinear failed to converge, increase the number of iterations.\n",
      "  warnings.warn(\n",
      "\n"
     ]
    },
    {
     "name": "stdout",
     "output_type": "stream",
     "text": [
      "🏃 View run gaudy-snipe-161 at: http://127.0.0.1:5000/#/experiments/1/runs/03a50b0fd0e54c7696f1480cb08ed06e                                                    \n",
      "\n",
      "🧪 View experiment at: http://127.0.0.1:5000/#/experiments/1                                                                                                   \n",
      "\n",
      "🏃 View run thoughtful-finch-128 at: http://127.0.0.1:5000/#/experiments/1/runs/118cb1f145ca428f864158bc02266b62                                               \n",
      "\n",
      "🧪 View experiment at: http://127.0.0.1:5000/#/experiments/1                                                                                                   \n",
      "\n",
      "🏃 View run capricious-squid-56 at: http://127.0.0.1:5000/#/experiments/1/runs/c715466ababd4c499d9616904bd7703c                                                \n",
      "\n",
      "🧪 View experiment at: http://127.0.0.1:5000/#/experiments/1                                                                                                   \n",
      "\n",
      " 82%|███████████████████████████████████████████████████████████████████████▎               | 82/100 [03:54<01:21,  4.55s/trial, best loss: 0.8789087947882737]"
     ]
    },
    {
     "name": "stderr",
     "output_type": "stream",
     "text": [
      "/home/codespace/.local/lib/python3.12/site-packages/sklearn/svm/_base.py:1243: ConvergenceWarning: Liblinear failed to converge, increase the number of iterations.\n",
      "  warnings.warn(\n",
      "\n"
     ]
    },
    {
     "name": "stdout",
     "output_type": "stream",
     "text": [
      "🏃 View run dazzling-kite-22 at: http://127.0.0.1:5000/#/experiments/1/runs/0d561485833640dcb4a535c99416be99                                                   \n",
      "\n",
      "🧪 View experiment at: http://127.0.0.1:5000/#/experiments/1                                                                                                   \n",
      "\n",
      "🏃 View run awesome-vole-908 at: http://127.0.0.1:5000/#/experiments/1/runs/a82dcbf05f5d4cf299e94d934422cdfc                                                   \n",
      "\n",
      "🧪 View experiment at: http://127.0.0.1:5000/#/experiments/1                                                                                                   \n",
      "\n",
      "🏃 View run respected-tern-43 at: http://127.0.0.1:5000/#/experiments/1/runs/0b4930f7eab142928a651ae023f51d05                                                  \n",
      "\n",
      "🧪 View experiment at: http://127.0.0.1:5000/#/experiments/1                                                                                                   \n",
      "\n",
      "🏃 View run clean-sow-681 at: http://127.0.0.1:5000/#/experiments/1/runs/b18b85f9fcca4434973823aa73ae281d                                                      \n",
      "\n",
      "🧪 View experiment at: http://127.0.0.1:5000/#/experiments/1                                                                                                   \n",
      "\n",
      "🏃 View run lyrical-snake-891 at: http://127.0.0.1:5000/#/experiments/1/runs/832bc33cdfa947c18e711ea7d99a2b36                                                  \n",
      "\n",
      "🧪 View experiment at: http://127.0.0.1:5000/#/experiments/1                                                                                                   \n",
      "\n",
      "🏃 View run tasteful-cat-168 at: http://127.0.0.1:5000/#/experiments/1/runs/33c280e137604388bd79e0ec7ffe1bc7                                                   \n",
      "\n",
      "🧪 View experiment at: http://127.0.0.1:5000/#/experiments/1                                                                                                   \n",
      "\n",
      "🏃 View run sincere-eel-347 at: http://127.0.0.1:5000/#/experiments/1/runs/452b8aa4b89b47bcad3aa644a3345788                                                    \n",
      "\n",
      "🧪 View experiment at: http://127.0.0.1:5000/#/experiments/1                                                                                                   \n",
      "\n",
      "🏃 View run gentle-frog-916 at: http://127.0.0.1:5000/#/experiments/1/runs/732775e197154b8ea8eb77200705160e                                                    \n",
      "\n",
      "🧪 View experiment at: http://127.0.0.1:5000/#/experiments/1                                                                                                   \n",
      "\n",
      "🏃 View run bold-sheep-296 at: http://127.0.0.1:5000/#/experiments/1/runs/9857aa6868bd412e851b71854bc60639                                                     \n",
      "\n",
      "🧪 View experiment at: http://127.0.0.1:5000/#/experiments/1                                                                                                   \n",
      "\n",
      "🏃 View run gentle-sponge-796 at: http://127.0.0.1:5000/#/experiments/1/runs/5f7f3ecde09b45cd8f36f60ebf6a465d                                                  \n",
      "\n",
      "🧪 View experiment at: http://127.0.0.1:5000/#/experiments/1                                                                                                   \n",
      "\n",
      "🏃 View run illustrious-cub-599 at: http://127.0.0.1:5000/#/experiments/1/runs/0aba432c2c7a48ab91663aa1d9f5006c                                                \n",
      "\n",
      "🧪 View experiment at: http://127.0.0.1:5000/#/experiments/1                                                                                                   \n",
      "\n",
      "🏃 View run rogue-dolphin-477 at: http://127.0.0.1:5000/#/experiments/1/runs/6cf606074e754eedb12421c0269cc596                                                  \n",
      "\n",
      "🧪 View experiment at: http://127.0.0.1:5000/#/experiments/1                                                                                                   \n",
      "\n",
      "🏃 View run bemused-stoat-382 at: http://127.0.0.1:5000/#/experiments/1/runs/86f6d85726b945e1a9a82edc5684795b                                                  \n",
      "\n",
      "🧪 View experiment at: http://127.0.0.1:5000/#/experiments/1                                                                                                   \n",
      "\n",
      "🏃 View run brawny-stoat-857 at: http://127.0.0.1:5000/#/experiments/1/runs/f45fb3d5cbb945ddaa776940a5afe341                                                   \n",
      "\n",
      "🧪 View experiment at: http://127.0.0.1:5000/#/experiments/1                                                                                                   \n",
      "\n",
      "🏃 View run nimble-fox-776 at: http://127.0.0.1:5000/#/experiments/1/runs/fa45954e5d0c40d7973bf1c7981e29dd                                                     \n",
      "\n",
      "🧪 View experiment at: http://127.0.0.1:5000/#/experiments/1                                                                                                   \n",
      "\n",
      "🏃 View run adaptable-hen-248 at: http://127.0.0.1:5000/#/experiments/1/runs/1074f07e2fca49ef9c601a650e7c5d79                                                  \n",
      "\n",
      "🧪 View experiment at: http://127.0.0.1:5000/#/experiments/1                                                                                                   \n",
      "\n",
      "🏃 View run bouncy-bear-245 at: http://127.0.0.1:5000/#/experiments/1/runs/ad234097afbb48e9a04e8932495b5182                                                    \n",
      "\n",
      "🧪 View experiment at: http://127.0.0.1:5000/#/experiments/1                                                                                                   \n",
      "\n",
      " 99%|██████████████████████████████████████████████████████████████████████████████████████▏| 99/100 [04:50<00:06,  6.59s/trial, best loss: 0.8789087947882737]"
     ]
    },
    {
     "name": "stderr",
     "output_type": "stream",
     "text": [
      "/home/codespace/.local/lib/python3.12/site-packages/sklearn/svm/_base.py:1243: ConvergenceWarning: Liblinear failed to converge, increase the number of iterations.\n",
      "  warnings.warn(\n",
      "\n"
     ]
    },
    {
     "name": "stdout",
     "output_type": "stream",
     "text": [
      "🏃 View run nebulous-dog-350 at: http://127.0.0.1:5000/#/experiments/1/runs/973d73e3c86c4e6b83560185f13f8a49                                                   \n",
      "\n",
      "🧪 View experiment at: http://127.0.0.1:5000/#/experiments/1                                                                                                   \n",
      "\n",
      "100%|██████████████████████████████████████████████████████████████████████████████████████| 100/100 [04:53<00:00,  2.93s/trial, best loss: 0.8789087947882737]\n"
     ]
    }
   ],
   "source": [
    "search_space_svc = {\n",
    "    \"C\": hp.loguniform(\"C\", np.log(0.01), np.log(10)),\n",
    "    \"class_weight\": hp.choice(\"class_weight\", [None, \"balanced\"]),\n",
    "    \"loss\": hp.choice(\"loss\", [\"hinge\", \"squared_hinge\"]),  # Unterschiedliche Verlustfunktionen testen\n",
    "    \"max_iter\": scope.int(hp.quniform(\"max_iter\", 100, 5000, 100))\n",
    "}\n",
    "\n",
    "run_optimization(X_train_tfidf, y_train, X_val_tfidf, y_val, model_name='LinearSVC', search_space=search_space_svc, num_trials=100)"
   ]
  },
  {
   "cell_type": "code",
   "execution_count": null,
   "id": "0f06a569-03f3-4102-acc5-2960c919e987",
   "metadata": {},
   "outputs": [],
   "source": []
  }
 ],
 "metadata": {
  "kernelspec": {
   "display_name": "Python 3 (ipykernel)",
   "language": "python",
   "name": "python3"
  },
  "language_info": {
   "codemirror_mode": {
    "name": "ipython",
    "version": 3
   },
   "file_extension": ".py",
   "mimetype": "text/x-python",
   "name": "python",
   "nbconvert_exporter": "python",
   "pygments_lexer": "ipython3",
   "version": "3.12.2"
  }
 },
 "nbformat": 4,
 "nbformat_minor": 5
}
