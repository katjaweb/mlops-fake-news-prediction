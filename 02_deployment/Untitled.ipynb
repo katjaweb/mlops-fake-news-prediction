{
 "cells": [
  {
   "cell_type": "code",
   "execution_count": 1,
   "id": "051cae61-f0f7-40bb-abd4-05237461e507",
   "metadata": {},
   "outputs": [
    {
     "ename": "ModuleNotFoundError",
     "evalue": "No module named 'utils'",
     "output_type": "error",
     "traceback": [
      "\u001b[31m---------------------------------------------------------------------------\u001b[39m",
      "\u001b[31mModuleNotFoundError\u001b[39m                       Traceback (most recent call last)",
      "\u001b[36mCell\u001b[39m\u001b[36m \u001b[39m\u001b[32mIn[1]\u001b[39m\u001b[32m, line 2\u001b[39m\n\u001b[32m      1\u001b[39m \u001b[38;5;28;01mimport\u001b[39;00m\u001b[38;5;250m \u001b[39m\u001b[34;01mimportlib\u001b[39;00m\n\u001b[32m----> \u001b[39m\u001b[32m2\u001b[39m \u001b[38;5;28;01mimport\u001b[39;00m\u001b[38;5;250m \u001b[39m\u001b[34;01mutils\u001b[39;00m\u001b[34;01m.\u001b[39;00m\u001b[34;01mutilityFunctions\u001b[39;00m\u001b[38;5;250m \u001b[39m\u001b[38;5;28;01mas\u001b[39;00m\u001b[38;5;250m \u001b[39m\u001b[34;01mutilityFunctions\u001b[39;00m\n\u001b[32m      3\u001b[39m importlib.reload(utilityFunctions)\n",
      "\u001b[31mModuleNotFoundError\u001b[39m: No module named 'utils'"
     ]
    }
   ],
   "source": [
    "import importlib\n",
    "import utils.utilityFunctions as utilityFunctions\n",
    "importlib.reload(utilityFunctions)"
   ]
  },
  {
   "cell_type": "code",
   "execution_count": 1,
   "id": "c4e530d1-7006-4672-ae87-34a09e219dd3",
   "metadata": {},
   "outputs": [
    {
     "data": {
      "text/plain": [
       "[<ModelVersion: aliases=[], creation_timestamp=1745050106210, current_stage='Production', description='0.9769543973941368', last_updated_timestamp=1745050106279, name='fake-news-model', run_id='9b82918f9f3842a989fef8930c7fd016', run_link='', source='s3://fake-news-prediction/4/9b82918f9f3842a989fef8930c7fd016/artifacts/model', status='READY', status_message=None, tags={}, user_id='', version='2'>,\n",
       " <ModelVersion: aliases=[], creation_timestamp=1745049916172, current_stage='Archived', description='0.9561074918566775', last_updated_timestamp=1745050106235, name='fake-news-model', run_id='44139c0cd6e84b7e8ba09700e0f8c639', run_link='', source='s3://fake-news-prediction/4/44139c0cd6e84b7e8ba09700e0f8c639/artifacts/model', status='READY', status_message=None, tags={}, user_id='', version='1'>]"
      ]
     },
     "execution_count": 1,
     "metadata": {},
     "output_type": "execute_result"
    }
   ],
   "source": [
    "from mlflow.tracking import MlflowClient\n",
    "import mlflow\n",
    "\n",
    "mlflow.set_tracking_uri(\"http://127.0.0.1:5000\")\n",
    "\n",
    "client = MlflowClient()\n",
    "model_name = \"fake-news-model\"\n",
    "\n",
    "# Alle Versionen abrufen\n",
    "versions = client.search_model_versions(f\"name='{model_name}'\")\n",
    "\n",
    "versions"
   ]
  },
  {
   "cell_type": "code",
   "execution_count": 2,
   "id": "32adcbaf-791f-4a8f-b58c-16e501167f9a",
   "metadata": {},
   "outputs": [
    {
     "name": "stderr",
     "output_type": "stream",
     "text": [
      "/tmp/ipykernel_47024/870365967.py:3: FutureWarning: ``mlflow.tracking.client.MlflowClient.transition_model_version_stage`` is deprecated since 2.9.0. Model registry stages will be removed in a future major release. To learn more about the deprecation of model registry stages, see our migration guide here: https://mlflow.org/docs/latest/model-registry.html#migrating-from-stages\n",
      "  client.transition_model_version_stage(\n"
     ]
    }
   ],
   "source": [
    "for v in versions:\n",
    "    if v.current_stage != \"Archived\":\n",
    "        client.transition_model_version_stage(\n",
    "            name=model_name,\n",
    "            version=v.version,\n",
    "            stage=\"Archived\"\n",
    "        )\n",
    "    client.delete_model_version(name=model_name, version=v.version)\n",
    "\n",
    "# Jetzt kannst du das registrierte Modell löschen\n",
    "client.delete_registered_model(name=model_name)"
   ]
  },
  {
   "cell_type": "code",
   "execution_count": 42,
   "id": "3f430ad6-47a3-43d6-8bd0-413ef4f4d19b",
   "metadata": {},
   "outputs": [
    {
     "data": {
      "application/vnd.jupyter.widget-view+json": {
       "model_id": "af0b629e527845d4ad9f268fcb591723",
       "version_major": 2,
       "version_minor": 0
      },
      "text/plain": [
       "Downloading artifacts:   0%|          | 0/5 [00:00<?, ?it/s]"
      ]
     },
     "metadata": {},
     "output_type": "display_data"
    },
    {
     "data": {
      "application/vnd.jupyter.widget-view+json": {
       "model_id": "0b4bd2c3a82241a598cbf04ca3141f9b",
       "version_major": 2,
       "version_minor": 0
      },
      "text/plain": [
       "Downloading artifacts:   0%|          | 0/1 [00:00<?, ?it/s]"
      ]
     },
     "metadata": {},
     "output_type": "display_data"
    }
   ],
   "source": [
    "import joblib\n",
    "import mlflow\n",
    "from mlflow.tracking import MlflowClient\n",
    "\n",
    "MLFLOW_TRACKING_URI = 'http://127.0.0.1:5000'\n",
    "mlflow.set_tracking_uri(MLFLOW_TRACKING_URI)\n",
    "\n",
    "model_name = \"fake-news-model\"\n",
    "version = client.get_model_version_by_alias(name=model_name, alias=\"Production\")\n",
    "RUN_ID = version.run_id\n",
    "\n",
    "logged_model = f'runs:/{RUN_ID}/models'\n",
    "model = mlflow.pyfunc.load_model(logged_model)\n",
    "\n",
    "local_path = mlflow.artifacts.download_artifacts(run_id=RUN_ID, artifact_path=\"preprocessor.joblib\")\n",
    "preprocessor = joblib.load(local_path)"
   ]
  },
  {
   "cell_type": "code",
   "execution_count": 5,
   "id": "a56593c8-ec76-45bc-b45f-911476aa2ec6",
   "metadata": {},
   "outputs": [
    {
     "data": {
      "text/html": [
       "<div>\n",
       "<style scoped>\n",
       "    .dataframe tbody tr th:only-of-type {\n",
       "        vertical-align: middle;\n",
       "    }\n",
       "\n",
       "    .dataframe tbody tr th {\n",
       "        vertical-align: top;\n",
       "    }\n",
       "\n",
       "    .dataframe thead th {\n",
       "        text-align: right;\n",
       "    }\n",
       "</style>\n",
       "<table border=\"1\" class=\"dataframe\">\n",
       "  <thead>\n",
       "    <tr style=\"text-align: right;\">\n",
       "      <th></th>\n",
       "      <th>title</th>\n",
       "      <th>text</th>\n",
       "    </tr>\n",
       "  </thead>\n",
       "  <tbody>\n",
       "    <tr>\n",
       "      <th>0</th>\n",
       "      <td>In RARE Case Of Factual Reporting, Fox Shows ...</td>\n",
       "      <td>For a party so terribly interested in governin...</td>\n",
       "    </tr>\n",
       "  </tbody>\n",
       "</table>\n",
       "</div>"
      ],
      "text/plain": [
       "                                               title  \\\n",
       "0   In RARE Case Of Factual Reporting, Fox Shows ...   \n",
       "\n",
       "                                                text  \n",
       "0  For a party so terribly interested in governin...  "
      ]
     },
     "execution_count": 5,
     "metadata": {},
     "output_type": "execute_result"
    }
   ],
   "source": [
    "import pandas as pd\n",
    "\n",
    "news = {\n",
    "    \"title\": ' In RARE Case Of Factual Reporting, Fox Shows How Cruz Is Too Stupid To Run For President (VIDEO)',\n",
    "    \"text\": 'For a party so terribly interested in governing this country, Republicans sure do lack the basic knowledge about how governing actually works. One of the latest examples of this is Ted Cruz and his choice to pick a vice presidential running mate at this stage in the process. In an incredibly rare case of factual reporting, Fox News explained in detail exactly why Cruz completely screwed up by doing this in the video below.Cruz made a huge deal out of the fact he picked a VP. He had a press conference just to announce it. Signs were made, people were cheering and then it turned out to be   Carly Fiorina? Her low popularity makes her a strange choice, but when you re Ted Cruz it s very likely you can t get a lot of the more popular people to hang out with you.Unpopularity aside, Cruz s pick of a VP is actually pretty ignorant for another reason   and this has nothing to do with Carly the Wicked Stepmother. There s virtually no chance that Ted Cruz will get the nomination outright. He would come up about 100 delegates short, even if he won every single one of them from here on out. This means that if Trump doesn t win outright (which he still can), the only hope Cruz has is a contested convention.That s where things completely go wrong for Cruz. Convention rules clearly state that a nominee cannot pick their own VP in a contested convention. The VP pick is up to the delegates, and if one were to make an educated guess, Carly Fiorina would NOT make the cut.Carly Fiorina s popularity is non-existent. Her entire campaign only lasted for two states, and then she was out. Convention delegates are extremely unlikely to pick a VP who they feel would be damaging to the party s chances of winning in November. So, this begs the question, did Ted even bother to read up on the rules of how you run a campaign for the presidency? Imagine his embarrassment after all the hoopla surrounding his pick, only to have her booted at the RNC.Watch Fox News explain how Ted Cruz has no clue how running for president works:Featured image via Scott Olson/Getty Images'\n",
    "}\n",
    "\n",
    "type(news)\n",
    "\n",
    "pd.DataFrame([news])"
   ]
  },
  {
   "cell_type": "code",
   "execution_count": 7,
   "id": "9c362214-d16e-49a7-9eb5-7dd0937235bf",
   "metadata": {},
   "outputs": [],
   "source": [
    "import os\n",
    "import sys\n",
    "sys.path.append(os.path.abspath('..'))\n",
    "from utils.utilityFunctions import prepare_features, apply_text_cleaner, load_file_s3"
   ]
  },
  {
   "cell_type": "code",
   "execution_count": 10,
   "id": "0a267cda-376b-467e-abb3-a902bbb7a95f",
   "metadata": {},
   "outputs": [
    {
     "data": {
      "text/html": [
       "<div>\n",
       "<style scoped>\n",
       "    .dataframe tbody tr th:only-of-type {\n",
       "        vertical-align: middle;\n",
       "    }\n",
       "\n",
       "    .dataframe tbody tr th {\n",
       "        vertical-align: top;\n",
       "    }\n",
       "\n",
       "    .dataframe thead th {\n",
       "        text-align: right;\n",
       "    }\n",
       "</style>\n",
       "<table border=\"1\" class=\"dataframe\">\n",
       "  <thead>\n",
       "    <tr style=\"text-align: right;\">\n",
       "      <th></th>\n",
       "      <th>text_word_count</th>\n",
       "      <th>title_word_count</th>\n",
       "      <th>text_unique_words</th>\n",
       "      <th>text_char_count</th>\n",
       "      <th>title_char_count</th>\n",
       "      <th>avg_word_length</th>\n",
       "      <th>sentence_count</th>\n",
       "      <th>special_char_count</th>\n",
       "      <th>sentiment</th>\n",
       "      <th>title_text_clean</th>\n",
       "    </tr>\n",
       "  </thead>\n",
       "  <tbody>\n",
       "    <tr>\n",
       "      <th>0</th>\n",
       "      <td>218</td>\n",
       "      <td>10</td>\n",
       "      <td>145</td>\n",
       "      <td>1059</td>\n",
       "      <td>53</td>\n",
       "      <td>4.857798</td>\n",
       "      <td>11</td>\n",
       "      <td>29</td>\n",
       "      <td>0.010000</td>\n",
       "      <td>prosecutor link suspect arrest last week near ...</td>\n",
       "    </tr>\n",
       "    <tr>\n",
       "      <th>1</th>\n",
       "      <td>182</td>\n",
       "      <td>11</td>\n",
       "      <td>123</td>\n",
       "      <td>1012</td>\n",
       "      <td>72</td>\n",
       "      <td>5.560440</td>\n",
       "      <td>9</td>\n",
       "      <td>37</td>\n",
       "      <td>-0.085714</td>\n",
       "      <td>breaking nyc protest get ugly anti american pr...</td>\n",
       "    </tr>\n",
       "    <tr>\n",
       "      <th>2</th>\n",
       "      <td>333</td>\n",
       "      <td>9</td>\n",
       "      <td>211</td>\n",
       "      <td>1670</td>\n",
       "      <td>65</td>\n",
       "      <td>5.015015</td>\n",
       "      <td>16</td>\n",
       "      <td>39</td>\n",
       "      <td>-0.032335</td>\n",
       "      <td>former republican senator endorses hillary cl...</td>\n",
       "    </tr>\n",
       "    <tr>\n",
       "      <th>3</th>\n",
       "      <td>308</td>\n",
       "      <td>10</td>\n",
       "      <td>211</td>\n",
       "      <td>1689</td>\n",
       "      <td>53</td>\n",
       "      <td>5.483766</td>\n",
       "      <td>21</td>\n",
       "      <td>56</td>\n",
       "      <td>0.082809</td>\n",
       "      <td>urge trump expand obamacare ensure healthcare ...</td>\n",
       "    </tr>\n",
       "    <tr>\n",
       "      <th>4</th>\n",
       "      <td>1430</td>\n",
       "      <td>18</td>\n",
       "      <td>635</td>\n",
       "      <td>6821</td>\n",
       "      <td>72</td>\n",
       "      <td>4.769930</td>\n",
       "      <td>62</td>\n",
       "      <td>228</td>\n",
       "      <td>0.050010</td>\n",
       "      <td>late test white house pull easter egg roll new...</td>\n",
       "    </tr>\n",
       "  </tbody>\n",
       "</table>\n",
       "</div>"
      ],
      "text/plain": [
       "   text_word_count  title_word_count  text_unique_words  text_char_count  \\\n",
       "0              218                10                145             1059   \n",
       "1              182                11                123             1012   \n",
       "2              333                 9                211             1670   \n",
       "3              308                10                211             1689   \n",
       "4             1430                18                635             6821   \n",
       "\n",
       "   title_char_count  avg_word_length  sentence_count  special_char_count  \\\n",
       "0                53         4.857798              11                  29   \n",
       "1                72         5.560440               9                  37   \n",
       "2                65         5.015015              16                  39   \n",
       "3                53         5.483766              21                  56   \n",
       "4                72         4.769930              62                 228   \n",
       "\n",
       "   sentiment                                   title_text_clean  \n",
       "0   0.010000  prosecutor link suspect arrest last week near ...  \n",
       "1  -0.085714  breaking nyc protest get ugly anti american pr...  \n",
       "2  -0.032335   former republican senator endorses hillary cl...  \n",
       "3   0.082809  urge trump expand obamacare ensure healthcare ...  \n",
       "4   0.050010  late test white house pull easter egg roll new...  "
      ]
     },
     "execution_count": 10,
     "metadata": {},
     "output_type": "execute_result"
    }
   ],
   "source": [
    "df = load_file_s3('fake-news-prediction', 'datasets/X_train_2025-04-08.parquet', 'parquet')\n",
    "df.head()"
   ]
  },
  {
   "cell_type": "code",
   "execution_count": 11,
   "id": "dc04185a-d871-4842-92f0-a40970952ce3",
   "metadata": {},
   "outputs": [],
   "source": [
    "X_val = load_file_s3('fake-news-prediction', 'datasets/X_val.parquet', 'parquet')\n",
    "X_example = X_val[['title', 'text']]\n",
    "X_example = X_example[:100]"
   ]
  },
  {
   "cell_type": "code",
   "execution_count": 15,
   "id": "8d2b565f-25c9-4748-8d6b-95881709eafd",
   "metadata": {},
   "outputs": [
    {
     "data": {
      "text/plain": [
       "'Evangelical Jerry Falwell Jr. to head Trump education task force'"
      ]
     },
     "execution_count": 15,
     "metadata": {},
     "output_type": "execute_result"
    }
   ],
   "source": [
    "X_val.loc[3,'title']"
   ]
  },
  {
   "cell_type": "code",
   "execution_count": 43,
   "id": "0d9a12d9-f57f-41b2-a6c3-74a598f50a7e",
   "metadata": {},
   "outputs": [
    {
     "name": "stderr",
     "output_type": "stream",
     "text": [
      "/home/codespace/.local/lib/python3.12/site-packages/sklearn/utils/validation.py:2739: UserWarning: X does not have valid feature names, but LGBMClassifier was fitted with feature names\n",
      "  warnings.warn(\n"
     ]
    }
   ],
   "source": [
    "X = preprocessor.transform(X_example)\n",
    "preds = model.predict(X)"
   ]
  },
  {
   "cell_type": "code",
   "execution_count": 44,
   "id": "50a905bf-997e-408c-8a23-c4ae96c5e8fc",
   "metadata": {},
   "outputs": [
    {
     "data": {
      "text/plain": [
       "array([0, 1, 0, 1, 1, 1, 0, 0, 0, 0, 0, 0, 1, 0, 1, 1, 1, 1, 0, 1, 0, 1,\n",
       "       1, 0, 1, 0, 1, 1, 0, 1, 0, 0, 0, 1, 1, 0, 1, 0, 1, 0, 1, 0, 1, 1,\n",
       "       0, 1, 0, 1, 0, 1, 1, 0, 0, 1, 0, 0, 1, 1, 1, 0, 1, 0, 1, 0, 1, 1,\n",
       "       1, 1, 0, 0, 1, 0, 1, 0, 0, 1, 1, 1, 0, 0, 0, 0, 0, 0, 0, 0, 0, 0,\n",
       "       1, 1, 0, 0, 0, 0, 0, 1, 0, 0, 1, 0])"
      ]
     },
     "execution_count": 44,
     "metadata": {},
     "output_type": "execute_result"
    }
   ],
   "source": [
    "preds"
   ]
  },
  {
   "cell_type": "code",
   "execution_count": 39,
   "id": "43edb674-95a7-40e3-88d9-f2ab47e9439a",
   "metadata": {},
   "outputs": [
    {
     "name": "stderr",
     "output_type": "stream",
     "text": [
      "Progress: 100%|███████████████████████████████████████████| 100/100 [00:08<00:00, 11.20it/s]\n"
     ]
    }
   ],
   "source": [
    "import pandas as pd\n",
    "X_example = prepare_features(X_example)\n",
    "X_example = apply_text_cleaner(X_example, column='title_text')"
   ]
  },
  {
   "cell_type": "code",
   "execution_count": 40,
   "id": "b1dd542e-4396-4b8a-b47b-44909fe11c5a",
   "metadata": {},
   "outputs": [
    {
     "data": {
      "text/html": [
       "<div>\n",
       "<style scoped>\n",
       "    .dataframe tbody tr th:only-of-type {\n",
       "        vertical-align: middle;\n",
       "    }\n",
       "\n",
       "    .dataframe tbody tr th {\n",
       "        vertical-align: top;\n",
       "    }\n",
       "\n",
       "    .dataframe thead th {\n",
       "        text-align: right;\n",
       "    }\n",
       "</style>\n",
       "<table border=\"1\" class=\"dataframe\">\n",
       "  <thead>\n",
       "    <tr style=\"text-align: right;\">\n",
       "      <th></th>\n",
       "      <th>text_word_count</th>\n",
       "      <th>title_word_count</th>\n",
       "      <th>text_unique_words</th>\n",
       "      <th>text_char_count</th>\n",
       "      <th>title_char_count</th>\n",
       "      <th>avg_word_length</th>\n",
       "      <th>sentence_count</th>\n",
       "      <th>special_char_count</th>\n",
       "      <th>sentiment</th>\n",
       "      <th>title_text_clean</th>\n",
       "    </tr>\n",
       "  </thead>\n",
       "  <tbody>\n",
       "    <tr>\n",
       "      <th>0</th>\n",
       "      <td>376</td>\n",
       "      <td>18</td>\n",
       "      <td>217</td>\n",
       "      <td>1693</td>\n",
       "      <td>79</td>\n",
       "      <td>4.502660</td>\n",
       "      <td>20</td>\n",
       "      <td>37</td>\n",
       "      <td>0.167725</td>\n",
       "      <td>rare case factual reporting fox show cruz stu...</td>\n",
       "    </tr>\n",
       "    <tr>\n",
       "      <th>1</th>\n",
       "      <td>998</td>\n",
       "      <td>15</td>\n",
       "      <td>438</td>\n",
       "      <td>4949</td>\n",
       "      <td>60</td>\n",
       "      <td>4.958918</td>\n",
       "      <td>62</td>\n",
       "      <td>137</td>\n",
       "      <td>0.095573</td>\n",
       "      <td>trump ’s obamacare promise hard keep new york ...</td>\n",
       "    </tr>\n",
       "    <tr>\n",
       "      <th>2</th>\n",
       "      <td>396</td>\n",
       "      <td>13</td>\n",
       "      <td>238</td>\n",
       "      <td>1958</td>\n",
       "      <td>72</td>\n",
       "      <td>4.944444</td>\n",
       "      <td>18</td>\n",
       "      <td>42</td>\n",
       "      <td>0.076924</td>\n",
       "      <td>nevertrump gopers demand emergency rnc meetin...</td>\n",
       "    </tr>\n",
       "    <tr>\n",
       "      <th>3</th>\n",
       "      <td>332</td>\n",
       "      <td>10</td>\n",
       "      <td>207</td>\n",
       "      <td>1812</td>\n",
       "      <td>55</td>\n",
       "      <td>5.457831</td>\n",
       "      <td>17</td>\n",
       "      <td>50</td>\n",
       "      <td>0.206944</td>\n",
       "      <td>evangelical jerry falwell jr head trump educat...</td>\n",
       "    </tr>\n",
       "    <tr>\n",
       "      <th>4</th>\n",
       "      <td>815</td>\n",
       "      <td>9</td>\n",
       "      <td>453</td>\n",
       "      <td>4387</td>\n",
       "      <td>51</td>\n",
       "      <td>5.325153</td>\n",
       "      <td>63</td>\n",
       "      <td>239</td>\n",
       "      <td>0.063842</td>\n",
       "      <td>surprise donald trump wrong immigrant crime do...</td>\n",
       "    </tr>\n",
       "  </tbody>\n",
       "</table>\n",
       "</div>"
      ],
      "text/plain": [
       "   text_word_count  title_word_count  text_unique_words  text_char_count  \\\n",
       "0              376                18                217             1693   \n",
       "1              998                15                438             4949   \n",
       "2              396                13                238             1958   \n",
       "3              332                10                207             1812   \n",
       "4              815                 9                453             4387   \n",
       "\n",
       "   title_char_count  avg_word_length  sentence_count  special_char_count  \\\n",
       "0                79         4.502660              20                  37   \n",
       "1                60         4.958918              62                 137   \n",
       "2                72         4.944444              18                  42   \n",
       "3                55         5.457831              17                  50   \n",
       "4                51         5.325153              63                 239   \n",
       "\n",
       "   sentiment                                   title_text_clean  \n",
       "0   0.167725   rare case factual reporting fox show cruz stu...  \n",
       "1   0.095573  trump ’s obamacare promise hard keep new york ...  \n",
       "2   0.076924   nevertrump gopers demand emergency rnc meetin...  \n",
       "3   0.206944  evangelical jerry falwell jr head trump educat...  \n",
       "4   0.063842  surprise donald trump wrong immigrant crime do...  "
      ]
     },
     "execution_count": 40,
     "metadata": {},
     "output_type": "execute_result"
    }
   ],
   "source": [
    "X_example.head()"
   ]
  },
  {
   "cell_type": "code",
   "execution_count": null,
   "id": "c61b0822-892c-493e-9e0e-1838a42aa2e5",
   "metadata": {},
   "outputs": [],
   "source": [
    "# import pickle\n",
    "\n",
    "# from flask import Flask, request, jsonify\n",
    "\n",
    "import mlflow\n",
    "from mlflow.tracking import MlflowClient\n",
    "\n",
    "MLFLOW_TRACKING_URI = 'http://127.0.0.1:5000'\n",
    "mlflow.set_tracking_uri(MLFLOW_TRACKING_URI)\n",
    "\n",
    "model_name = \"fake-news-model\"\n",
    "version = client.get_model_version_by_alias(name=model_name, alias=\"Production\")\n",
    "RUN_ID = version.run_id\n",
    "\n",
    "logged_model = f'runs:/{RUN_ID}/model'\n",
    "model = mlflow.pyfunc.load_model(logged_model)\n",
    "\n",
    "\n",
    "def prepare_features(ride):\n",
    "    features = {}\n",
    "    features['PU_DO'] = '%s_%s' % (ride['PULocationID'], ride['DOLocationID'])\n",
    "    features['trip_distance'] = ride['trip_distance']\n",
    "    return features\n",
    "\n",
    "def predict(features):\n",
    "    preds = model.predict(features)\n",
    "    return float(preds[0])\n",
    "\n",
    "app = Flask('duration-prediction')\n",
    "\n",
    "@app.route('/predict', methods=['POST'])\n",
    "def predict_endpoint():\n",
    "    ride = request.get_json()\n",
    "\n",
    "    features = prepare_features(ride)\n",
    "    pred= predict(features)\n",
    "\n",
    "    result = {\n",
    "        'duration': pred,\n",
    "        'model_version': RUN_ID\n",
    "    }\n",
    "\n",
    "    return jsonify(result)\n",
    "\n",
    "if __name__ == \"__main__\":\n",
    "    app.run(debug=True, host='0.0.0.0', port=9696)"
   ]
  }
 ],
 "metadata": {
  "kernelspec": {
   "display_name": "Python 3 (ipykernel)",
   "language": "python",
   "name": "python3"
  },
  "language_info": {
   "codemirror_mode": {
    "name": "ipython",
    "version": 3
   },
   "file_extension": ".py",
   "mimetype": "text/x-python",
   "name": "python",
   "nbconvert_exporter": "python",
   "pygments_lexer": "ipython3",
   "version": "3.12.2"
  }
 },
 "nbformat": 4,
 "nbformat_minor": 5
}
